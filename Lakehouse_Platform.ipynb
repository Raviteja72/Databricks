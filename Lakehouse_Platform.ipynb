{
 "cells": [
  {
   "cell_type": "code",
   "execution_count": 0,
   "metadata": {
    "application/vnd.databricks.v1+cell": {
     "cellMetadata": {
      "byteLimit": 2048000,
      "implicitDf": true,
      "rowLimit": 10000
     },
     "inputWidgets": {},
     "nuid": "6afd3374-cbfc-475c-ace1-07a3be1342ca",
     "showTitle": false,
     "tableResultSettingsMap": {},
     "title": ""
    }
   },
   "outputs": [
    {
     "output_type": "display_data",
     "data": {
      "text/html": [
       "<style scoped>\n",
       "  .table-result-container {\n",
       "    max-height: 300px;\n",
       "    overflow: auto;\n",
       "  }\n",
       "  table, th, td {\n",
       "    border: 1px solid black;\n",
       "    border-collapse: collapse;\n",
       "  }\n",
       "  th, td {\n",
       "    padding: 5px;\n",
       "  }\n",
       "  th {\n",
       "    text-align: left;\n",
       "  }\n",
       "</style><div class='table-result-container'><table class='table-result'><thead style='background-color: white'><tr></tr></thead><tbody></tbody></table></div>"
      ]
     },
     "metadata": {
      "application/vnd.databricks.v1+output": {
       "addedWidgets": {},
       "aggData": [],
       "aggError": "",
       "aggOverflow": false,
       "aggSchema": [],
       "aggSeriesLimitReached": false,
       "aggType": "",
       "arguments": {},
       "columnCustomDisplayInfos": {},
       "data": [],
       "datasetInfos": [],
       "dbfsResultPath": null,
       "isJsonSchema": true,
       "metadata": {},
       "overflow": false,
       "plotOptions": {
        "customPlotOptions": {},
        "displayType": "table",
        "pivotAggregation": null,
        "pivotColumns": null,
        "xColumns": null,
        "yColumns": null
       },
       "removedWidgets": [],
       "schema": [],
       "type": "table"
      }
     },
     "output_type": "display_data"
    }
   ],
   "source": [
    "%sql\n",
    "CREATE OR REPLACE TABLE employee(\n",
    "  id int,\n",
    "  name string,\n",
    "  salary DOUBLE\n",
    ")\n",
    "using DELTA\n",
    "location 'dbfs:/user/hive/warehouse/employee';"
   ]
  },
  {
   "cell_type": "code",
   "execution_count": 0,
   "metadata": {
    "application/vnd.databricks.v1+cell": {
     "cellMetadata": {
      "byteLimit": 2048000,
      "implicitDf": true,
      "rowLimit": 10000
     },
     "inputWidgets": {},
     "nuid": "af67253d-0d51-4122-a043-df4b35dd3126",
     "showTitle": false,
     "tableResultSettingsMap": {},
     "title": ""
    }
   },
   "outputs": [
    {
     "output_type": "display_data",
     "data": {
      "text/html": [
       "<style scoped>\n",
       "  .table-result-container {\n",
       "    max-height: 300px;\n",
       "    overflow: auto;\n",
       "  }\n",
       "  table, th, td {\n",
       "    border: 1px solid black;\n",
       "    border-collapse: collapse;\n",
       "  }\n",
       "  th, td {\n",
       "    padding: 5px;\n",
       "  }\n",
       "  th {\n",
       "    text-align: left;\n",
       "  }\n",
       "</style><div class='table-result-container'><table class='table-result'><thead style='background-color: white'><tr><th>num_affected_rows</th><th>num_inserted_rows</th></tr></thead><tbody><tr><td>2</td><td>2</td></tr></tbody></table></div>"
      ]
     },
     "metadata": {
      "application/vnd.databricks.v1+output": {
       "addedWidgets": {},
       "aggData": [],
       "aggError": "",
       "aggOverflow": false,
       "aggSchema": [],
       "aggSeriesLimitReached": false,
       "aggType": "",
       "arguments": {},
       "columnCustomDisplayInfos": {},
       "data": [
        [
         2,
         2
        ]
       ],
       "datasetInfos": [],
       "dbfsResultPath": null,
       "isJsonSchema": true,
       "metadata": {},
       "overflow": false,
       "plotOptions": {
        "customPlotOptions": {},
        "displayType": "table",
        "pivotAggregation": null,
        "pivotColumns": null,
        "xColumns": null,
        "yColumns": null
       },
       "removedWidgets": [],
       "schema": [
        {
         "metadata": "{}",
         "name": "num_affected_rows",
         "type": "\"long\""
        },
        {
         "metadata": "{}",
         "name": "num_inserted_rows",
         "type": "\"long\""
        }
       ],
       "type": "table"
      }
     },
     "output_type": "display_data"
    }
   ],
   "source": [
    "%sql\n",
    "insert into employee values(28,'Raviteja',540000), (21,'Sandeep',680000);\n",
    "\n"
   ]
  },
  {
   "cell_type": "code",
   "execution_count": 0,
   "metadata": {
    "application/vnd.databricks.v1+cell": {
     "cellMetadata": {
      "byteLimit": 2048000,
      "implicitDf": true,
      "rowLimit": 10000
     },
     "inputWidgets": {},
     "nuid": "371dc4c1-a0f5-4945-afea-1e16c9c0f2f5",
     "showTitle": false,
     "tableResultSettingsMap": {},
     "title": ""
    }
   },
   "outputs": [
    {
     "output_type": "display_data",
     "data": {
      "text/html": [
       "<style scoped>\n",
       "  .table-result-container {\n",
       "    max-height: 300px;\n",
       "    overflow: auto;\n",
       "  }\n",
       "  table, th, td {\n",
       "    border: 1px solid black;\n",
       "    border-collapse: collapse;\n",
       "  }\n",
       "  th, td {\n",
       "    padding: 5px;\n",
       "  }\n",
       "  th {\n",
       "    text-align: left;\n",
       "  }\n",
       "</style><div class='table-result-container'><table class='table-result'><thead style='background-color: white'><tr><th>id</th><th>name</th><th>salary</th></tr></thead><tbody><tr><td>28</td><td>Raviteja</td><td>550000.0</td></tr><tr><td>21</td><td>Sandeep</td><td>680000.0</td></tr><tr><td>28</td><td>Raviteja</td><td>540000.0</td></tr><tr><td>21</td><td>Sandeep</td><td>680000.0</td></tr><tr><td>28</td><td>Raviteja</td><td>540000.0</td></tr><tr><td>21</td><td>Sandeep</td><td>680000.0</td></tr></tbody></table></div>"
      ]
     },
     "metadata": {
      "application/vnd.databricks.v1+output": {
       "addedWidgets": {},
       "aggData": [],
       "aggError": "",
       "aggOverflow": false,
       "aggSchema": [],
       "aggSeriesLimitReached": false,
       "aggType": "",
       "arguments": {},
       "columnCustomDisplayInfos": {},
       "data": [
        [
         28,
         "Raviteja",
         550000.0
        ],
        [
         21,
         "Sandeep",
         680000.0
        ],
        [
         28,
         "Raviteja",
         540000.0
        ],
        [
         21,
         "Sandeep",
         680000.0
        ],
        [
         28,
         "Raviteja",
         540000.0
        ],
        [
         21,
         "Sandeep",
         680000.0
        ]
       ],
       "datasetInfos": [],
       "dbfsResultPath": null,
       "isJsonSchema": true,
       "metadata": {},
       "overflow": false,
       "plotOptions": {
        "customPlotOptions": {},
        "displayType": "table",
        "pivotAggregation": null,
        "pivotColumns": null,
        "xColumns": null,
        "yColumns": null
       },
       "removedWidgets": [],
       "schema": [
        {
         "metadata": "{}",
         "name": "id",
         "type": "\"integer\""
        },
        {
         "metadata": "{}",
         "name": "name",
         "type": "\"string\""
        },
        {
         "metadata": "{}",
         "name": "salary",
         "type": "\"double\""
        }
       ],
       "type": "table"
      }
     },
     "output_type": "display_data"
    }
   ],
   "source": [
    "%sql\n",
    "select * from employee;"
   ]
  },
  {
   "cell_type": "code",
   "execution_count": 0,
   "metadata": {
    "application/vnd.databricks.v1+cell": {
     "cellMetadata": {
      "byteLimit": 2048000,
      "implicitDf": true,
      "rowLimit": 10000
     },
     "inputWidgets": {},
     "nuid": "5369ef86-57ae-4fae-a2cc-7313ad949c19",
     "showTitle": false,
     "tableResultSettingsMap": {},
     "title": ""
    }
   },
   "outputs": [
    {
     "output_type": "display_data",
     "data": {
      "text/html": [
       "<style scoped>\n",
       "  .table-result-container {\n",
       "    max-height: 300px;\n",
       "    overflow: auto;\n",
       "  }\n",
       "  table, th, td {\n",
       "    border: 1px solid black;\n",
       "    border-collapse: collapse;\n",
       "  }\n",
       "  th, td {\n",
       "    padding: 5px;\n",
       "  }\n",
       "  th {\n",
       "    text-align: left;\n",
       "  }\n",
       "</style><div class='table-result-container'><table class='table-result'><thead style='background-color: white'><tr><th>format</th><th>id</th><th>name</th><th>description</th><th>location</th><th>createdAt</th><th>lastModified</th><th>partitionColumns</th><th>numFiles</th><th>sizeInBytes</th><th>properties</th><th>minReaderVersion</th><th>minWriterVersion</th><th>tableFeatures</th><th>statistics</th></tr></thead><tbody><tr><td>delta</td><td>83519629-c6e2-4752-a9d2-83918734181e</td><td>spark_catalog.default.employee</td><td>null</td><td>dbfs:/user/hive/warehouse/employee</td><td>2025-02-03T12:19:44.032+0000</td><td>2025-02-03T17:14:39.000+0000</td><td>List()</td><td>2</td><td>2306</td><td>Map()</td><td>1</td><td>2</td><td>List(appendOnly, invariants)</td><td>Map()</td></tr></tbody></table></div>"
      ]
     },
     "metadata": {
      "application/vnd.databricks.v1+output": {
       "addedWidgets": {},
       "aggData": [],
       "aggError": "",
       "aggOverflow": false,
       "aggSchema": [],
       "aggSeriesLimitReached": false,
       "aggType": "",
       "arguments": {},
       "columnCustomDisplayInfos": {},
       "data": [
        [
         "delta",
         "83519629-c6e2-4752-a9d2-83918734181e",
         "spark_catalog.default.employee",
         null,
         "dbfs:/user/hive/warehouse/employee",
         "2025-02-03T12:19:44.032+0000",
         "2025-02-03T17:14:39.000+0000",
         [],
         2,
         2306,
         {},
         1,
         2,
         [
          "appendOnly",
          "invariants"
         ],
         {}
        ]
       ],
       "datasetInfos": [],
       "dbfsResultPath": null,
       "isJsonSchema": true,
       "metadata": {},
       "overflow": false,
       "plotOptions": {
        "customPlotOptions": {},
        "displayType": "table",
        "pivotAggregation": null,
        "pivotColumns": null,
        "xColumns": null,
        "yColumns": null
       },
       "removedWidgets": [],
       "schema": [
        {
         "metadata": "{}",
         "name": "format",
         "type": "\"string\""
        },
        {
         "metadata": "{}",
         "name": "id",
         "type": "\"string\""
        },
        {
         "metadata": "{}",
         "name": "name",
         "type": "\"string\""
        },
        {
         "metadata": "{}",
         "name": "description",
         "type": "\"string\""
        },
        {
         "metadata": "{}",
         "name": "location",
         "type": "\"string\""
        },
        {
         "metadata": "{}",
         "name": "createdAt",
         "type": "\"timestamp\""
        },
        {
         "metadata": "{}",
         "name": "lastModified",
         "type": "\"timestamp\""
        },
        {
         "metadata": "{}",
         "name": "partitionColumns",
         "type": "{\"type\":\"array\",\"elementType\":\"string\",\"containsNull\":true}"
        },
        {
         "metadata": "{}",
         "name": "numFiles",
         "type": "\"long\""
        },
        {
         "metadata": "{}",
         "name": "sizeInBytes",
         "type": "\"long\""
        },
        {
         "metadata": "{}",
         "name": "properties",
         "type": "{\"type\":\"map\",\"keyType\":\"string\",\"valueType\":\"string\",\"valueContainsNull\":true}"
        },
        {
         "metadata": "{}",
         "name": "minReaderVersion",
         "type": "\"integer\""
        },
        {
         "metadata": "{}",
         "name": "minWriterVersion",
         "type": "\"integer\""
        },
        {
         "metadata": "{}",
         "name": "tableFeatures",
         "type": "{\"type\":\"array\",\"elementType\":\"string\",\"containsNull\":true}"
        },
        {
         "metadata": "{}",
         "name": "statistics",
         "type": "{\"type\":\"map\",\"keyType\":\"string\",\"valueType\":\"long\",\"valueContainsNull\":true}"
        }
       ],
       "type": "table"
      }
     },
     "output_type": "display_data"
    }
   ],
   "source": [
    "%sql\n",
    "DESCRIBE DETAIL employee"
   ]
  },
  {
   "cell_type": "code",
   "execution_count": 0,
   "metadata": {
    "application/vnd.databricks.v1+cell": {
     "cellMetadata": {
      "byteLimit": 2048000,
      "implicitDf": true,
      "rowLimit": 10000
     },
     "inputWidgets": {},
     "nuid": "5eea8714-fe7a-41e4-881a-1ecf16dd384c",
     "showTitle": false,
     "tableResultSettingsMap": {},
     "title": ""
    }
   },
   "outputs": [
    {
     "output_type": "display_data",
     "data": {
      "text/html": [
       "<style scoped>\n",
       "  .table-result-container {\n",
       "    max-height: 300px;\n",
       "    overflow: auto;\n",
       "  }\n",
       "  table, th, td {\n",
       "    border: 1px solid black;\n",
       "    border-collapse: collapse;\n",
       "  }\n",
       "  th, td {\n",
       "    padding: 5px;\n",
       "  }\n",
       "  th {\n",
       "    text-align: left;\n",
       "  }\n",
       "</style><div class='table-result-container'><table class='table-result'><thead style='background-color: white'><tr><th>version</th><th>timestamp</th><th>userId</th><th>userName</th><th>operation</th><th>operationParameters</th><th>job</th><th>notebook</th><th>clusterId</th><th>readVersion</th><th>isolationLevel</th><th>isBlindAppend</th><th>operationMetrics</th><th>userMetadata</th><th>engineInfo</th></tr></thead><tbody><tr><td>11</td><td>2025-02-03T17:14:39.000+0000</td><td>1270209217208486</td><td>krtproperty72@gmail.com</td><td>WRITE</td><td>Map(mode -> Append, partitionBy -> [])</td><td>null</td><td>List(1762041669422)</td><td>0203-170608-33t84sha</td><td>10</td><td>WriteSerializable</td><td>true</td><td>Map(numFiles -> 1, numOutputRows -> 2, numOutputBytes -> 1095)</td><td>null</td><td>Databricks-Runtime/12.2.x-scala2.12</td></tr><tr><td>10</td><td>2025-02-03T14:25:37.000+0000</td><td>1270209217208486</td><td>krtproperty72@gmail.com</td><td>OPTIMIZE</td><td>Map(predicate -> [], zOrderBy -> [\"id\"], batchId -> 0, auto -> false)</td><td>null</td><td>List(1762041669422)</td><td>0203-134734-cjzwo1dt</td><td>9</td><td>SnapshotIsolation</td><td>false</td><td>Map(numRemovedFiles -> 2, numRemovedBytes -> 2190, p25FileSize -> 1211, numDeletionVectorsRemoved -> 0, minFileSize -> 1211, numAddedFiles -> 1, maxFileSize -> 1211, p75FileSize -> 1211, p50FileSize -> 1211, numAddedBytes -> 1211)</td><td>null</td><td>Databricks-Runtime/12.2.x-scala2.12</td></tr><tr><td>9</td><td>2025-02-03T14:22:52.000+0000</td><td>1270209217208486</td><td>krtproperty72@gmail.com</td><td>RESTORE</td><td>Map(version -> 5, timestamp -> null)</td><td>null</td><td>List(1762041669422)</td><td>0203-134734-cjzwo1dt</td><td>8</td><td>Serializable</td><td>false</td><td>Map(numRestoredFiles -> 2, removedFilesSize -> 0, numRemovedFiles -> 0, restoredFilesSize -> 2190, numOfFilesAfterRestore -> 2, tableSizeAfterRestore -> 2190)</td><td>null</td><td>Databricks-Runtime/12.2.x-scala2.12</td></tr><tr><td>8</td><td>2025-02-03T14:21:29.000+0000</td><td>1270209217208486</td><td>krtproperty72@gmail.com</td><td>DELETE</td><td>Map(predicate -> [\"true\"])</td><td>null</td><td>List(1762041669422)</td><td>0203-134734-cjzwo1dt</td><td>7</td><td>WriteSerializable</td><td>false</td><td>Map(numRemovedFiles -> 1, numRemovedBytes -> 1203, numCopiedRows -> 0, numDeletionVectorsAdded -> 0, numDeletionVectorsRemoved -> 0, numAddedChangeFiles -> 0, executionTimeMs -> 74, numDeletedRows -> 4, scanTimeMs -> 60, numAddedFiles -> 0, numAddedBytes -> 0, rewriteTimeMs -> 0)</td><td>null</td><td>Databricks-Runtime/12.2.x-scala2.12</td></tr><tr><td>7</td><td>2025-02-03T14:19:43.000+0000</td><td>1270209217208486</td><td>krtproperty72@gmail.com</td><td>OPTIMIZE</td><td>Map(predicate -> [], zOrderBy -> [], batchId -> 0, auto -> false)</td><td>null</td><td>List(1762041669422)</td><td>0203-134734-cjzwo1dt</td><td>6</td><td>SnapshotIsolation</td><td>false</td><td>Map(numRemovedFiles -> 2, numRemovedBytes -> 2190, p25FileSize -> 1203, numDeletionVectorsRemoved -> 0, minFileSize -> 1203, numAddedFiles -> 1, maxFileSize -> 1203, p75FileSize -> 1203, p50FileSize -> 1203, numAddedBytes -> 1203)</td><td>null</td><td>Databricks-Runtime/12.2.x-scala2.12</td></tr><tr><td>6</td><td>2025-02-03T14:19:25.000+0000</td><td>1270209217208486</td><td>krtproperty72@gmail.com</td><td>UPDATE</td><td>Map(predicate -> [\"Contains(name#3290, Ravi)\"])</td><td>null</td><td>List(1762041669422)</td><td>0203-134734-cjzwo1dt</td><td>5</td><td>WriteSerializable</td><td>false</td><td>Map(numRemovedFiles -> 2, numRemovedBytes -> 2190, numCopiedRows -> 2, numDeletionVectorsAdded -> 0, numDeletionVectorsRemoved -> 0, numAddedChangeFiles -> 0, executionTimeMs -> 3968, scanTimeMs -> 1818, numAddedFiles -> 2, numUpdatedRows -> 2, numAddedBytes -> 2190, rewriteTimeMs -> 2008)</td><td>null</td><td>Databricks-Runtime/12.2.x-scala2.12</td></tr><tr><td>5</td><td>2025-02-03T14:19:05.000+0000</td><td>1270209217208486</td><td>krtproperty72@gmail.com</td><td>WRITE</td><td>Map(mode -> Append, partitionBy -> [])</td><td>null</td><td>List(1762041669422)</td><td>0203-134734-cjzwo1dt</td><td>4</td><td>WriteSerializable</td><td>true</td><td>Map(numFiles -> 1, numOutputRows -> 2, numOutputBytes -> 1095)</td><td>null</td><td>Databricks-Runtime/12.2.x-scala2.12</td></tr><tr><td>4</td><td>2025-02-03T12:24:41.000+0000</td><td>1270209217208486</td><td>krtproperty72@gmail.com</td><td>UPDATE</td><td>Map(predicate -> [\"Contains(name#2442, Ravi)\"])</td><td>null</td><td>List(1762041669422)</td><td>0203-121714-a997tnmz</td><td>3</td><td>WriteSerializable</td><td>false</td><td>Map(numRemovedFiles -> 1, numRemovedBytes -> 1095, numCopiedRows -> 1, numDeletionVectorsAdded -> 0, numDeletionVectorsRemoved -> 0, numAddedChangeFiles -> 0, executionTimeMs -> 3200, scanTimeMs -> 1527, numAddedFiles -> 1, numUpdatedRows -> 1, numAddedBytes -> 1095, rewriteTimeMs -> 1673)</td><td>null</td><td>Databricks-Runtime/12.2.x-scala2.12</td></tr><tr><td>3</td><td>2025-02-03T12:24:05.000+0000</td><td>1270209217208486</td><td>krtproperty72@gmail.com</td><td>UPDATE</td><td>Map(predicate -> [\"EndsWith(name#1777, Ravi)\"])</td><td>null</td><td>List(1762041669422)</td><td>0203-121714-a997tnmz</td><td>2</td><td>WriteSerializable</td><td>false</td><td>Map(numRemovedFiles -> 0, numRemovedBytes -> 0, numCopiedRows -> 0, numDeletionVectorsAdded -> 0, numDeletionVectorsRemoved -> 0, numAddedChangeFiles -> 0, executionTimeMs -> 1828, scanTimeMs -> 1828, numAddedFiles -> 0, numUpdatedRows -> 0, numAddedBytes -> 0, rewriteTimeMs -> 0)</td><td>null</td><td>Databricks-Runtime/12.2.x-scala2.12</td></tr><tr><td>2</td><td>2025-02-03T12:23:38.000+0000</td><td>1270209217208486</td><td>krtproperty72@gmail.com</td><td>UPDATE</td><td>Map(predicate -> [\"(name#1391 = Ravi)\"])</td><td>null</td><td>List(1762041669422)</td><td>0203-121714-a997tnmz</td><td>1</td><td>WriteSerializable</td><td>false</td><td>Map(numRemovedFiles -> 0, numRemovedBytes -> 0, numCopiedRows -> 0, numDeletionVectorsAdded -> 0, numDeletionVectorsRemoved -> 0, numAddedChangeFiles -> 0, executionTimeMs -> 808, scanTimeMs -> 777, numAddedFiles -> 0, numUpdatedRows -> 0, numAddedBytes -> 0, rewriteTimeMs -> 0)</td><td>null</td><td>Databricks-Runtime/12.2.x-scala2.12</td></tr><tr><td>1</td><td>2025-02-03T12:20:24.000+0000</td><td>1270209217208486</td><td>krtproperty72@gmail.com</td><td>WRITE</td><td>Map(mode -> Append, partitionBy -> [])</td><td>null</td><td>List(1762041669422)</td><td>0203-121714-a997tnmz</td><td>0</td><td>WriteSerializable</td><td>true</td><td>Map(numFiles -> 1, numOutputRows -> 2, numOutputBytes -> 1095)</td><td>null</td><td>Databricks-Runtime/12.2.x-scala2.12</td></tr><tr><td>0</td><td>2025-02-03T12:19:47.000+0000</td><td>1270209217208486</td><td>krtproperty72@gmail.com</td><td>CREATE TABLE</td><td>Map(isManaged -> true, description -> null, partitionBy -> [], properties -> {})</td><td>null</td><td>List(1762041669422)</td><td>0203-121714-a997tnmz</td><td>null</td><td>WriteSerializable</td><td>true</td><td>Map()</td><td>null</td><td>Databricks-Runtime/12.2.x-scala2.12</td></tr></tbody></table></div>"
      ]
     },
     "metadata": {
      "application/vnd.databricks.v1+output": {
       "addedWidgets": {},
       "aggData": [],
       "aggError": "",
       "aggOverflow": false,
       "aggSchema": [],
       "aggSeriesLimitReached": false,
       "aggType": "",
       "arguments": {},
       "columnCustomDisplayInfos": {},
       "data": [
        [
         11,
         "2025-02-03T17:14:39.000+0000",
         "1270209217208486",
         "krtproperty72@gmail.com",
         "WRITE",
         {
          "mode": "Append",
          "partitionBy": "[]"
         },
         null,
         [
          "1762041669422"
         ],
         "0203-170608-33t84sha",
         10,
         "WriteSerializable",
         true,
         {
          "numFiles": "1",
          "numOutputBytes": "1095",
          "numOutputRows": "2"
         },
         null,
         "Databricks-Runtime/12.2.x-scala2.12"
        ],
        [
         10,
         "2025-02-03T14:25:37.000+0000",
         "1270209217208486",
         "krtproperty72@gmail.com",
         "OPTIMIZE",
         {
          "auto": "false",
          "batchId": "0",
          "predicate": "[]",
          "zOrderBy": "[\"id\"]"
         },
         null,
         [
          "1762041669422"
         ],
         "0203-134734-cjzwo1dt",
         9,
         "SnapshotIsolation",
         false,
         {
          "maxFileSize": "1211",
          "minFileSize": "1211",
          "numAddedBytes": "1211",
          "numAddedFiles": "1",
          "numDeletionVectorsRemoved": "0",
          "numRemovedBytes": "2190",
          "numRemovedFiles": "2",
          "p25FileSize": "1211",
          "p50FileSize": "1211",
          "p75FileSize": "1211"
         },
         null,
         "Databricks-Runtime/12.2.x-scala2.12"
        ],
        [
         9,
         "2025-02-03T14:22:52.000+0000",
         "1270209217208486",
         "krtproperty72@gmail.com",
         "RESTORE",
         {
          "timestamp": null,
          "version": "5"
         },
         null,
         [
          "1762041669422"
         ],
         "0203-134734-cjzwo1dt",
         8,
         "Serializable",
         false,
         {
          "numOfFilesAfterRestore": "2",
          "numRemovedFiles": "0",
          "numRestoredFiles": "2",
          "removedFilesSize": "0",
          "restoredFilesSize": "2190",
          "tableSizeAfterRestore": "2190"
         },
         null,
         "Databricks-Runtime/12.2.x-scala2.12"
        ],
        [
         8,
         "2025-02-03T14:21:29.000+0000",
         "1270209217208486",
         "krtproperty72@gmail.com",
         "DELETE",
         {
          "predicate": "[\"true\"]"
         },
         null,
         [
          "1762041669422"
         ],
         "0203-134734-cjzwo1dt",
         7,
         "WriteSerializable",
         false,
         {
          "executionTimeMs": "74",
          "numAddedBytes": "0",
          "numAddedChangeFiles": "0",
          "numAddedFiles": "0",
          "numCopiedRows": "0",
          "numDeletedRows": "4",
          "numDeletionVectorsAdded": "0",
          "numDeletionVectorsRemoved": "0",
          "numRemovedBytes": "1203",
          "numRemovedFiles": "1",
          "rewriteTimeMs": "0",
          "scanTimeMs": "60"
         },
         null,
         "Databricks-Runtime/12.2.x-scala2.12"
        ],
        [
         7,
         "2025-02-03T14:19:43.000+0000",
         "1270209217208486",
         "krtproperty72@gmail.com",
         "OPTIMIZE",
         {
          "auto": "false",
          "batchId": "0",
          "predicate": "[]",
          "zOrderBy": "[]"
         },
         null,
         [
          "1762041669422"
         ],
         "0203-134734-cjzwo1dt",
         6,
         "SnapshotIsolation",
         false,
         {
          "maxFileSize": "1203",
          "minFileSize": "1203",
          "numAddedBytes": "1203",
          "numAddedFiles": "1",
          "numDeletionVectorsRemoved": "0",
          "numRemovedBytes": "2190",
          "numRemovedFiles": "2",
          "p25FileSize": "1203",
          "p50FileSize": "1203",
          "p75FileSize": "1203"
         },
         null,
         "Databricks-Runtime/12.2.x-scala2.12"
        ],
        [
         6,
         "2025-02-03T14:19:25.000+0000",
         "1270209217208486",
         "krtproperty72@gmail.com",
         "UPDATE",
         {
          "predicate": "[\"Contains(name#3290, Ravi)\"]"
         },
         null,
         [
          "1762041669422"
         ],
         "0203-134734-cjzwo1dt",
         5,
         "WriteSerializable",
         false,
         {
          "executionTimeMs": "3968",
          "numAddedBytes": "2190",
          "numAddedChangeFiles": "0",
          "numAddedFiles": "2",
          "numCopiedRows": "2",
          "numDeletionVectorsAdded": "0",
          "numDeletionVectorsRemoved": "0",
          "numRemovedBytes": "2190",
          "numRemovedFiles": "2",
          "numUpdatedRows": "2",
          "rewriteTimeMs": "2008",
          "scanTimeMs": "1818"
         },
         null,
         "Databricks-Runtime/12.2.x-scala2.12"
        ],
        [
         5,
         "2025-02-03T14:19:05.000+0000",
         "1270209217208486",
         "krtproperty72@gmail.com",
         "WRITE",
         {
          "mode": "Append",
          "partitionBy": "[]"
         },
         null,
         [
          "1762041669422"
         ],
         "0203-134734-cjzwo1dt",
         4,
         "WriteSerializable",
         true,
         {
          "numFiles": "1",
          "numOutputBytes": "1095",
          "numOutputRows": "2"
         },
         null,
         "Databricks-Runtime/12.2.x-scala2.12"
        ],
        [
         4,
         "2025-02-03T12:24:41.000+0000",
         "1270209217208486",
         "krtproperty72@gmail.com",
         "UPDATE",
         {
          "predicate": "[\"Contains(name#2442, Ravi)\"]"
         },
         null,
         [
          "1762041669422"
         ],
         "0203-121714-a997tnmz",
         3,
         "WriteSerializable",
         false,
         {
          "executionTimeMs": "3200",
          "numAddedBytes": "1095",
          "numAddedChangeFiles": "0",
          "numAddedFiles": "1",
          "numCopiedRows": "1",
          "numDeletionVectorsAdded": "0",
          "numDeletionVectorsRemoved": "0",
          "numRemovedBytes": "1095",
          "numRemovedFiles": "1",
          "numUpdatedRows": "1",
          "rewriteTimeMs": "1673",
          "scanTimeMs": "1527"
         },
         null,
         "Databricks-Runtime/12.2.x-scala2.12"
        ],
        [
         3,
         "2025-02-03T12:24:05.000+0000",
         "1270209217208486",
         "krtproperty72@gmail.com",
         "UPDATE",
         {
          "predicate": "[\"EndsWith(name#1777, Ravi)\"]"
         },
         null,
         [
          "1762041669422"
         ],
         "0203-121714-a997tnmz",
         2,
         "WriteSerializable",
         false,
         {
          "executionTimeMs": "1828",
          "numAddedBytes": "0",
          "numAddedChangeFiles": "0",
          "numAddedFiles": "0",
          "numCopiedRows": "0",
          "numDeletionVectorsAdded": "0",
          "numDeletionVectorsRemoved": "0",
          "numRemovedBytes": "0",
          "numRemovedFiles": "0",
          "numUpdatedRows": "0",
          "rewriteTimeMs": "0",
          "scanTimeMs": "1828"
         },
         null,
         "Databricks-Runtime/12.2.x-scala2.12"
        ],
        [
         2,
         "2025-02-03T12:23:38.000+0000",
         "1270209217208486",
         "krtproperty72@gmail.com",
         "UPDATE",
         {
          "predicate": "[\"(name#1391 = Ravi)\"]"
         },
         null,
         [
          "1762041669422"
         ],
         "0203-121714-a997tnmz",
         1,
         "WriteSerializable",
         false,
         {
          "executionTimeMs": "808",
          "numAddedBytes": "0",
          "numAddedChangeFiles": "0",
          "numAddedFiles": "0",
          "numCopiedRows": "0",
          "numDeletionVectorsAdded": "0",
          "numDeletionVectorsRemoved": "0",
          "numRemovedBytes": "0",
          "numRemovedFiles": "0",
          "numUpdatedRows": "0",
          "rewriteTimeMs": "0",
          "scanTimeMs": "777"
         },
         null,
         "Databricks-Runtime/12.2.x-scala2.12"
        ],
        [
         1,
         "2025-02-03T12:20:24.000+0000",
         "1270209217208486",
         "krtproperty72@gmail.com",
         "WRITE",
         {
          "mode": "Append",
          "partitionBy": "[]"
         },
         null,
         [
          "1762041669422"
         ],
         "0203-121714-a997tnmz",
         0,
         "WriteSerializable",
         true,
         {
          "numFiles": "1",
          "numOutputBytes": "1095",
          "numOutputRows": "2"
         },
         null,
         "Databricks-Runtime/12.2.x-scala2.12"
        ],
        [
         0,
         "2025-02-03T12:19:47.000+0000",
         "1270209217208486",
         "krtproperty72@gmail.com",
         "CREATE TABLE",
         {
          "description": null,
          "isManaged": "true",
          "partitionBy": "[]",
          "properties": "{}"
         },
         null,
         [
          "1762041669422"
         ],
         "0203-121714-a997tnmz",
         null,
         "WriteSerializable",
         true,
         {},
         null,
         "Databricks-Runtime/12.2.x-scala2.12"
        ]
       ],
       "datasetInfos": [],
       "dbfsResultPath": null,
       "isJsonSchema": true,
       "metadata": {},
       "overflow": false,
       "plotOptions": {
        "customPlotOptions": {},
        "displayType": "table",
        "pivotAggregation": null,
        "pivotColumns": null,
        "xColumns": null,
        "yColumns": null
       },
       "removedWidgets": [],
       "schema": [
        {
         "metadata": "{}",
         "name": "version",
         "type": "\"long\""
        },
        {
         "metadata": "{}",
         "name": "timestamp",
         "type": "\"timestamp\""
        },
        {
         "metadata": "{}",
         "name": "userId",
         "type": "\"string\""
        },
        {
         "metadata": "{}",
         "name": "userName",
         "type": "\"string\""
        },
        {
         "metadata": "{}",
         "name": "operation",
         "type": "\"string\""
        },
        {
         "metadata": "{}",
         "name": "operationParameters",
         "type": "{\"type\":\"map\",\"keyType\":\"string\",\"valueType\":\"string\",\"valueContainsNull\":true}"
        },
        {
         "metadata": "{}",
         "name": "job",
         "type": "{\"type\":\"struct\",\"fields\":[{\"name\":\"jobId\",\"type\":\"string\",\"nullable\":true,\"metadata\":{}},{\"name\":\"jobName\",\"type\":\"string\",\"nullable\":true,\"metadata\":{}},{\"name\":\"jobRunId\",\"type\":\"string\",\"nullable\":true,\"metadata\":{}},{\"name\":\"runId\",\"type\":\"string\",\"nullable\":true,\"metadata\":{}},{\"name\":\"jobOwnerId\",\"type\":\"string\",\"nullable\":true,\"metadata\":{}},{\"name\":\"triggerType\",\"type\":\"string\",\"nullable\":true,\"metadata\":{}}]}"
        },
        {
         "metadata": "{}",
         "name": "notebook",
         "type": "{\"type\":\"struct\",\"fields\":[{\"name\":\"notebookId\",\"type\":\"string\",\"nullable\":true,\"metadata\":{}}]}"
        },
        {
         "metadata": "{}",
         "name": "clusterId",
         "type": "\"string\""
        },
        {
         "metadata": "{}",
         "name": "readVersion",
         "type": "\"long\""
        },
        {
         "metadata": "{}",
         "name": "isolationLevel",
         "type": "\"string\""
        },
        {
         "metadata": "{}",
         "name": "isBlindAppend",
         "type": "\"boolean\""
        },
        {
         "metadata": "{}",
         "name": "operationMetrics",
         "type": "{\"type\":\"map\",\"keyType\":\"string\",\"valueType\":\"string\",\"valueContainsNull\":true}"
        },
        {
         "metadata": "{}",
         "name": "userMetadata",
         "type": "\"string\""
        },
        {
         "metadata": "{}",
         "name": "engineInfo",
         "type": "\"string\""
        }
       ],
       "type": "table"
      }
     },
     "output_type": "display_data"
    }
   ],
   "source": [
    "%sql\n",
    "describe history employee"
   ]
  },
  {
   "cell_type": "code",
   "execution_count": 0,
   "metadata": {
    "application/vnd.databricks.v1+cell": {
     "cellMetadata": {
      "byteLimit": 2048000,
      "implicitDf": true,
      "rowLimit": 10000
     },
     "inputWidgets": {},
     "nuid": "172e25cd-1c55-4bea-ad69-48d619723247",
     "showTitle": false,
     "tableResultSettingsMap": {},
     "title": ""
    }
   },
   "outputs": [
    {
     "output_type": "display_data",
     "data": {
      "text/html": [
       "<style scoped>\n",
       "  .table-result-container {\n",
       "    max-height: 300px;\n",
       "    overflow: auto;\n",
       "  }\n",
       "  table, th, td {\n",
       "    border: 1px solid black;\n",
       "    border-collapse: collapse;\n",
       "  }\n",
       "  th, td {\n",
       "    padding: 5px;\n",
       "  }\n",
       "  th {\n",
       "    text-align: left;\n",
       "  }\n",
       "</style><div class='table-result-container'><table class='table-result'><thead style='background-color: white'><tr><th>num_affected_rows</th></tr></thead><tbody><tr><td>3</td></tr></tbody></table></div>"
      ]
     },
     "metadata": {
      "application/vnd.databricks.v1+output": {
       "addedWidgets": {},
       "aggData": [],
       "aggError": "",
       "aggOverflow": false,
       "aggSchema": [],
       "aggSeriesLimitReached": false,
       "aggType": "",
       "arguments": {},
       "columnCustomDisplayInfos": {},
       "data": [
        [
         3
        ]
       ],
       "datasetInfos": [],
       "dbfsResultPath": null,
       "isJsonSchema": true,
       "metadata": {},
       "overflow": false,
       "plotOptions": {
        "customPlotOptions": {},
        "displayType": "table",
        "pivotAggregation": null,
        "pivotColumns": null,
        "xColumns": null,
        "yColumns": null
       },
       "removedWidgets": [],
       "schema": [
        {
         "metadata": "{}",
         "name": "num_affected_rows",
         "type": "\"long\""
        }
       ],
       "type": "table"
      }
     },
     "output_type": "display_data"
    }
   ],
   "source": [
    "%sql\n",
    "update employee\n",
    "set salary = 550000\n",
    "where name like '%Ravi%';"
   ]
  },
  {
   "cell_type": "code",
   "execution_count": 0,
   "metadata": {
    "application/vnd.databricks.v1+cell": {
     "cellMetadata": {
      "byteLimit": 2048000,
      "implicitDf": true,
      "rowLimit": 10000
     },
     "inputWidgets": {},
     "nuid": "1a0d3cba-cf82-4f58-b78e-f191667e5af8",
     "showTitle": false,
     "tableResultSettingsMap": {},
     "title": ""
    }
   },
   "outputs": [
    {
     "output_type": "display_data",
     "data": {
      "text/html": [
       "<style scoped>\n",
       "  .table-result-container {\n",
       "    max-height: 300px;\n",
       "    overflow: auto;\n",
       "  }\n",
       "  table, th, td {\n",
       "    border: 1px solid black;\n",
       "    border-collapse: collapse;\n",
       "  }\n",
       "  th, td {\n",
       "    padding: 5px;\n",
       "  }\n",
       "  th {\n",
       "    text-align: left;\n",
       "  }\n",
       "</style><div class='table-result-container'><table class='table-result'><thead style='background-color: white'><tr><th>id</th><th>name</th><th>salary</th></tr></thead><tbody><tr><td>28</td><td>Raviteja</td><td>550000.0</td></tr><tr><td>21</td><td>Sandeep</td><td>680000.0</td></tr><tr><td>28</td><td>Raviteja</td><td>550000.0</td></tr><tr><td>21</td><td>Sandeep</td><td>680000.0</td></tr><tr><td>28</td><td>Raviteja</td><td>550000.0</td></tr><tr><td>21</td><td>Sandeep</td><td>680000.0</td></tr></tbody></table></div>"
      ]
     },
     "metadata": {
      "application/vnd.databricks.v1+output": {
       "addedWidgets": {},
       "aggData": [],
       "aggError": "",
       "aggOverflow": false,
       "aggSchema": [],
       "aggSeriesLimitReached": false,
       "aggType": "",
       "arguments": {},
       "columnCustomDisplayInfos": {},
       "data": [
        [
         28,
         "Raviteja",
         550000.0
        ],
        [
         21,
         "Sandeep",
         680000.0
        ],
        [
         28,
         "Raviteja",
         550000.0
        ],
        [
         21,
         "Sandeep",
         680000.0
        ],
        [
         28,
         "Raviteja",
         550000.0
        ],
        [
         21,
         "Sandeep",
         680000.0
        ]
       ],
       "datasetInfos": [],
       "dbfsResultPath": null,
       "isJsonSchema": true,
       "metadata": {},
       "overflow": false,
       "plotOptions": {
        "customPlotOptions": {},
        "displayType": "table",
        "pivotAggregation": null,
        "pivotColumns": null,
        "xColumns": null,
        "yColumns": null
       },
       "removedWidgets": [],
       "schema": [
        {
         "metadata": "{}",
         "name": "id",
         "type": "\"integer\""
        },
        {
         "metadata": "{}",
         "name": "name",
         "type": "\"string\""
        },
        {
         "metadata": "{}",
         "name": "salary",
         "type": "\"double\""
        }
       ],
       "type": "table"
      }
     },
     "output_type": "display_data"
    }
   ],
   "source": [
    "%sql\n",
    "select * from employee"
   ]
  },
  {
   "cell_type": "code",
   "execution_count": 0,
   "metadata": {
    "application/vnd.databricks.v1+cell": {
     "cellMetadata": {
      "byteLimit": 2048000,
      "rowLimit": 10000
     },
     "inputWidgets": {},
     "nuid": "d714e7eb-00bc-4999-9c39-459b4408af3d",
     "showTitle": false,
     "tableResultSettingsMap": {},
     "title": ""
    }
   },
   "outputs": [],
   "source": []
  },
  {
   "cell_type": "code",
   "execution_count": 0,
   "metadata": {
    "application/vnd.databricks.v1+cell": {
     "cellMetadata": {
      "byteLimit": 2048000,
      "implicitDf": true,
      "rowLimit": 10000
     },
     "inputWidgets": {},
     "nuid": "88d747ba-b070-4378-ad51-f2f8f32bc7fd",
     "showTitle": false,
     "tableResultSettingsMap": {},
     "title": ""
    }
   },
   "outputs": [
    {
     "output_type": "display_data",
     "data": {
      "text/html": [
       "<style scoped>\n",
       "  .table-result-container {\n",
       "    max-height: 300px;\n",
       "    overflow: auto;\n",
       "  }\n",
       "  table, th, td {\n",
       "    border: 1px solid black;\n",
       "    border-collapse: collapse;\n",
       "  }\n",
       "  th, td {\n",
       "    padding: 5px;\n",
       "  }\n",
       "  th {\n",
       "    text-align: left;\n",
       "  }\n",
       "</style><div class='table-result-container'><table class='table-result'><thead style='background-color: white'><tr><th>version</th><th>timestamp</th><th>userId</th><th>userName</th><th>operation</th><th>operationParameters</th><th>job</th><th>notebook</th><th>clusterId</th><th>readVersion</th><th>isolationLevel</th><th>isBlindAppend</th><th>operationMetrics</th><th>userMetadata</th><th>engineInfo</th></tr></thead><tbody><tr><td>12</td><td>2025-02-03T17:15:00.000+0000</td><td>1270209217208486</td><td>krtproperty72@gmail.com</td><td>UPDATE</td><td>Map(predicate -> [\"Contains(name#1556, Ravi)\"])</td><td>null</td><td>List(1762041669422)</td><td>0203-170608-33t84sha</td><td>11</td><td>WriteSerializable</td><td>false</td><td>Map(numRemovedFiles -> 2, numRemovedBytes -> 2306, numCopiedRows -> 3, numDeletionVectorsAdded -> 0, numDeletionVectorsRemoved -> 0, numAddedChangeFiles -> 0, executionTimeMs -> 3881, scanTimeMs -> 1979, numAddedFiles -> 2, numUpdatedRows -> 3, numAddedBytes -> 2298, rewriteTimeMs -> 1876)</td><td>null</td><td>Databricks-Runtime/12.2.x-scala2.12</td></tr><tr><td>11</td><td>2025-02-03T17:14:39.000+0000</td><td>1270209217208486</td><td>krtproperty72@gmail.com</td><td>WRITE</td><td>Map(mode -> Append, partitionBy -> [])</td><td>null</td><td>List(1762041669422)</td><td>0203-170608-33t84sha</td><td>10</td><td>WriteSerializable</td><td>true</td><td>Map(numFiles -> 1, numOutputRows -> 2, numOutputBytes -> 1095)</td><td>null</td><td>Databricks-Runtime/12.2.x-scala2.12</td></tr><tr><td>10</td><td>2025-02-03T14:25:37.000+0000</td><td>1270209217208486</td><td>krtproperty72@gmail.com</td><td>OPTIMIZE</td><td>Map(predicate -> [], zOrderBy -> [\"id\"], batchId -> 0, auto -> false)</td><td>null</td><td>List(1762041669422)</td><td>0203-134734-cjzwo1dt</td><td>9</td><td>SnapshotIsolation</td><td>false</td><td>Map(numRemovedFiles -> 2, numRemovedBytes -> 2190, p25FileSize -> 1211, numDeletionVectorsRemoved -> 0, minFileSize -> 1211, numAddedFiles -> 1, maxFileSize -> 1211, p75FileSize -> 1211, p50FileSize -> 1211, numAddedBytes -> 1211)</td><td>null</td><td>Databricks-Runtime/12.2.x-scala2.12</td></tr><tr><td>9</td><td>2025-02-03T14:22:52.000+0000</td><td>1270209217208486</td><td>krtproperty72@gmail.com</td><td>RESTORE</td><td>Map(version -> 5, timestamp -> null)</td><td>null</td><td>List(1762041669422)</td><td>0203-134734-cjzwo1dt</td><td>8</td><td>Serializable</td><td>false</td><td>Map(numRestoredFiles -> 2, removedFilesSize -> 0, numRemovedFiles -> 0, restoredFilesSize -> 2190, numOfFilesAfterRestore -> 2, tableSizeAfterRestore -> 2190)</td><td>null</td><td>Databricks-Runtime/12.2.x-scala2.12</td></tr><tr><td>8</td><td>2025-02-03T14:21:29.000+0000</td><td>1270209217208486</td><td>krtproperty72@gmail.com</td><td>DELETE</td><td>Map(predicate -> [\"true\"])</td><td>null</td><td>List(1762041669422)</td><td>0203-134734-cjzwo1dt</td><td>7</td><td>WriteSerializable</td><td>false</td><td>Map(numRemovedFiles -> 1, numRemovedBytes -> 1203, numCopiedRows -> 0, numDeletionVectorsAdded -> 0, numDeletionVectorsRemoved -> 0, numAddedChangeFiles -> 0, executionTimeMs -> 74, numDeletedRows -> 4, scanTimeMs -> 60, numAddedFiles -> 0, numAddedBytes -> 0, rewriteTimeMs -> 0)</td><td>null</td><td>Databricks-Runtime/12.2.x-scala2.12</td></tr><tr><td>7</td><td>2025-02-03T14:19:43.000+0000</td><td>1270209217208486</td><td>krtproperty72@gmail.com</td><td>OPTIMIZE</td><td>Map(predicate -> [], zOrderBy -> [], batchId -> 0, auto -> false)</td><td>null</td><td>List(1762041669422)</td><td>0203-134734-cjzwo1dt</td><td>6</td><td>SnapshotIsolation</td><td>false</td><td>Map(numRemovedFiles -> 2, numRemovedBytes -> 2190, p25FileSize -> 1203, numDeletionVectorsRemoved -> 0, minFileSize -> 1203, numAddedFiles -> 1, maxFileSize -> 1203, p75FileSize -> 1203, p50FileSize -> 1203, numAddedBytes -> 1203)</td><td>null</td><td>Databricks-Runtime/12.2.x-scala2.12</td></tr><tr><td>6</td><td>2025-02-03T14:19:25.000+0000</td><td>1270209217208486</td><td>krtproperty72@gmail.com</td><td>UPDATE</td><td>Map(predicate -> [\"Contains(name#3290, Ravi)\"])</td><td>null</td><td>List(1762041669422)</td><td>0203-134734-cjzwo1dt</td><td>5</td><td>WriteSerializable</td><td>false</td><td>Map(numRemovedFiles -> 2, numRemovedBytes -> 2190, numCopiedRows -> 2, numDeletionVectorsAdded -> 0, numDeletionVectorsRemoved -> 0, numAddedChangeFiles -> 0, executionTimeMs -> 3968, scanTimeMs -> 1818, numAddedFiles -> 2, numUpdatedRows -> 2, numAddedBytes -> 2190, rewriteTimeMs -> 2008)</td><td>null</td><td>Databricks-Runtime/12.2.x-scala2.12</td></tr><tr><td>5</td><td>2025-02-03T14:19:05.000+0000</td><td>1270209217208486</td><td>krtproperty72@gmail.com</td><td>WRITE</td><td>Map(mode -> Append, partitionBy -> [])</td><td>null</td><td>List(1762041669422)</td><td>0203-134734-cjzwo1dt</td><td>4</td><td>WriteSerializable</td><td>true</td><td>Map(numFiles -> 1, numOutputRows -> 2, numOutputBytes -> 1095)</td><td>null</td><td>Databricks-Runtime/12.2.x-scala2.12</td></tr><tr><td>4</td><td>2025-02-03T12:24:41.000+0000</td><td>1270209217208486</td><td>krtproperty72@gmail.com</td><td>UPDATE</td><td>Map(predicate -> [\"Contains(name#2442, Ravi)\"])</td><td>null</td><td>List(1762041669422)</td><td>0203-121714-a997tnmz</td><td>3</td><td>WriteSerializable</td><td>false</td><td>Map(numRemovedFiles -> 1, numRemovedBytes -> 1095, numCopiedRows -> 1, numDeletionVectorsAdded -> 0, numDeletionVectorsRemoved -> 0, numAddedChangeFiles -> 0, executionTimeMs -> 3200, scanTimeMs -> 1527, numAddedFiles -> 1, numUpdatedRows -> 1, numAddedBytes -> 1095, rewriteTimeMs -> 1673)</td><td>null</td><td>Databricks-Runtime/12.2.x-scala2.12</td></tr><tr><td>3</td><td>2025-02-03T12:24:05.000+0000</td><td>1270209217208486</td><td>krtproperty72@gmail.com</td><td>UPDATE</td><td>Map(predicate -> [\"EndsWith(name#1777, Ravi)\"])</td><td>null</td><td>List(1762041669422)</td><td>0203-121714-a997tnmz</td><td>2</td><td>WriteSerializable</td><td>false</td><td>Map(numRemovedFiles -> 0, numRemovedBytes -> 0, numCopiedRows -> 0, numDeletionVectorsAdded -> 0, numDeletionVectorsRemoved -> 0, numAddedChangeFiles -> 0, executionTimeMs -> 1828, scanTimeMs -> 1828, numAddedFiles -> 0, numUpdatedRows -> 0, numAddedBytes -> 0, rewriteTimeMs -> 0)</td><td>null</td><td>Databricks-Runtime/12.2.x-scala2.12</td></tr><tr><td>2</td><td>2025-02-03T12:23:38.000+0000</td><td>1270209217208486</td><td>krtproperty72@gmail.com</td><td>UPDATE</td><td>Map(predicate -> [\"(name#1391 = Ravi)\"])</td><td>null</td><td>List(1762041669422)</td><td>0203-121714-a997tnmz</td><td>1</td><td>WriteSerializable</td><td>false</td><td>Map(numRemovedFiles -> 0, numRemovedBytes -> 0, numCopiedRows -> 0, numDeletionVectorsAdded -> 0, numDeletionVectorsRemoved -> 0, numAddedChangeFiles -> 0, executionTimeMs -> 808, scanTimeMs -> 777, numAddedFiles -> 0, numUpdatedRows -> 0, numAddedBytes -> 0, rewriteTimeMs -> 0)</td><td>null</td><td>Databricks-Runtime/12.2.x-scala2.12</td></tr><tr><td>1</td><td>2025-02-03T12:20:24.000+0000</td><td>1270209217208486</td><td>krtproperty72@gmail.com</td><td>WRITE</td><td>Map(mode -> Append, partitionBy -> [])</td><td>null</td><td>List(1762041669422)</td><td>0203-121714-a997tnmz</td><td>0</td><td>WriteSerializable</td><td>true</td><td>Map(numFiles -> 1, numOutputRows -> 2, numOutputBytes -> 1095)</td><td>null</td><td>Databricks-Runtime/12.2.x-scala2.12</td></tr><tr><td>0</td><td>2025-02-03T12:19:47.000+0000</td><td>1270209217208486</td><td>krtproperty72@gmail.com</td><td>CREATE TABLE</td><td>Map(isManaged -> true, description -> null, partitionBy -> [], properties -> {})</td><td>null</td><td>List(1762041669422)</td><td>0203-121714-a997tnmz</td><td>null</td><td>WriteSerializable</td><td>true</td><td>Map()</td><td>null</td><td>Databricks-Runtime/12.2.x-scala2.12</td></tr></tbody></table></div>"
      ]
     },
     "metadata": {
      "application/vnd.databricks.v1+output": {
       "addedWidgets": {},
       "aggData": [],
       "aggError": "",
       "aggOverflow": false,
       "aggSchema": [],
       "aggSeriesLimitReached": false,
       "aggType": "",
       "arguments": {},
       "columnCustomDisplayInfos": {},
       "data": [
        [
         12,
         "2025-02-03T17:15:00.000+0000",
         "1270209217208486",
         "krtproperty72@gmail.com",
         "UPDATE",
         {
          "predicate": "[\"Contains(name#1556, Ravi)\"]"
         },
         null,
         [
          "1762041669422"
         ],
         "0203-170608-33t84sha",
         11,
         "WriteSerializable",
         false,
         {
          "executionTimeMs": "3881",
          "numAddedBytes": "2298",
          "numAddedChangeFiles": "0",
          "numAddedFiles": "2",
          "numCopiedRows": "3",
          "numDeletionVectorsAdded": "0",
          "numDeletionVectorsRemoved": "0",
          "numRemovedBytes": "2306",
          "numRemovedFiles": "2",
          "numUpdatedRows": "3",
          "rewriteTimeMs": "1876",
          "scanTimeMs": "1979"
         },
         null,
         "Databricks-Runtime/12.2.x-scala2.12"
        ],
        [
         11,
         "2025-02-03T17:14:39.000+0000",
         "1270209217208486",
         "krtproperty72@gmail.com",
         "WRITE",
         {
          "mode": "Append",
          "partitionBy": "[]"
         },
         null,
         [
          "1762041669422"
         ],
         "0203-170608-33t84sha",
         10,
         "WriteSerializable",
         true,
         {
          "numFiles": "1",
          "numOutputBytes": "1095",
          "numOutputRows": "2"
         },
         null,
         "Databricks-Runtime/12.2.x-scala2.12"
        ],
        [
         10,
         "2025-02-03T14:25:37.000+0000",
         "1270209217208486",
         "krtproperty72@gmail.com",
         "OPTIMIZE",
         {
          "auto": "false",
          "batchId": "0",
          "predicate": "[]",
          "zOrderBy": "[\"id\"]"
         },
         null,
         [
          "1762041669422"
         ],
         "0203-134734-cjzwo1dt",
         9,
         "SnapshotIsolation",
         false,
         {
          "maxFileSize": "1211",
          "minFileSize": "1211",
          "numAddedBytes": "1211",
          "numAddedFiles": "1",
          "numDeletionVectorsRemoved": "0",
          "numRemovedBytes": "2190",
          "numRemovedFiles": "2",
          "p25FileSize": "1211",
          "p50FileSize": "1211",
          "p75FileSize": "1211"
         },
         null,
         "Databricks-Runtime/12.2.x-scala2.12"
        ],
        [
         9,
         "2025-02-03T14:22:52.000+0000",
         "1270209217208486",
         "krtproperty72@gmail.com",
         "RESTORE",
         {
          "timestamp": null,
          "version": "5"
         },
         null,
         [
          "1762041669422"
         ],
         "0203-134734-cjzwo1dt",
         8,
         "Serializable",
         false,
         {
          "numOfFilesAfterRestore": "2",
          "numRemovedFiles": "0",
          "numRestoredFiles": "2",
          "removedFilesSize": "0",
          "restoredFilesSize": "2190",
          "tableSizeAfterRestore": "2190"
         },
         null,
         "Databricks-Runtime/12.2.x-scala2.12"
        ],
        [
         8,
         "2025-02-03T14:21:29.000+0000",
         "1270209217208486",
         "krtproperty72@gmail.com",
         "DELETE",
         {
          "predicate": "[\"true\"]"
         },
         null,
         [
          "1762041669422"
         ],
         "0203-134734-cjzwo1dt",
         7,
         "WriteSerializable",
         false,
         {
          "executionTimeMs": "74",
          "numAddedBytes": "0",
          "numAddedChangeFiles": "0",
          "numAddedFiles": "0",
          "numCopiedRows": "0",
          "numDeletedRows": "4",
          "numDeletionVectorsAdded": "0",
          "numDeletionVectorsRemoved": "0",
          "numRemovedBytes": "1203",
          "numRemovedFiles": "1",
          "rewriteTimeMs": "0",
          "scanTimeMs": "60"
         },
         null,
         "Databricks-Runtime/12.2.x-scala2.12"
        ],
        [
         7,
         "2025-02-03T14:19:43.000+0000",
         "1270209217208486",
         "krtproperty72@gmail.com",
         "OPTIMIZE",
         {
          "auto": "false",
          "batchId": "0",
          "predicate": "[]",
          "zOrderBy": "[]"
         },
         null,
         [
          "1762041669422"
         ],
         "0203-134734-cjzwo1dt",
         6,
         "SnapshotIsolation",
         false,
         {
          "maxFileSize": "1203",
          "minFileSize": "1203",
          "numAddedBytes": "1203",
          "numAddedFiles": "1",
          "numDeletionVectorsRemoved": "0",
          "numRemovedBytes": "2190",
          "numRemovedFiles": "2",
          "p25FileSize": "1203",
          "p50FileSize": "1203",
          "p75FileSize": "1203"
         },
         null,
         "Databricks-Runtime/12.2.x-scala2.12"
        ],
        [
         6,
         "2025-02-03T14:19:25.000+0000",
         "1270209217208486",
         "krtproperty72@gmail.com",
         "UPDATE",
         {
          "predicate": "[\"Contains(name#3290, Ravi)\"]"
         },
         null,
         [
          "1762041669422"
         ],
         "0203-134734-cjzwo1dt",
         5,
         "WriteSerializable",
         false,
         {
          "executionTimeMs": "3968",
          "numAddedBytes": "2190",
          "numAddedChangeFiles": "0",
          "numAddedFiles": "2",
          "numCopiedRows": "2",
          "numDeletionVectorsAdded": "0",
          "numDeletionVectorsRemoved": "0",
          "numRemovedBytes": "2190",
          "numRemovedFiles": "2",
          "numUpdatedRows": "2",
          "rewriteTimeMs": "2008",
          "scanTimeMs": "1818"
         },
         null,
         "Databricks-Runtime/12.2.x-scala2.12"
        ],
        [
         5,
         "2025-02-03T14:19:05.000+0000",
         "1270209217208486",
         "krtproperty72@gmail.com",
         "WRITE",
         {
          "mode": "Append",
          "partitionBy": "[]"
         },
         null,
         [
          "1762041669422"
         ],
         "0203-134734-cjzwo1dt",
         4,
         "WriteSerializable",
         true,
         {
          "numFiles": "1",
          "numOutputBytes": "1095",
          "numOutputRows": "2"
         },
         null,
         "Databricks-Runtime/12.2.x-scala2.12"
        ],
        [
         4,
         "2025-02-03T12:24:41.000+0000",
         "1270209217208486",
         "krtproperty72@gmail.com",
         "UPDATE",
         {
          "predicate": "[\"Contains(name#2442, Ravi)\"]"
         },
         null,
         [
          "1762041669422"
         ],
         "0203-121714-a997tnmz",
         3,
         "WriteSerializable",
         false,
         {
          "executionTimeMs": "3200",
          "numAddedBytes": "1095",
          "numAddedChangeFiles": "0",
          "numAddedFiles": "1",
          "numCopiedRows": "1",
          "numDeletionVectorsAdded": "0",
          "numDeletionVectorsRemoved": "0",
          "numRemovedBytes": "1095",
          "numRemovedFiles": "1",
          "numUpdatedRows": "1",
          "rewriteTimeMs": "1673",
          "scanTimeMs": "1527"
         },
         null,
         "Databricks-Runtime/12.2.x-scala2.12"
        ],
        [
         3,
         "2025-02-03T12:24:05.000+0000",
         "1270209217208486",
         "krtproperty72@gmail.com",
         "UPDATE",
         {
          "predicate": "[\"EndsWith(name#1777, Ravi)\"]"
         },
         null,
         [
          "1762041669422"
         ],
         "0203-121714-a997tnmz",
         2,
         "WriteSerializable",
         false,
         {
          "executionTimeMs": "1828",
          "numAddedBytes": "0",
          "numAddedChangeFiles": "0",
          "numAddedFiles": "0",
          "numCopiedRows": "0",
          "numDeletionVectorsAdded": "0",
          "numDeletionVectorsRemoved": "0",
          "numRemovedBytes": "0",
          "numRemovedFiles": "0",
          "numUpdatedRows": "0",
          "rewriteTimeMs": "0",
          "scanTimeMs": "1828"
         },
         null,
         "Databricks-Runtime/12.2.x-scala2.12"
        ],
        [
         2,
         "2025-02-03T12:23:38.000+0000",
         "1270209217208486",
         "krtproperty72@gmail.com",
         "UPDATE",
         {
          "predicate": "[\"(name#1391 = Ravi)\"]"
         },
         null,
         [
          "1762041669422"
         ],
         "0203-121714-a997tnmz",
         1,
         "WriteSerializable",
         false,
         {
          "executionTimeMs": "808",
          "numAddedBytes": "0",
          "numAddedChangeFiles": "0",
          "numAddedFiles": "0",
          "numCopiedRows": "0",
          "numDeletionVectorsAdded": "0",
          "numDeletionVectorsRemoved": "0",
          "numRemovedBytes": "0",
          "numRemovedFiles": "0",
          "numUpdatedRows": "0",
          "rewriteTimeMs": "0",
          "scanTimeMs": "777"
         },
         null,
         "Databricks-Runtime/12.2.x-scala2.12"
        ],
        [
         1,
         "2025-02-03T12:20:24.000+0000",
         "1270209217208486",
         "krtproperty72@gmail.com",
         "WRITE",
         {
          "mode": "Append",
          "partitionBy": "[]"
         },
         null,
         [
          "1762041669422"
         ],
         "0203-121714-a997tnmz",
         0,
         "WriteSerializable",
         true,
         {
          "numFiles": "1",
          "numOutputBytes": "1095",
          "numOutputRows": "2"
         },
         null,
         "Databricks-Runtime/12.2.x-scala2.12"
        ],
        [
         0,
         "2025-02-03T12:19:47.000+0000",
         "1270209217208486",
         "krtproperty72@gmail.com",
         "CREATE TABLE",
         {
          "description": null,
          "isManaged": "true",
          "partitionBy": "[]",
          "properties": "{}"
         },
         null,
         [
          "1762041669422"
         ],
         "0203-121714-a997tnmz",
         null,
         "WriteSerializable",
         true,
         {},
         null,
         "Databricks-Runtime/12.2.x-scala2.12"
        ]
       ],
       "datasetInfos": [],
       "dbfsResultPath": null,
       "isJsonSchema": true,
       "metadata": {},
       "overflow": false,
       "plotOptions": {
        "customPlotOptions": {},
        "displayType": "table",
        "pivotAggregation": null,
        "pivotColumns": null,
        "xColumns": null,
        "yColumns": null
       },
       "removedWidgets": [],
       "schema": [
        {
         "metadata": "{}",
         "name": "version",
         "type": "\"long\""
        },
        {
         "metadata": "{}",
         "name": "timestamp",
         "type": "\"timestamp\""
        },
        {
         "metadata": "{}",
         "name": "userId",
         "type": "\"string\""
        },
        {
         "metadata": "{}",
         "name": "userName",
         "type": "\"string\""
        },
        {
         "metadata": "{}",
         "name": "operation",
         "type": "\"string\""
        },
        {
         "metadata": "{}",
         "name": "operationParameters",
         "type": "{\"type\":\"map\",\"keyType\":\"string\",\"valueType\":\"string\",\"valueContainsNull\":true}"
        },
        {
         "metadata": "{}",
         "name": "job",
         "type": "{\"type\":\"struct\",\"fields\":[{\"name\":\"jobId\",\"type\":\"string\",\"nullable\":true,\"metadata\":{}},{\"name\":\"jobName\",\"type\":\"string\",\"nullable\":true,\"metadata\":{}},{\"name\":\"jobRunId\",\"type\":\"string\",\"nullable\":true,\"metadata\":{}},{\"name\":\"runId\",\"type\":\"string\",\"nullable\":true,\"metadata\":{}},{\"name\":\"jobOwnerId\",\"type\":\"string\",\"nullable\":true,\"metadata\":{}},{\"name\":\"triggerType\",\"type\":\"string\",\"nullable\":true,\"metadata\":{}}]}"
        },
        {
         "metadata": "{}",
         "name": "notebook",
         "type": "{\"type\":\"struct\",\"fields\":[{\"name\":\"notebookId\",\"type\":\"string\",\"nullable\":true,\"metadata\":{}}]}"
        },
        {
         "metadata": "{}",
         "name": "clusterId",
         "type": "\"string\""
        },
        {
         "metadata": "{}",
         "name": "readVersion",
         "type": "\"long\""
        },
        {
         "metadata": "{}",
         "name": "isolationLevel",
         "type": "\"string\""
        },
        {
         "metadata": "{}",
         "name": "isBlindAppend",
         "type": "\"boolean\""
        },
        {
         "metadata": "{}",
         "name": "operationMetrics",
         "type": "{\"type\":\"map\",\"keyType\":\"string\",\"valueType\":\"string\",\"valueContainsNull\":true}"
        },
        {
         "metadata": "{}",
         "name": "userMetadata",
         "type": "\"string\""
        },
        {
         "metadata": "{}",
         "name": "engineInfo",
         "type": "\"string\""
        }
       ],
       "type": "table"
      }
     },
     "output_type": "display_data"
    }
   ],
   "source": [
    "%sql\n",
    "describe history employee"
   ]
  },
  {
   "cell_type": "code",
   "execution_count": 0,
   "metadata": {
    "application/vnd.databricks.v1+cell": {
     "cellMetadata": {
      "byteLimit": 2048000,
      "rowLimit": 10000
     },
     "inputWidgets": {},
     "nuid": "406c5692-ad52-47b0-9e36-2b87a42cf282",
     "showTitle": false,
     "tableResultSettingsMap": {},
     "title": ""
    }
   },
   "outputs": [
    {
     "output_type": "display_data",
     "data": {
      "text/html": [
       "<style scoped>\n",
       "  .table-result-container {\n",
       "    max-height: 300px;\n",
       "    overflow: auto;\n",
       "  }\n",
       "  table, th, td {\n",
       "    border: 1px solid black;\n",
       "    border-collapse: collapse;\n",
       "  }\n",
       "  th, td {\n",
       "    padding: 5px;\n",
       "  }\n",
       "  th {\n",
       "    text-align: left;\n",
       "  }\n",
       "</style><div class='table-result-container'><table class='table-result'><thead style='background-color: white'><tr><th>path</th><th>name</th><th>size</th><th>modificationTime</th></tr></thead><tbody><tr><td>dbfs:/user/hive/warehouse/employee/_delta_log/.s3-optimization-0</td><td>.s3-optimization-0</td><td>0</td><td>1738585186000</td></tr><tr><td>dbfs:/user/hive/warehouse/employee/_delta_log/.s3-optimization-1</td><td>.s3-optimization-1</td><td>0</td><td>1738585187000</td></tr><tr><td>dbfs:/user/hive/warehouse/employee/_delta_log/.s3-optimization-2</td><td>.s3-optimization-2</td><td>0</td><td>1738585187000</td></tr><tr><td>dbfs:/user/hive/warehouse/employee/_delta_log/00000000000000000000.crc</td><td>00000000000000000000.crc</td><td>2028</td><td>1738585203000</td></tr><tr><td>dbfs:/user/hive/warehouse/employee/_delta_log/00000000000000000000.json</td><td>00000000000000000000.json</td><td>994</td><td>1738585187000</td></tr><tr><td>dbfs:/user/hive/warehouse/employee/_delta_log/00000000000000000001.crc</td><td>00000000000000000001.crc</td><td>2570</td><td>1738585228000</td></tr><tr><td>dbfs:/user/hive/warehouse/employee/_delta_log/00000000000000000001.json</td><td>00000000000000000001.json</td><td>1060</td><td>1738585224000</td></tr><tr><td>dbfs:/user/hive/warehouse/employee/_delta_log/00000000000000000002.crc</td><td>00000000000000000002.crc</td><td>2570</td><td>1738585421000</td></tr><tr><td>dbfs:/user/hive/warehouse/employee/_delta_log/00000000000000000002.json</td><td>00000000000000000002.json</td><td>739</td><td>1738585418000</td></tr><tr><td>dbfs:/user/hive/warehouse/employee/_delta_log/00000000000000000003.crc</td><td>00000000000000000003.crc</td><td>2570</td><td>1738585447000</td></tr><tr><td>dbfs:/user/hive/warehouse/employee/_delta_log/00000000000000000003.json</td><td>00000000000000000003.json</td><td>748</td><td>1738585445000</td></tr><tr><td>dbfs:/user/hive/warehouse/employee/_delta_log/00000000000000000004.crc</td><td>00000000000000000004.crc</td><td>2570</td><td>1738585485000</td></tr><tr><td>dbfs:/user/hive/warehouse/employee/_delta_log/00000000000000000004.json</td><td>00000000000000000004.json</td><td>1664</td><td>1738585481000</td></tr><tr><td>dbfs:/user/hive/warehouse/employee/_delta_log/00000000000000000005.crc</td><td>00000000000000000005.crc</td><td>3107</td><td>1738592349000</td></tr><tr><td>dbfs:/user/hive/warehouse/employee/_delta_log/00000000000000000005.json</td><td>00000000000000000005.json</td><td>1060</td><td>1738592345000</td></tr><tr><td>dbfs:/user/hive/warehouse/employee/_delta_log/00000000000000000006.crc</td><td>00000000000000000006.crc</td><td>3107</td><td>1738592368000</td></tr><tr><td>dbfs:/user/hive/warehouse/employee/_delta_log/00000000000000000006.json</td><td>00000000000000000006.json</td><td>2571</td><td>1738592365000</td></tr><tr><td>dbfs:/user/hive/warehouse/employee/_delta_log/00000000000000000007.crc</td><td>00000000000000000007.crc</td><td>2570</td><td>1738592386000</td></tr><tr><td>dbfs:/user/hive/warehouse/employee/_delta_log/00000000000000000007.json</td><td>00000000000000000007.json</td><td>1986</td><td>1738592383000</td></tr><tr><td>dbfs:/user/hive/warehouse/employee/_delta_log/00000000000000000008.crc</td><td>00000000000000000008.crc</td><td>2028</td><td>1738592492000</td></tr><tr><td>dbfs:/user/hive/warehouse/employee/_delta_log/00000000000000000008.json</td><td>00000000000000000008.json</td><td>1089</td><td>1738592489000</td></tr><tr><td>dbfs:/user/hive/warehouse/employee/_delta_log/00000000000000000009.checkpoint.parquet</td><td>00000000000000000009.checkpoint.parquet</td><td>19639</td><td>1738592575000</td></tr><tr><td>dbfs:/user/hive/warehouse/employee/_delta_log/00000000000000000009.crc</td><td>00000000000000000009.crc</td><td>1999</td><td>1738592574000</td></tr><tr><td>dbfs:/user/hive/warehouse/employee/_delta_log/00000000000000000009.json</td><td>00000000000000000009.json</td><td>2197</td><td>1738592572000</td></tr><tr><td>dbfs:/user/hive/warehouse/employee/_delta_log/00000000000000000010.crc</td><td>00000000000000000010.crc</td><td>2680</td><td>1738592741000</td></tr><tr><td>dbfs:/user/hive/warehouse/employee/_delta_log/00000000000000000010.json</td><td>00000000000000000010.json</td><td>2102</td><td>1738592737000</td></tr><tr><td>dbfs:/user/hive/warehouse/employee/_delta_log/00000000000000000011.crc</td><td>00000000000000000011.crc</td><td>3217</td><td>1738602885000</td></tr><tr><td>dbfs:/user/hive/warehouse/employee/_delta_log/00000000000000000011.json</td><td>00000000000000000011.json</td><td>1061</td><td>1738602879000</td></tr><tr><td>dbfs:/user/hive/warehouse/employee/_delta_log/00000000000000000012.crc</td><td>00000000000000000012.crc</td><td>3107</td><td>1738602907000</td></tr><tr><td>dbfs:/user/hive/warehouse/employee/_delta_log/00000000000000000012.json</td><td>00000000000000000012.json</td><td>2682</td><td>1738602900000</td></tr><tr><td>dbfs:/user/hive/warehouse/employee/_delta_log/_last_checkpoint</td><td>_last_checkpoint</td><td>5261</td><td>1738592576000</td></tr></tbody></table></div>"
      ]
     },
     "metadata": {
      "application/vnd.databricks.v1+output": {
       "addedWidgets": {},
       "aggData": [],
       "aggError": "",
       "aggOverflow": false,
       "aggSchema": [],
       "aggSeriesLimitReached": false,
       "aggType": "",
       "arguments": {},
       "columnCustomDisplayInfos": {},
       "data": [
        [
         "dbfs:/user/hive/warehouse/employee/_delta_log/.s3-optimization-0",
         ".s3-optimization-0",
         0,
         1738585186000
        ],
        [
         "dbfs:/user/hive/warehouse/employee/_delta_log/.s3-optimization-1",
         ".s3-optimization-1",
         0,
         1738585187000
        ],
        [
         "dbfs:/user/hive/warehouse/employee/_delta_log/.s3-optimization-2",
         ".s3-optimization-2",
         0,
         1738585187000
        ],
        [
         "dbfs:/user/hive/warehouse/employee/_delta_log/00000000000000000000.crc",
         "00000000000000000000.crc",
         2028,
         1738585203000
        ],
        [
         "dbfs:/user/hive/warehouse/employee/_delta_log/00000000000000000000.json",
         "00000000000000000000.json",
         994,
         1738585187000
        ],
        [
         "dbfs:/user/hive/warehouse/employee/_delta_log/00000000000000000001.crc",
         "00000000000000000001.crc",
         2570,
         1738585228000
        ],
        [
         "dbfs:/user/hive/warehouse/employee/_delta_log/00000000000000000001.json",
         "00000000000000000001.json",
         1060,
         1738585224000
        ],
        [
         "dbfs:/user/hive/warehouse/employee/_delta_log/00000000000000000002.crc",
         "00000000000000000002.crc",
         2570,
         1738585421000
        ],
        [
         "dbfs:/user/hive/warehouse/employee/_delta_log/00000000000000000002.json",
         "00000000000000000002.json",
         739,
         1738585418000
        ],
        [
         "dbfs:/user/hive/warehouse/employee/_delta_log/00000000000000000003.crc",
         "00000000000000000003.crc",
         2570,
         1738585447000
        ],
        [
         "dbfs:/user/hive/warehouse/employee/_delta_log/00000000000000000003.json",
         "00000000000000000003.json",
         748,
         1738585445000
        ],
        [
         "dbfs:/user/hive/warehouse/employee/_delta_log/00000000000000000004.crc",
         "00000000000000000004.crc",
         2570,
         1738585485000
        ],
        [
         "dbfs:/user/hive/warehouse/employee/_delta_log/00000000000000000004.json",
         "00000000000000000004.json",
         1664,
         1738585481000
        ],
        [
         "dbfs:/user/hive/warehouse/employee/_delta_log/00000000000000000005.crc",
         "00000000000000000005.crc",
         3107,
         1738592349000
        ],
        [
         "dbfs:/user/hive/warehouse/employee/_delta_log/00000000000000000005.json",
         "00000000000000000005.json",
         1060,
         1738592345000
        ],
        [
         "dbfs:/user/hive/warehouse/employee/_delta_log/00000000000000000006.crc",
         "00000000000000000006.crc",
         3107,
         1738592368000
        ],
        [
         "dbfs:/user/hive/warehouse/employee/_delta_log/00000000000000000006.json",
         "00000000000000000006.json",
         2571,
         1738592365000
        ],
        [
         "dbfs:/user/hive/warehouse/employee/_delta_log/00000000000000000007.crc",
         "00000000000000000007.crc",
         2570,
         1738592386000
        ],
        [
         "dbfs:/user/hive/warehouse/employee/_delta_log/00000000000000000007.json",
         "00000000000000000007.json",
         1986,
         1738592383000
        ],
        [
         "dbfs:/user/hive/warehouse/employee/_delta_log/00000000000000000008.crc",
         "00000000000000000008.crc",
         2028,
         1738592492000
        ],
        [
         "dbfs:/user/hive/warehouse/employee/_delta_log/00000000000000000008.json",
         "00000000000000000008.json",
         1089,
         1738592489000
        ],
        [
         "dbfs:/user/hive/warehouse/employee/_delta_log/00000000000000000009.checkpoint.parquet",
         "00000000000000000009.checkpoint.parquet",
         19639,
         1738592575000
        ],
        [
         "dbfs:/user/hive/warehouse/employee/_delta_log/00000000000000000009.crc",
         "00000000000000000009.crc",
         1999,
         1738592574000
        ],
        [
         "dbfs:/user/hive/warehouse/employee/_delta_log/00000000000000000009.json",
         "00000000000000000009.json",
         2197,
         1738592572000
        ],
        [
         "dbfs:/user/hive/warehouse/employee/_delta_log/00000000000000000010.crc",
         "00000000000000000010.crc",
         2680,
         1738592741000
        ],
        [
         "dbfs:/user/hive/warehouse/employee/_delta_log/00000000000000000010.json",
         "00000000000000000010.json",
         2102,
         1738592737000
        ],
        [
         "dbfs:/user/hive/warehouse/employee/_delta_log/00000000000000000011.crc",
         "00000000000000000011.crc",
         3217,
         1738602885000
        ],
        [
         "dbfs:/user/hive/warehouse/employee/_delta_log/00000000000000000011.json",
         "00000000000000000011.json",
         1061,
         1738602879000
        ],
        [
         "dbfs:/user/hive/warehouse/employee/_delta_log/00000000000000000012.crc",
         "00000000000000000012.crc",
         3107,
         1738602907000
        ],
        [
         "dbfs:/user/hive/warehouse/employee/_delta_log/00000000000000000012.json",
         "00000000000000000012.json",
         2682,
         1738602900000
        ],
        [
         "dbfs:/user/hive/warehouse/employee/_delta_log/_last_checkpoint",
         "_last_checkpoint",
         5261,
         1738592576000
        ]
       ],
       "datasetInfos": [],
       "dbfsResultPath": null,
       "isJsonSchema": true,
       "metadata": {
        "isDbfsCommandResult": false
       },
       "overflow": false,
       "plotOptions": {
        "customPlotOptions": {},
        "displayType": "table",
        "pivotAggregation": null,
        "pivotColumns": null,
        "xColumns": null,
        "yColumns": null
       },
       "removedWidgets": [],
       "schema": [
        {
         "metadata": "{}",
         "name": "path",
         "type": "\"string\""
        },
        {
         "metadata": "{}",
         "name": "name",
         "type": "\"string\""
        },
        {
         "metadata": "{}",
         "name": "size",
         "type": "\"long\""
        },
        {
         "metadata": "{}",
         "name": "modificationTime",
         "type": "\"long\""
        }
       ],
       "type": "table"
      }
     },
     "output_type": "display_data"
    }
   ],
   "source": [
    "%fs ls dbfs:/user/hive/warehouse/employee/_delta_log/"
   ]
  },
  {
   "cell_type": "code",
   "execution_count": 0,
   "metadata": {
    "application/vnd.databricks.v1+cell": {
     "cellMetadata": {
      "byteLimit": 2048000,
      "rowLimit": 10000
     },
     "inputWidgets": {},
     "nuid": "d3848477-8006-4066-ba3e-a3ffca7452ab",
     "showTitle": false,
     "tableResultSettingsMap": {},
     "title": ""
    }
   },
   "outputs": [
    {
     "output_type": "display_data",
     "data": {
      "text/html": [
       "<style scoped>\n",
       "  .ansiout {\n",
       "    display: block;\n",
       "    unicode-bidi: embed;\n",
       "    white-space: pre-wrap;\n",
       "    word-wrap: break-word;\n",
       "    word-break: break-all;\n",
       "    font-family: \"Menlo\", \"Monaco\", \"Consolas\", \"Ubuntu Mono\", \"Source Code Pro\", monospace;\n",
       "    font-size: 13px;\n",
       "    color: #555;\n",
       "    margin-left: 4px;\n",
       "    line-height: 19px;\n",
       "  }\n",
       "</style>\n",
       "<div class=\"ansiout\">{&quot;commitInfo&quot;:{&quot;timestamp&quot;:1738585480481,&quot;userId&quot;:&quot;1270209217208486&quot;,&quot;userName&quot;:&quot;krtproperty72@gmail.com&quot;,&quot;operation&quot;:&quot;UPDATE&quot;,&quot;operationParameters&quot;:{&quot;predicate&quot;:&quot;[\\&quot;Contains(name#2442, Ravi)\\&quot;]&quot;},&quot;notebook&quot;:{&quot;notebookId&quot;:&quot;1762041669422&quot;},&quot;clusterId&quot;:&quot;0203-121714-a997tnmz&quot;,&quot;readVersion&quot;:3,&quot;isolationLevel&quot;:&quot;WriteSerializable&quot;,&quot;isBlindAppend&quot;:false,&quot;operationMetrics&quot;:{&quot;numRemovedFiles&quot;:&quot;1&quot;,&quot;numRemovedBytes&quot;:&quot;1095&quot;,&quot;numCopiedRows&quot;:&quot;1&quot;,&quot;numDeletionVectorsAdded&quot;:&quot;0&quot;,&quot;numDeletionVectorsRemoved&quot;:&quot;0&quot;,&quot;numAddedChangeFiles&quot;:&quot;0&quot;,&quot;executionTimeMs&quot;:&quot;3200&quot;,&quot;scanTimeMs&quot;:&quot;1527&quot;,&quot;numAddedFiles&quot;:&quot;1&quot;,&quot;numUpdatedRows&quot;:&quot;1&quot;,&quot;numAddedBytes&quot;:&quot;1095&quot;,&quot;rewriteTimeMs&quot;:&quot;1673&quot;},&quot;engineInfo&quot;:&quot;Databricks-Runtime/12.2.x-scala2.12&quot;,&quot;txnId&quot;:&quot;5a097c08-2206-447b-a81a-60be8f87fde2&quot;}}\n",
       "{&quot;remove&quot;:{&quot;path&quot;:&quot;part-00000-d45f72b3-b98e-467c-92a8-4a101d657348-c000.snappy.parquet&quot;,&quot;deletionTimestamp&quot;:1738585480476,&quot;dataChange&quot;:true,&quot;extendedFileMetadata&quot;:true,&quot;partitionValues&quot;:{},&quot;size&quot;:1095,&quot;tags&quot;:{&quot;INSERTION_TIME&quot;:&quot;1738585223000000&quot;,&quot;MIN_INSERTION_TIME&quot;:&quot;1738585223000000&quot;,&quot;MAX_INSERTION_TIME&quot;:&quot;1738585223000000&quot;,&quot;OPTIMIZE_TARGET_SIZE&quot;:&quot;268435456&quot;}}}\n",
       "{&quot;add&quot;:{&quot;path&quot;:&quot;part-00000-8643398e-2a34-41e0-997e-5b03cc9c6702-c000.snappy.parquet&quot;,&quot;partitionValues&quot;:{},&quot;size&quot;:1095,&quot;modificationTime&quot;:1738585480000,&quot;dataChange&quot;:true,&quot;stats&quot;:&quot;{\\&quot;numRecords\\&quot;:2,\\&quot;minValues\\&quot;:{\\&quot;id\\&quot;:21,\\&quot;name\\&quot;:\\&quot;Raviteja\\&quot;,\\&quot;salary\\&quot;:550000.0},\\&quot;maxValues\\&quot;:{\\&quot;id\\&quot;:28,\\&quot;name\\&quot;:\\&quot;Sandeep\\&quot;,\\&quot;salary\\&quot;:680000.0},\\&quot;nullCount\\&quot;:{\\&quot;id\\&quot;:0,\\&quot;name\\&quot;:0,\\&quot;salary\\&quot;:0}}&quot;,&quot;tags&quot;:{&quot;MAX_INSERTION_TIME&quot;:&quot;1738585223000000&quot;,&quot;INSERTION_TIME&quot;:&quot;1738585223000000&quot;,&quot;MIN_INSERTION_TIME&quot;:&quot;1738585223000000&quot;,&quot;OPTIMIZE_TARGET_SIZE&quot;:&quot;268435456&quot;}}}\n",
       "</div>"
      ]
     },
     "metadata": {
      "application/vnd.databricks.v1+output": {
       "addedWidgets": {},
       "arguments": {},
       "data": "<div class=\"ansiout\">{&quot;commitInfo&quot;:{&quot;timestamp&quot;:1738585480481,&quot;userId&quot;:&quot;1270209217208486&quot;,&quot;userName&quot;:&quot;krtproperty72@gmail.com&quot;,&quot;operation&quot;:&quot;UPDATE&quot;,&quot;operationParameters&quot;:{&quot;predicate&quot;:&quot;[\\&quot;Contains(name#2442, Ravi)\\&quot;]&quot;},&quot;notebook&quot;:{&quot;notebookId&quot;:&quot;1762041669422&quot;},&quot;clusterId&quot;:&quot;0203-121714-a997tnmz&quot;,&quot;readVersion&quot;:3,&quot;isolationLevel&quot;:&quot;WriteSerializable&quot;,&quot;isBlindAppend&quot;:false,&quot;operationMetrics&quot;:{&quot;numRemovedFiles&quot;:&quot;1&quot;,&quot;numRemovedBytes&quot;:&quot;1095&quot;,&quot;numCopiedRows&quot;:&quot;1&quot;,&quot;numDeletionVectorsAdded&quot;:&quot;0&quot;,&quot;numDeletionVectorsRemoved&quot;:&quot;0&quot;,&quot;numAddedChangeFiles&quot;:&quot;0&quot;,&quot;executionTimeMs&quot;:&quot;3200&quot;,&quot;scanTimeMs&quot;:&quot;1527&quot;,&quot;numAddedFiles&quot;:&quot;1&quot;,&quot;numUpdatedRows&quot;:&quot;1&quot;,&quot;numAddedBytes&quot;:&quot;1095&quot;,&quot;rewriteTimeMs&quot;:&quot;1673&quot;},&quot;engineInfo&quot;:&quot;Databricks-Runtime/12.2.x-scala2.12&quot;,&quot;txnId&quot;:&quot;5a097c08-2206-447b-a81a-60be8f87fde2&quot;}}\n{&quot;remove&quot;:{&quot;path&quot;:&quot;part-00000-d45f72b3-b98e-467c-92a8-4a101d657348-c000.snappy.parquet&quot;,&quot;deletionTimestamp&quot;:1738585480476,&quot;dataChange&quot;:true,&quot;extendedFileMetadata&quot;:true,&quot;partitionValues&quot;:{},&quot;size&quot;:1095,&quot;tags&quot;:{&quot;INSERTION_TIME&quot;:&quot;1738585223000000&quot;,&quot;MIN_INSERTION_TIME&quot;:&quot;1738585223000000&quot;,&quot;MAX_INSERTION_TIME&quot;:&quot;1738585223000000&quot;,&quot;OPTIMIZE_TARGET_SIZE&quot;:&quot;268435456&quot;}}}\n{&quot;add&quot;:{&quot;path&quot;:&quot;part-00000-8643398e-2a34-41e0-997e-5b03cc9c6702-c000.snappy.parquet&quot;,&quot;partitionValues&quot;:{},&quot;size&quot;:1095,&quot;modificationTime&quot;:1738585480000,&quot;dataChange&quot;:true,&quot;stats&quot;:&quot;{\\&quot;numRecords\\&quot;:2,\\&quot;minValues\\&quot;:{\\&quot;id\\&quot;:21,\\&quot;name\\&quot;:\\&quot;Raviteja\\&quot;,\\&quot;salary\\&quot;:550000.0},\\&quot;maxValues\\&quot;:{\\&quot;id\\&quot;:28,\\&quot;name\\&quot;:\\&quot;Sandeep\\&quot;,\\&quot;salary\\&quot;:680000.0},\\&quot;nullCount\\&quot;:{\\&quot;id\\&quot;:0,\\&quot;name\\&quot;:0,\\&quot;salary\\&quot;:0}}&quot;,&quot;tags&quot;:{&quot;MAX_INSERTION_TIME&quot;:&quot;1738585223000000&quot;,&quot;INSERTION_TIME&quot;:&quot;1738585223000000&quot;,&quot;MIN_INSERTION_TIME&quot;:&quot;1738585223000000&quot;,&quot;OPTIMIZE_TARGET_SIZE&quot;:&quot;268435456&quot;}}}\n</div>",
       "datasetInfos": [],
       "metadata": {
        "isDbfsCommandResult": false
       },
       "removedWidgets": [],
       "type": "html"
      }
     },
     "output_type": "display_data"
    }
   ],
   "source": [
    "%fs head dbfs:/user/hive/warehouse/employee/_delta_log/00000000000000000004.json"
   ]
  },
  {
   "cell_type": "code",
   "execution_count": 0,
   "metadata": {
    "application/vnd.databricks.v1+cell": {
     "cellMetadata": {
      "byteLimit": 2048000,
      "implicitDf": true,
      "rowLimit": 10000
     },
     "inputWidgets": {},
     "nuid": "cca3fa54-8e6d-4d1e-b9cd-39cc183b50c1",
     "showTitle": false,
     "tableResultSettingsMap": {},
     "title": ""
    }
   },
   "outputs": [
    {
     "output_type": "display_data",
     "data": {
      "text/html": [
       "<style scoped>\n",
       "  .table-result-container {\n",
       "    max-height: 300px;\n",
       "    overflow: auto;\n",
       "  }\n",
       "  table, th, td {\n",
       "    border: 1px solid black;\n",
       "    border-collapse: collapse;\n",
       "  }\n",
       "  th, td {\n",
       "    padding: 5px;\n",
       "  }\n",
       "  th {\n",
       "    text-align: left;\n",
       "  }\n",
       "</style><div class='table-result-container'><table class='table-result'><thead style='background-color: white'><tr><th>path</th><th>metrics</th></tr></thead><tbody><tr><td>dbfs:/user/hive/warehouse/employee</td><td>List(1, 2, List(1203, 1203, 1203.0, 1, 1203), List(1095, 1203, 1149.0, 2, 2298), 0, null, 1, 2, 0, true, 0, 0, 1738602927251, 1738602938200, 8, 1, null, List(0, 0), 3, 3, 1288)</td></tr></tbody></table></div>"
      ]
     },
     "metadata": {
      "application/vnd.databricks.v1+output": {
       "addedWidgets": {},
       "aggData": [],
       "aggError": "",
       "aggOverflow": false,
       "aggSchema": [],
       "aggSeriesLimitReached": false,
       "aggType": "",
       "arguments": {},
       "columnCustomDisplayInfos": {},
       "data": [
        [
         "dbfs:/user/hive/warehouse/employee",
         [
          1,
          2,
          [
           1203,
           1203,
           1203.0,
           1,
           1203
          ],
          [
           1095,
           1203,
           1149.0,
           2,
           2298
          ],
          0,
          null,
          1,
          2,
          0,
          true,
          0,
          0,
          1738602927251,
          1738602938200,
          8,
          1,
          null,
          [
           0,
           0
          ],
          3,
          3,
          1288
         ]
        ]
       ],
       "datasetInfos": [],
       "dbfsResultPath": null,
       "isJsonSchema": true,
       "metadata": {},
       "overflow": false,
       "plotOptions": {
        "customPlotOptions": {},
        "displayType": "table",
        "pivotAggregation": null,
        "pivotColumns": null,
        "xColumns": null,
        "yColumns": null
       },
       "removedWidgets": [],
       "schema": [
        {
         "metadata": "{}",
         "name": "path",
         "type": "\"string\""
        },
        {
         "metadata": "{}",
         "name": "metrics",
         "type": "{\"type\":\"struct\",\"fields\":[{\"name\":\"numFilesAdded\",\"type\":\"long\",\"nullable\":false,\"metadata\":{}},{\"name\":\"numFilesRemoved\",\"type\":\"long\",\"nullable\":false,\"metadata\":{}},{\"name\":\"filesAdded\",\"type\":{\"type\":\"struct\",\"fields\":[{\"name\":\"min\",\"type\":\"long\",\"nullable\":true,\"metadata\":{}},{\"name\":\"max\",\"type\":\"long\",\"nullable\":true,\"metadata\":{}},{\"name\":\"avg\",\"type\":\"double\",\"nullable\":false,\"metadata\":{}},{\"name\":\"totalFiles\",\"type\":\"long\",\"nullable\":false,\"metadata\":{}},{\"name\":\"totalSize\",\"type\":\"long\",\"nullable\":false,\"metadata\":{}}]},\"nullable\":true,\"metadata\":{}},{\"name\":\"filesRemoved\",\"type\":{\"type\":\"struct\",\"fields\":[{\"name\":\"min\",\"type\":\"long\",\"nullable\":true,\"metadata\":{}},{\"name\":\"max\",\"type\":\"long\",\"nullable\":true,\"metadata\":{}},{\"name\":\"avg\",\"type\":\"double\",\"nullable\":false,\"metadata\":{}},{\"name\":\"totalFiles\",\"type\":\"long\",\"nullable\":false,\"metadata\":{}},{\"name\":\"totalSize\",\"type\":\"long\",\"nullable\":false,\"metadata\":{}}]},\"nullable\":true,\"metadata\":{}},{\"name\":\"partitionsOptimized\",\"type\":\"long\",\"nullable\":false,\"metadata\":{}},{\"name\":\"zOrderStats\",\"type\":{\"type\":\"struct\",\"fields\":[{\"name\":\"strategyName\",\"type\":\"string\",\"nullable\":true,\"metadata\":{}},{\"name\":\"inputCubeFiles\",\"type\":{\"type\":\"struct\",\"fields\":[{\"name\":\"num\",\"type\":\"long\",\"nullable\":false,\"metadata\":{}},{\"name\":\"size\",\"type\":\"long\",\"nullable\":false,\"metadata\":{}}]},\"nullable\":true,\"metadata\":{}},{\"name\":\"inputOtherFiles\",\"type\":{\"type\":\"struct\",\"fields\":[{\"name\":\"num\",\"type\":\"long\",\"nullable\":false,\"metadata\":{}},{\"name\":\"size\",\"type\":\"long\",\"nullable\":false,\"metadata\":{}}]},\"nullable\":true,\"metadata\":{}},{\"name\":\"inputNumCubes\",\"type\":\"long\",\"nullable\":false,\"metadata\":{}},{\"name\":\"mergedFiles\",\"type\":{\"type\":\"struct\",\"fields\":[{\"name\":\"num\",\"type\":\"long\",\"nullable\":false,\"metadata\":{}},{\"name\":\"size\",\"type\":\"long\",\"nullable\":false,\"metadata\":{}}]},\"nullable\":true,\"metadata\":{}},{\"name\":\"numOutputCubes\",\"type\":\"long\",\"nullable\":false,\"metadata\":{}},{\"name\":\"mergedNumCubes\",\"type\":\"long\",\"nullable\":true,\"metadata\":{}}]},\"nullable\":true,\"metadata\":{}},{\"name\":\"numBatches\",\"type\":\"long\",\"nullable\":false,\"metadata\":{}},{\"name\":\"totalConsideredFiles\",\"type\":\"long\",\"nullable\":false,\"metadata\":{}},{\"name\":\"totalFilesSkipped\",\"type\":\"long\",\"nullable\":false,\"metadata\":{}},{\"name\":\"preserveInsertionOrder\",\"type\":\"boolean\",\"nullable\":false,\"metadata\":{}},{\"name\":\"numFilesSkippedToReduceWriteAmplification\",\"type\":\"long\",\"nullable\":false,\"metadata\":{}},{\"name\":\"numBytesSkippedToReduceWriteAmplification\",\"type\":\"long\",\"nullable\":false,\"metadata\":{}},{\"name\":\"startTimeMs\",\"type\":\"long\",\"nullable\":false,\"metadata\":{}},{\"name\":\"endTimeMs\",\"type\":\"long\",\"nullable\":false,\"metadata\":{}},{\"name\":\"totalClusterParallelism\",\"type\":\"long\",\"nullable\":false,\"metadata\":{}},{\"name\":\"totalScheduledTasks\",\"type\":\"long\",\"nullable\":false,\"metadata\":{}},{\"name\":\"autoCompactParallelismStats\",\"type\":{\"type\":\"struct\",\"fields\":[{\"name\":\"maxClusterActiveParallelism\",\"type\":\"long\",\"nullable\":true,\"metadata\":{}},{\"name\":\"minClusterActiveParallelism\",\"type\":\"long\",\"nullable\":true,\"metadata\":{}},{\"name\":\"maxSessionActiveParallelism\",\"type\":\"long\",\"nullable\":true,\"metadata\":{}},{\"name\":\"minSessionActiveParallelism\",\"type\":\"long\",\"nullable\":true,\"metadata\":{}}]},\"nullable\":true,\"metadata\":{}},{\"name\":\"deletionVectorStats\",\"type\":{\"type\":\"struct\",\"fields\":[{\"name\":\"numDeletionVectorsRemoved\",\"type\":\"long\",\"nullable\":false,\"metadata\":{}},{\"name\":\"numDeletionVectorRowsRemoved\",\"type\":\"long\",\"nullable\":false,\"metadata\":{}}]},\"nullable\":true,\"metadata\":{}},{\"name\":\"numTableColumns\",\"type\":\"long\",\"nullable\":false,\"metadata\":{}},{\"name\":\"numTableColumnsWithStats\",\"type\":\"long\",\"nullable\":false,\"metadata\":{}},{\"name\":\"totalTaskExecutionTimeMs\",\"type\":\"long\",\"nullable\":false,\"metadata\":{}}]}"
        }
       ],
       "type": "table"
      }
     },
     "output_type": "display_data"
    }
   ],
   "source": [
    "%sql\n",
    "optimize employee"
   ]
  },
  {
   "cell_type": "code",
   "execution_count": 0,
   "metadata": {
    "application/vnd.databricks.v1+cell": {
     "cellMetadata": {
      "byteLimit": 2048000,
      "implicitDf": true,
      "rowLimit": 10000
     },
     "inputWidgets": {},
     "nuid": "88b9915d-1b39-401b-81a9-9964b6b57fb2",
     "showTitle": false,
     "tableResultSettingsMap": {},
     "title": ""
    }
   },
   "outputs": [
    {
     "output_type": "display_data",
     "data": {
      "text/html": [
       "<style scoped>\n",
       "  .table-result-container {\n",
       "    max-height: 300px;\n",
       "    overflow: auto;\n",
       "  }\n",
       "  table, th, td {\n",
       "    border: 1px solid black;\n",
       "    border-collapse: collapse;\n",
       "  }\n",
       "  th, td {\n",
       "    padding: 5px;\n",
       "  }\n",
       "  th {\n",
       "    text-align: left;\n",
       "  }\n",
       "</style><div class='table-result-container'><table class='table-result'><thead style='background-color: white'><tr><th>version</th><th>timestamp</th><th>userId</th><th>userName</th><th>operation</th><th>operationParameters</th><th>job</th><th>notebook</th><th>clusterId</th><th>readVersion</th><th>isolationLevel</th><th>isBlindAppend</th><th>operationMetrics</th><th>userMetadata</th><th>engineInfo</th></tr></thead><tbody><tr><td>13</td><td>2025-02-03T17:15:34.000+0000</td><td>1270209217208486</td><td>krtproperty72@gmail.com</td><td>OPTIMIZE</td><td>Map(predicate -> [], zOrderBy -> [], batchId -> 0, auto -> false)</td><td>null</td><td>List(1762041669422)</td><td>0203-170608-33t84sha</td><td>12</td><td>SnapshotIsolation</td><td>false</td><td>Map(numRemovedFiles -> 2, numRemovedBytes -> 2298, p25FileSize -> 1203, numDeletionVectorsRemoved -> 0, minFileSize -> 1203, numAddedFiles -> 1, maxFileSize -> 1203, p75FileSize -> 1203, p50FileSize -> 1203, numAddedBytes -> 1203)</td><td>null</td><td>Databricks-Runtime/12.2.x-scala2.12</td></tr><tr><td>12</td><td>2025-02-03T17:15:00.000+0000</td><td>1270209217208486</td><td>krtproperty72@gmail.com</td><td>UPDATE</td><td>Map(predicate -> [\"Contains(name#1556, Ravi)\"])</td><td>null</td><td>List(1762041669422)</td><td>0203-170608-33t84sha</td><td>11</td><td>WriteSerializable</td><td>false</td><td>Map(numRemovedFiles -> 2, numRemovedBytes -> 2306, numCopiedRows -> 3, numDeletionVectorsAdded -> 0, numDeletionVectorsRemoved -> 0, numAddedChangeFiles -> 0, executionTimeMs -> 3881, scanTimeMs -> 1979, numAddedFiles -> 2, numUpdatedRows -> 3, numAddedBytes -> 2298, rewriteTimeMs -> 1876)</td><td>null</td><td>Databricks-Runtime/12.2.x-scala2.12</td></tr><tr><td>11</td><td>2025-02-03T17:14:39.000+0000</td><td>1270209217208486</td><td>krtproperty72@gmail.com</td><td>WRITE</td><td>Map(mode -> Append, partitionBy -> [])</td><td>null</td><td>List(1762041669422)</td><td>0203-170608-33t84sha</td><td>10</td><td>WriteSerializable</td><td>true</td><td>Map(numFiles -> 1, numOutputRows -> 2, numOutputBytes -> 1095)</td><td>null</td><td>Databricks-Runtime/12.2.x-scala2.12</td></tr><tr><td>10</td><td>2025-02-03T14:25:37.000+0000</td><td>1270209217208486</td><td>krtproperty72@gmail.com</td><td>OPTIMIZE</td><td>Map(predicate -> [], zOrderBy -> [\"id\"], batchId -> 0, auto -> false)</td><td>null</td><td>List(1762041669422)</td><td>0203-134734-cjzwo1dt</td><td>9</td><td>SnapshotIsolation</td><td>false</td><td>Map(numRemovedFiles -> 2, numRemovedBytes -> 2190, p25FileSize -> 1211, numDeletionVectorsRemoved -> 0, minFileSize -> 1211, numAddedFiles -> 1, maxFileSize -> 1211, p75FileSize -> 1211, p50FileSize -> 1211, numAddedBytes -> 1211)</td><td>null</td><td>Databricks-Runtime/12.2.x-scala2.12</td></tr><tr><td>9</td><td>2025-02-03T14:22:52.000+0000</td><td>1270209217208486</td><td>krtproperty72@gmail.com</td><td>RESTORE</td><td>Map(version -> 5, timestamp -> null)</td><td>null</td><td>List(1762041669422)</td><td>0203-134734-cjzwo1dt</td><td>8</td><td>Serializable</td><td>false</td><td>Map(numRestoredFiles -> 2, removedFilesSize -> 0, numRemovedFiles -> 0, restoredFilesSize -> 2190, numOfFilesAfterRestore -> 2, tableSizeAfterRestore -> 2190)</td><td>null</td><td>Databricks-Runtime/12.2.x-scala2.12</td></tr><tr><td>8</td><td>2025-02-03T14:21:29.000+0000</td><td>1270209217208486</td><td>krtproperty72@gmail.com</td><td>DELETE</td><td>Map(predicate -> [\"true\"])</td><td>null</td><td>List(1762041669422)</td><td>0203-134734-cjzwo1dt</td><td>7</td><td>WriteSerializable</td><td>false</td><td>Map(numRemovedFiles -> 1, numRemovedBytes -> 1203, numCopiedRows -> 0, numDeletionVectorsAdded -> 0, numDeletionVectorsRemoved -> 0, numAddedChangeFiles -> 0, executionTimeMs -> 74, numDeletedRows -> 4, scanTimeMs -> 60, numAddedFiles -> 0, numAddedBytes -> 0, rewriteTimeMs -> 0)</td><td>null</td><td>Databricks-Runtime/12.2.x-scala2.12</td></tr><tr><td>7</td><td>2025-02-03T14:19:43.000+0000</td><td>1270209217208486</td><td>krtproperty72@gmail.com</td><td>OPTIMIZE</td><td>Map(predicate -> [], zOrderBy -> [], batchId -> 0, auto -> false)</td><td>null</td><td>List(1762041669422)</td><td>0203-134734-cjzwo1dt</td><td>6</td><td>SnapshotIsolation</td><td>false</td><td>Map(numRemovedFiles -> 2, numRemovedBytes -> 2190, p25FileSize -> 1203, numDeletionVectorsRemoved -> 0, minFileSize -> 1203, numAddedFiles -> 1, maxFileSize -> 1203, p75FileSize -> 1203, p50FileSize -> 1203, numAddedBytes -> 1203)</td><td>null</td><td>Databricks-Runtime/12.2.x-scala2.12</td></tr><tr><td>6</td><td>2025-02-03T14:19:25.000+0000</td><td>1270209217208486</td><td>krtproperty72@gmail.com</td><td>UPDATE</td><td>Map(predicate -> [\"Contains(name#3290, Ravi)\"])</td><td>null</td><td>List(1762041669422)</td><td>0203-134734-cjzwo1dt</td><td>5</td><td>WriteSerializable</td><td>false</td><td>Map(numRemovedFiles -> 2, numRemovedBytes -> 2190, numCopiedRows -> 2, numDeletionVectorsAdded -> 0, numDeletionVectorsRemoved -> 0, numAddedChangeFiles -> 0, executionTimeMs -> 3968, scanTimeMs -> 1818, numAddedFiles -> 2, numUpdatedRows -> 2, numAddedBytes -> 2190, rewriteTimeMs -> 2008)</td><td>null</td><td>Databricks-Runtime/12.2.x-scala2.12</td></tr><tr><td>5</td><td>2025-02-03T14:19:05.000+0000</td><td>1270209217208486</td><td>krtproperty72@gmail.com</td><td>WRITE</td><td>Map(mode -> Append, partitionBy -> [])</td><td>null</td><td>List(1762041669422)</td><td>0203-134734-cjzwo1dt</td><td>4</td><td>WriteSerializable</td><td>true</td><td>Map(numFiles -> 1, numOutputRows -> 2, numOutputBytes -> 1095)</td><td>null</td><td>Databricks-Runtime/12.2.x-scala2.12</td></tr><tr><td>4</td><td>2025-02-03T12:24:41.000+0000</td><td>1270209217208486</td><td>krtproperty72@gmail.com</td><td>UPDATE</td><td>Map(predicate -> [\"Contains(name#2442, Ravi)\"])</td><td>null</td><td>List(1762041669422)</td><td>0203-121714-a997tnmz</td><td>3</td><td>WriteSerializable</td><td>false</td><td>Map(numRemovedFiles -> 1, numRemovedBytes -> 1095, numCopiedRows -> 1, numDeletionVectorsAdded -> 0, numDeletionVectorsRemoved -> 0, numAddedChangeFiles -> 0, executionTimeMs -> 3200, scanTimeMs -> 1527, numAddedFiles -> 1, numUpdatedRows -> 1, numAddedBytes -> 1095, rewriteTimeMs -> 1673)</td><td>null</td><td>Databricks-Runtime/12.2.x-scala2.12</td></tr><tr><td>3</td><td>2025-02-03T12:24:05.000+0000</td><td>1270209217208486</td><td>krtproperty72@gmail.com</td><td>UPDATE</td><td>Map(predicate -> [\"EndsWith(name#1777, Ravi)\"])</td><td>null</td><td>List(1762041669422)</td><td>0203-121714-a997tnmz</td><td>2</td><td>WriteSerializable</td><td>false</td><td>Map(numRemovedFiles -> 0, numRemovedBytes -> 0, numCopiedRows -> 0, numDeletionVectorsAdded -> 0, numDeletionVectorsRemoved -> 0, numAddedChangeFiles -> 0, executionTimeMs -> 1828, scanTimeMs -> 1828, numAddedFiles -> 0, numUpdatedRows -> 0, numAddedBytes -> 0, rewriteTimeMs -> 0)</td><td>null</td><td>Databricks-Runtime/12.2.x-scala2.12</td></tr><tr><td>2</td><td>2025-02-03T12:23:38.000+0000</td><td>1270209217208486</td><td>krtproperty72@gmail.com</td><td>UPDATE</td><td>Map(predicate -> [\"(name#1391 = Ravi)\"])</td><td>null</td><td>List(1762041669422)</td><td>0203-121714-a997tnmz</td><td>1</td><td>WriteSerializable</td><td>false</td><td>Map(numRemovedFiles -> 0, numRemovedBytes -> 0, numCopiedRows -> 0, numDeletionVectorsAdded -> 0, numDeletionVectorsRemoved -> 0, numAddedChangeFiles -> 0, executionTimeMs -> 808, scanTimeMs -> 777, numAddedFiles -> 0, numUpdatedRows -> 0, numAddedBytes -> 0, rewriteTimeMs -> 0)</td><td>null</td><td>Databricks-Runtime/12.2.x-scala2.12</td></tr><tr><td>1</td><td>2025-02-03T12:20:24.000+0000</td><td>1270209217208486</td><td>krtproperty72@gmail.com</td><td>WRITE</td><td>Map(mode -> Append, partitionBy -> [])</td><td>null</td><td>List(1762041669422)</td><td>0203-121714-a997tnmz</td><td>0</td><td>WriteSerializable</td><td>true</td><td>Map(numFiles -> 1, numOutputRows -> 2, numOutputBytes -> 1095)</td><td>null</td><td>Databricks-Runtime/12.2.x-scala2.12</td></tr><tr><td>0</td><td>2025-02-03T12:19:47.000+0000</td><td>1270209217208486</td><td>krtproperty72@gmail.com</td><td>CREATE TABLE</td><td>Map(isManaged -> true, description -> null, partitionBy -> [], properties -> {})</td><td>null</td><td>List(1762041669422)</td><td>0203-121714-a997tnmz</td><td>null</td><td>WriteSerializable</td><td>true</td><td>Map()</td><td>null</td><td>Databricks-Runtime/12.2.x-scala2.12</td></tr></tbody></table></div>"
      ]
     },
     "metadata": {
      "application/vnd.databricks.v1+output": {
       "addedWidgets": {},
       "aggData": [],
       "aggError": "",
       "aggOverflow": false,
       "aggSchema": [],
       "aggSeriesLimitReached": false,
       "aggType": "",
       "arguments": {},
       "columnCustomDisplayInfos": {},
       "data": [
        [
         13,
         "2025-02-03T17:15:34.000+0000",
         "1270209217208486",
         "krtproperty72@gmail.com",
         "OPTIMIZE",
         {
          "auto": "false",
          "batchId": "0",
          "predicate": "[]",
          "zOrderBy": "[]"
         },
         null,
         [
          "1762041669422"
         ],
         "0203-170608-33t84sha",
         12,
         "SnapshotIsolation",
         false,
         {
          "maxFileSize": "1203",
          "minFileSize": "1203",
          "numAddedBytes": "1203",
          "numAddedFiles": "1",
          "numDeletionVectorsRemoved": "0",
          "numRemovedBytes": "2298",
          "numRemovedFiles": "2",
          "p25FileSize": "1203",
          "p50FileSize": "1203",
          "p75FileSize": "1203"
         },
         null,
         "Databricks-Runtime/12.2.x-scala2.12"
        ],
        [
         12,
         "2025-02-03T17:15:00.000+0000",
         "1270209217208486",
         "krtproperty72@gmail.com",
         "UPDATE",
         {
          "predicate": "[\"Contains(name#1556, Ravi)\"]"
         },
         null,
         [
          "1762041669422"
         ],
         "0203-170608-33t84sha",
         11,
         "WriteSerializable",
         false,
         {
          "executionTimeMs": "3881",
          "numAddedBytes": "2298",
          "numAddedChangeFiles": "0",
          "numAddedFiles": "2",
          "numCopiedRows": "3",
          "numDeletionVectorsAdded": "0",
          "numDeletionVectorsRemoved": "0",
          "numRemovedBytes": "2306",
          "numRemovedFiles": "2",
          "numUpdatedRows": "3",
          "rewriteTimeMs": "1876",
          "scanTimeMs": "1979"
         },
         null,
         "Databricks-Runtime/12.2.x-scala2.12"
        ],
        [
         11,
         "2025-02-03T17:14:39.000+0000",
         "1270209217208486",
         "krtproperty72@gmail.com",
         "WRITE",
         {
          "mode": "Append",
          "partitionBy": "[]"
         },
         null,
         [
          "1762041669422"
         ],
         "0203-170608-33t84sha",
         10,
         "WriteSerializable",
         true,
         {
          "numFiles": "1",
          "numOutputBytes": "1095",
          "numOutputRows": "2"
         },
         null,
         "Databricks-Runtime/12.2.x-scala2.12"
        ],
        [
         10,
         "2025-02-03T14:25:37.000+0000",
         "1270209217208486",
         "krtproperty72@gmail.com",
         "OPTIMIZE",
         {
          "auto": "false",
          "batchId": "0",
          "predicate": "[]",
          "zOrderBy": "[\"id\"]"
         },
         null,
         [
          "1762041669422"
         ],
         "0203-134734-cjzwo1dt",
         9,
         "SnapshotIsolation",
         false,
         {
          "maxFileSize": "1211",
          "minFileSize": "1211",
          "numAddedBytes": "1211",
          "numAddedFiles": "1",
          "numDeletionVectorsRemoved": "0",
          "numRemovedBytes": "2190",
          "numRemovedFiles": "2",
          "p25FileSize": "1211",
          "p50FileSize": "1211",
          "p75FileSize": "1211"
         },
         null,
         "Databricks-Runtime/12.2.x-scala2.12"
        ],
        [
         9,
         "2025-02-03T14:22:52.000+0000",
         "1270209217208486",
         "krtproperty72@gmail.com",
         "RESTORE",
         {
          "timestamp": null,
          "version": "5"
         },
         null,
         [
          "1762041669422"
         ],
         "0203-134734-cjzwo1dt",
         8,
         "Serializable",
         false,
         {
          "numOfFilesAfterRestore": "2",
          "numRemovedFiles": "0",
          "numRestoredFiles": "2",
          "removedFilesSize": "0",
          "restoredFilesSize": "2190",
          "tableSizeAfterRestore": "2190"
         },
         null,
         "Databricks-Runtime/12.2.x-scala2.12"
        ],
        [
         8,
         "2025-02-03T14:21:29.000+0000",
         "1270209217208486",
         "krtproperty72@gmail.com",
         "DELETE",
         {
          "predicate": "[\"true\"]"
         },
         null,
         [
          "1762041669422"
         ],
         "0203-134734-cjzwo1dt",
         7,
         "WriteSerializable",
         false,
         {
          "executionTimeMs": "74",
          "numAddedBytes": "0",
          "numAddedChangeFiles": "0",
          "numAddedFiles": "0",
          "numCopiedRows": "0",
          "numDeletedRows": "4",
          "numDeletionVectorsAdded": "0",
          "numDeletionVectorsRemoved": "0",
          "numRemovedBytes": "1203",
          "numRemovedFiles": "1",
          "rewriteTimeMs": "0",
          "scanTimeMs": "60"
         },
         null,
         "Databricks-Runtime/12.2.x-scala2.12"
        ],
        [
         7,
         "2025-02-03T14:19:43.000+0000",
         "1270209217208486",
         "krtproperty72@gmail.com",
         "OPTIMIZE",
         {
          "auto": "false",
          "batchId": "0",
          "predicate": "[]",
          "zOrderBy": "[]"
         },
         null,
         [
          "1762041669422"
         ],
         "0203-134734-cjzwo1dt",
         6,
         "SnapshotIsolation",
         false,
         {
          "maxFileSize": "1203",
          "minFileSize": "1203",
          "numAddedBytes": "1203",
          "numAddedFiles": "1",
          "numDeletionVectorsRemoved": "0",
          "numRemovedBytes": "2190",
          "numRemovedFiles": "2",
          "p25FileSize": "1203",
          "p50FileSize": "1203",
          "p75FileSize": "1203"
         },
         null,
         "Databricks-Runtime/12.2.x-scala2.12"
        ],
        [
         6,
         "2025-02-03T14:19:25.000+0000",
         "1270209217208486",
         "krtproperty72@gmail.com",
         "UPDATE",
         {
          "predicate": "[\"Contains(name#3290, Ravi)\"]"
         },
         null,
         [
          "1762041669422"
         ],
         "0203-134734-cjzwo1dt",
         5,
         "WriteSerializable",
         false,
         {
          "executionTimeMs": "3968",
          "numAddedBytes": "2190",
          "numAddedChangeFiles": "0",
          "numAddedFiles": "2",
          "numCopiedRows": "2",
          "numDeletionVectorsAdded": "0",
          "numDeletionVectorsRemoved": "0",
          "numRemovedBytes": "2190",
          "numRemovedFiles": "2",
          "numUpdatedRows": "2",
          "rewriteTimeMs": "2008",
          "scanTimeMs": "1818"
         },
         null,
         "Databricks-Runtime/12.2.x-scala2.12"
        ],
        [
         5,
         "2025-02-03T14:19:05.000+0000",
         "1270209217208486",
         "krtproperty72@gmail.com",
         "WRITE",
         {
          "mode": "Append",
          "partitionBy": "[]"
         },
         null,
         [
          "1762041669422"
         ],
         "0203-134734-cjzwo1dt",
         4,
         "WriteSerializable",
         true,
         {
          "numFiles": "1",
          "numOutputBytes": "1095",
          "numOutputRows": "2"
         },
         null,
         "Databricks-Runtime/12.2.x-scala2.12"
        ],
        [
         4,
         "2025-02-03T12:24:41.000+0000",
         "1270209217208486",
         "krtproperty72@gmail.com",
         "UPDATE",
         {
          "predicate": "[\"Contains(name#2442, Ravi)\"]"
         },
         null,
         [
          "1762041669422"
         ],
         "0203-121714-a997tnmz",
         3,
         "WriteSerializable",
         false,
         {
          "executionTimeMs": "3200",
          "numAddedBytes": "1095",
          "numAddedChangeFiles": "0",
          "numAddedFiles": "1",
          "numCopiedRows": "1",
          "numDeletionVectorsAdded": "0",
          "numDeletionVectorsRemoved": "0",
          "numRemovedBytes": "1095",
          "numRemovedFiles": "1",
          "numUpdatedRows": "1",
          "rewriteTimeMs": "1673",
          "scanTimeMs": "1527"
         },
         null,
         "Databricks-Runtime/12.2.x-scala2.12"
        ],
        [
         3,
         "2025-02-03T12:24:05.000+0000",
         "1270209217208486",
         "krtproperty72@gmail.com",
         "UPDATE",
         {
          "predicate": "[\"EndsWith(name#1777, Ravi)\"]"
         },
         null,
         [
          "1762041669422"
         ],
         "0203-121714-a997tnmz",
         2,
         "WriteSerializable",
         false,
         {
          "executionTimeMs": "1828",
          "numAddedBytes": "0",
          "numAddedChangeFiles": "0",
          "numAddedFiles": "0",
          "numCopiedRows": "0",
          "numDeletionVectorsAdded": "0",
          "numDeletionVectorsRemoved": "0",
          "numRemovedBytes": "0",
          "numRemovedFiles": "0",
          "numUpdatedRows": "0",
          "rewriteTimeMs": "0",
          "scanTimeMs": "1828"
         },
         null,
         "Databricks-Runtime/12.2.x-scala2.12"
        ],
        [
         2,
         "2025-02-03T12:23:38.000+0000",
         "1270209217208486",
         "krtproperty72@gmail.com",
         "UPDATE",
         {
          "predicate": "[\"(name#1391 = Ravi)\"]"
         },
         null,
         [
          "1762041669422"
         ],
         "0203-121714-a997tnmz",
         1,
         "WriteSerializable",
         false,
         {
          "executionTimeMs": "808",
          "numAddedBytes": "0",
          "numAddedChangeFiles": "0",
          "numAddedFiles": "0",
          "numCopiedRows": "0",
          "numDeletionVectorsAdded": "0",
          "numDeletionVectorsRemoved": "0",
          "numRemovedBytes": "0",
          "numRemovedFiles": "0",
          "numUpdatedRows": "0",
          "rewriteTimeMs": "0",
          "scanTimeMs": "777"
         },
         null,
         "Databricks-Runtime/12.2.x-scala2.12"
        ],
        [
         1,
         "2025-02-03T12:20:24.000+0000",
         "1270209217208486",
         "krtproperty72@gmail.com",
         "WRITE",
         {
          "mode": "Append",
          "partitionBy": "[]"
         },
         null,
         [
          "1762041669422"
         ],
         "0203-121714-a997tnmz",
         0,
         "WriteSerializable",
         true,
         {
          "numFiles": "1",
          "numOutputBytes": "1095",
          "numOutputRows": "2"
         },
         null,
         "Databricks-Runtime/12.2.x-scala2.12"
        ],
        [
         0,
         "2025-02-03T12:19:47.000+0000",
         "1270209217208486",
         "krtproperty72@gmail.com",
         "CREATE TABLE",
         {
          "description": null,
          "isManaged": "true",
          "partitionBy": "[]",
          "properties": "{}"
         },
         null,
         [
          "1762041669422"
         ],
         "0203-121714-a997tnmz",
         null,
         "WriteSerializable",
         true,
         {},
         null,
         "Databricks-Runtime/12.2.x-scala2.12"
        ]
       ],
       "datasetInfos": [],
       "dbfsResultPath": null,
       "isJsonSchema": true,
       "metadata": {},
       "overflow": false,
       "plotOptions": {
        "customPlotOptions": {},
        "displayType": "table",
        "pivotAggregation": null,
        "pivotColumns": null,
        "xColumns": null,
        "yColumns": null
       },
       "removedWidgets": [],
       "schema": [
        {
         "metadata": "{}",
         "name": "version",
         "type": "\"long\""
        },
        {
         "metadata": "{}",
         "name": "timestamp",
         "type": "\"timestamp\""
        },
        {
         "metadata": "{}",
         "name": "userId",
         "type": "\"string\""
        },
        {
         "metadata": "{}",
         "name": "userName",
         "type": "\"string\""
        },
        {
         "metadata": "{}",
         "name": "operation",
         "type": "\"string\""
        },
        {
         "metadata": "{}",
         "name": "operationParameters",
         "type": "{\"type\":\"map\",\"keyType\":\"string\",\"valueType\":\"string\",\"valueContainsNull\":true}"
        },
        {
         "metadata": "{}",
         "name": "job",
         "type": "{\"type\":\"struct\",\"fields\":[{\"name\":\"jobId\",\"type\":\"string\",\"nullable\":true,\"metadata\":{}},{\"name\":\"jobName\",\"type\":\"string\",\"nullable\":true,\"metadata\":{}},{\"name\":\"jobRunId\",\"type\":\"string\",\"nullable\":true,\"metadata\":{}},{\"name\":\"runId\",\"type\":\"string\",\"nullable\":true,\"metadata\":{}},{\"name\":\"jobOwnerId\",\"type\":\"string\",\"nullable\":true,\"metadata\":{}},{\"name\":\"triggerType\",\"type\":\"string\",\"nullable\":true,\"metadata\":{}}]}"
        },
        {
         "metadata": "{}",
         "name": "notebook",
         "type": "{\"type\":\"struct\",\"fields\":[{\"name\":\"notebookId\",\"type\":\"string\",\"nullable\":true,\"metadata\":{}}]}"
        },
        {
         "metadata": "{}",
         "name": "clusterId",
         "type": "\"string\""
        },
        {
         "metadata": "{}",
         "name": "readVersion",
         "type": "\"long\""
        },
        {
         "metadata": "{}",
         "name": "isolationLevel",
         "type": "\"string\""
        },
        {
         "metadata": "{}",
         "name": "isBlindAppend",
         "type": "\"boolean\""
        },
        {
         "metadata": "{}",
         "name": "operationMetrics",
         "type": "{\"type\":\"map\",\"keyType\":\"string\",\"valueType\":\"string\",\"valueContainsNull\":true}"
        },
        {
         "metadata": "{}",
         "name": "userMetadata",
         "type": "\"string\""
        },
        {
         "metadata": "{}",
         "name": "engineInfo",
         "type": "\"string\""
        }
       ],
       "type": "table"
      }
     },
     "output_type": "display_data"
    }
   ],
   "source": [
    "%sql\n",
    "describe history employee\n"
   ]
  },
  {
   "cell_type": "code",
   "execution_count": 0,
   "metadata": {
    "application/vnd.databricks.v1+cell": {
     "cellMetadata": {
      "byteLimit": 2048000,
      "implicitDf": true,
      "rowLimit": 10000
     },
     "inputWidgets": {},
     "nuid": "ffd620ab-a52a-4068-a0f8-f1184357acfd",
     "showTitle": false,
     "tableResultSettingsMap": {},
     "title": ""
    }
   },
   "outputs": [
    {
     "output_type": "display_data",
     "data": {
      "text/html": [
       "<style scoped>\n",
       "  .table-result-container {\n",
       "    max-height: 300px;\n",
       "    overflow: auto;\n",
       "  }\n",
       "  table, th, td {\n",
       "    border: 1px solid black;\n",
       "    border-collapse: collapse;\n",
       "  }\n",
       "  th, td {\n",
       "    padding: 5px;\n",
       "  }\n",
       "  th {\n",
       "    text-align: left;\n",
       "  }\n",
       "</style><div class='table-result-container'><table class='table-result'><thead style='background-color: white'><tr><th>id</th><th>name</th><th>salary</th></tr></thead><tbody><tr><td>28</td><td>Raviteja</td><td>550000.0</td></tr><tr><td>21</td><td>Sandeep</td><td>680000.0</td></tr></tbody></table></div>"
      ]
     },
     "metadata": {
      "application/vnd.databricks.v1+output": {
       "addedWidgets": {},
       "aggData": [],
       "aggError": "",
       "aggOverflow": false,
       "aggSchema": [],
       "aggSeriesLimitReached": false,
       "aggType": "",
       "arguments": {},
       "columnCustomDisplayInfos": {},
       "data": [
        [
         28,
         "Raviteja",
         550000.0
        ],
        [
         21,
         "Sandeep",
         680000.0
        ]
       ],
       "datasetInfos": [],
       "dbfsResultPath": null,
       "isJsonSchema": true,
       "metadata": {},
       "overflow": false,
       "plotOptions": {
        "customPlotOptions": {},
        "displayType": "table",
        "pivotAggregation": null,
        "pivotColumns": null,
        "xColumns": null,
        "yColumns": null
       },
       "removedWidgets": [],
       "schema": [
        {
         "metadata": "{}",
         "name": "id",
         "type": "\"integer\""
        },
        {
         "metadata": "{}",
         "name": "name",
         "type": "\"string\""
        },
        {
         "metadata": "{}",
         "name": "salary",
         "type": "\"double\""
        }
       ],
       "type": "table"
      }
     },
     "output_type": "display_data"
    }
   ],
   "source": [
    "%sql\n",
    "select * from employee version as of 4\n"
   ]
  },
  {
   "cell_type": "code",
   "execution_count": 0,
   "metadata": {
    "application/vnd.databricks.v1+cell": {
     "cellMetadata": {
      "byteLimit": 2048000,
      "implicitDf": true,
      "rowLimit": 10000
     },
     "inputWidgets": {},
     "nuid": "77f1591b-b529-4223-af55-004615cfd6dd",
     "showTitle": false,
     "tableResultSettingsMap": {},
     "title": ""
    }
   },
   "outputs": [
    {
     "output_type": "display_data",
     "data": {
      "text/html": [
       "<style scoped>\n",
       "  .table-result-container {\n",
       "    max-height: 300px;\n",
       "    overflow: auto;\n",
       "  }\n",
       "  table, th, td {\n",
       "    border: 1px solid black;\n",
       "    border-collapse: collapse;\n",
       "  }\n",
       "  th, td {\n",
       "    padding: 5px;\n",
       "  }\n",
       "  th {\n",
       "    text-align: left;\n",
       "  }\n",
       "</style><div class='table-result-container'><table class='table-result'><thead style='background-color: white'><tr><th>id</th><th>name</th><th>salary</th></tr></thead><tbody><tr><td>28</td><td>Raviteja</td><td>550000.0</td></tr><tr><td>21</td><td>Sandeep</td><td>680000.0</td></tr><tr><td>28</td><td>Raviteja</td><td>550000.0</td></tr><tr><td>21</td><td>Sandeep</td><td>680000.0</td></tr></tbody></table></div>"
      ]
     },
     "metadata": {
      "application/vnd.databricks.v1+output": {
       "addedWidgets": {},
       "aggData": [],
       "aggError": "",
       "aggOverflow": false,
       "aggSchema": [],
       "aggSeriesLimitReached": false,
       "aggType": "",
       "arguments": {},
       "columnCustomDisplayInfos": {},
       "data": [
        [
         28,
         "Raviteja",
         550000.0
        ],
        [
         21,
         "Sandeep",
         680000.0
        ],
        [
         28,
         "Raviteja",
         550000.0
        ],
        [
         21,
         "Sandeep",
         680000.0
        ]
       ],
       "datasetInfos": [],
       "dbfsResultPath": null,
       "isJsonSchema": true,
       "metadata": {},
       "overflow": false,
       "plotOptions": {
        "customPlotOptions": {},
        "displayType": "table",
        "pivotAggregation": null,
        "pivotColumns": null,
        "xColumns": null,
        "yColumns": null
       },
       "removedWidgets": [],
       "schema": [
        {
         "metadata": "{}",
         "name": "id",
         "type": "\"integer\""
        },
        {
         "metadata": "{}",
         "name": "name",
         "type": "\"string\""
        },
        {
         "metadata": "{}",
         "name": "salary",
         "type": "\"double\""
        }
       ],
       "type": "table"
      }
     },
     "output_type": "display_data"
    }
   ],
   "source": [
    "%sql\n",
    "select * from employee@v7\n"
   ]
  },
  {
   "cell_type": "code",
   "execution_count": 0,
   "metadata": {
    "application/vnd.databricks.v1+cell": {
     "cellMetadata": {
      "byteLimit": 2048000,
      "implicitDf": true,
      "rowLimit": 10000
     },
     "inputWidgets": {},
     "nuid": "d318d1ef-b408-406d-9126-20806292ecac",
     "showTitle": false,
     "tableResultSettingsMap": {},
     "title": ""
    }
   },
   "outputs": [
    {
     "output_type": "display_data",
     "data": {
      "text/html": [
       "<style scoped>\n",
       "  .table-result-container {\n",
       "    max-height: 300px;\n",
       "    overflow: auto;\n",
       "  }\n",
       "  table, th, td {\n",
       "    border: 1px solid black;\n",
       "    border-collapse: collapse;\n",
       "  }\n",
       "  th, td {\n",
       "    padding: 5px;\n",
       "  }\n",
       "  th {\n",
       "    text-align: left;\n",
       "  }\n",
       "</style><div class='table-result-container'><table class='table-result'><thead style='background-color: white'><tr><th>num_affected_rows</th></tr></thead><tbody><tr><td>6</td></tr></tbody></table></div>"
      ]
     },
     "metadata": {
      "application/vnd.databricks.v1+output": {
       "addedWidgets": {},
       "aggData": [],
       "aggError": "",
       "aggOverflow": false,
       "aggSchema": [],
       "aggSeriesLimitReached": false,
       "aggType": "",
       "arguments": {},
       "columnCustomDisplayInfos": {},
       "data": [
        [
         6
        ]
       ],
       "datasetInfos": [],
       "dbfsResultPath": null,
       "isJsonSchema": true,
       "metadata": {},
       "overflow": false,
       "plotOptions": {
        "customPlotOptions": {},
        "displayType": "table",
        "pivotAggregation": null,
        "pivotColumns": null,
        "xColumns": null,
        "yColumns": null
       },
       "removedWidgets": [],
       "schema": [
        {
         "metadata": "{}",
         "name": "num_affected_rows",
         "type": "\"long\""
        }
       ],
       "type": "table"
      }
     },
     "output_type": "display_data"
    }
   ],
   "source": [
    "%sql\n",
    "delete from employee"
   ]
  },
  {
   "cell_type": "code",
   "execution_count": 0,
   "metadata": {
    "application/vnd.databricks.v1+cell": {
     "cellMetadata": {
      "byteLimit": 2048000,
      "implicitDf": true,
      "rowLimit": 10000
     },
     "inputWidgets": {},
     "nuid": "6cca2c0b-c559-460d-ba44-0faf2aa2bb8a",
     "showTitle": false,
     "tableResultSettingsMap": {},
     "title": ""
    }
   },
   "outputs": [
    {
     "output_type": "display_data",
     "data": {
      "text/html": [
       "<style scoped>\n",
       "  .table-result-container {\n",
       "    max-height: 300px;\n",
       "    overflow: auto;\n",
       "  }\n",
       "  table, th, td {\n",
       "    border: 1px solid black;\n",
       "    border-collapse: collapse;\n",
       "  }\n",
       "  th, td {\n",
       "    padding: 5px;\n",
       "  }\n",
       "  th {\n",
       "    text-align: left;\n",
       "  }\n",
       "</style><div class='table-result-container'><table class='table-result'><thead style='background-color: white'><tr><th>id</th><th>name</th><th>salary</th></tr></thead><tbody></tbody></table></div>"
      ]
     },
     "metadata": {
      "application/vnd.databricks.v1+output": {
       "addedWidgets": {},
       "aggData": [],
       "aggError": "",
       "aggOverflow": false,
       "aggSchema": [],
       "aggSeriesLimitReached": false,
       "aggType": "",
       "arguments": {},
       "columnCustomDisplayInfos": {},
       "data": [],
       "datasetInfos": [],
       "dbfsResultPath": null,
       "isJsonSchema": true,
       "metadata": {},
       "overflow": false,
       "plotOptions": {
        "customPlotOptions": {},
        "displayType": "table",
        "pivotAggregation": null,
        "pivotColumns": null,
        "xColumns": null,
        "yColumns": null
       },
       "removedWidgets": [],
       "schema": [
        {
         "metadata": "{}",
         "name": "id",
         "type": "\"integer\""
        },
        {
         "metadata": "{}",
         "name": "name",
         "type": "\"string\""
        },
        {
         "metadata": "{}",
         "name": "salary",
         "type": "\"double\""
        }
       ],
       "type": "table"
      }
     },
     "output_type": "display_data"
    }
   ],
   "source": [
    "%sql\n",
    "select * from employee;"
   ]
  },
  {
   "cell_type": "code",
   "execution_count": 0,
   "metadata": {
    "application/vnd.databricks.v1+cell": {
     "cellMetadata": {
      "byteLimit": 2048000,
      "implicitDf": true,
      "rowLimit": 10000
     },
     "inputWidgets": {},
     "nuid": "8699f954-95a6-4225-abac-eb9060bd0860",
     "showTitle": false,
     "tableResultSettingsMap": {},
     "title": ""
    }
   },
   "outputs": [
    {
     "output_type": "display_data",
     "data": {
      "text/html": [
       "<style scoped>\n",
       "  .table-result-container {\n",
       "    max-height: 300px;\n",
       "    overflow: auto;\n",
       "  }\n",
       "  table, th, td {\n",
       "    border: 1px solid black;\n",
       "    border-collapse: collapse;\n",
       "  }\n",
       "  th, td {\n",
       "    padding: 5px;\n",
       "  }\n",
       "  th {\n",
       "    text-align: left;\n",
       "  }\n",
       "</style><div class='table-result-container'><table class='table-result'><thead style='background-color: white'><tr><th>version</th><th>timestamp</th><th>userId</th><th>userName</th><th>operation</th><th>operationParameters</th><th>job</th><th>notebook</th><th>clusterId</th><th>readVersion</th><th>isolationLevel</th><th>isBlindAppend</th><th>operationMetrics</th><th>userMetadata</th><th>engineInfo</th></tr></thead><tbody><tr><td>14</td><td>2025-02-03T17:15:49.000+0000</td><td>1270209217208486</td><td>krtproperty72@gmail.com</td><td>DELETE</td><td>Map(predicate -> [\"true\"])</td><td>null</td><td>List(1762041669422)</td><td>0203-170608-33t84sha</td><td>13</td><td>WriteSerializable</td><td>false</td><td>Map(numRemovedFiles -> 1, numRemovedBytes -> 1203, numCopiedRows -> 0, numDeletionVectorsAdded -> 0, numDeletionVectorsRemoved -> 0, numAddedChangeFiles -> 0, executionTimeMs -> 1222, numDeletedRows -> 6, scanTimeMs -> 1220, numAddedFiles -> 0, numAddedBytes -> 0, rewriteTimeMs -> 0)</td><td>null</td><td>Databricks-Runtime/12.2.x-scala2.12</td></tr><tr><td>13</td><td>2025-02-03T17:15:34.000+0000</td><td>1270209217208486</td><td>krtproperty72@gmail.com</td><td>OPTIMIZE</td><td>Map(predicate -> [], zOrderBy -> [], batchId -> 0, auto -> false)</td><td>null</td><td>List(1762041669422)</td><td>0203-170608-33t84sha</td><td>12</td><td>SnapshotIsolation</td><td>false</td><td>Map(numRemovedFiles -> 2, numRemovedBytes -> 2298, p25FileSize -> 1203, numDeletionVectorsRemoved -> 0, minFileSize -> 1203, numAddedFiles -> 1, maxFileSize -> 1203, p75FileSize -> 1203, p50FileSize -> 1203, numAddedBytes -> 1203)</td><td>null</td><td>Databricks-Runtime/12.2.x-scala2.12</td></tr><tr><td>12</td><td>2025-02-03T17:15:00.000+0000</td><td>1270209217208486</td><td>krtproperty72@gmail.com</td><td>UPDATE</td><td>Map(predicate -> [\"Contains(name#1556, Ravi)\"])</td><td>null</td><td>List(1762041669422)</td><td>0203-170608-33t84sha</td><td>11</td><td>WriteSerializable</td><td>false</td><td>Map(numRemovedFiles -> 2, numRemovedBytes -> 2306, numCopiedRows -> 3, numDeletionVectorsAdded -> 0, numDeletionVectorsRemoved -> 0, numAddedChangeFiles -> 0, executionTimeMs -> 3881, scanTimeMs -> 1979, numAddedFiles -> 2, numUpdatedRows -> 3, numAddedBytes -> 2298, rewriteTimeMs -> 1876)</td><td>null</td><td>Databricks-Runtime/12.2.x-scala2.12</td></tr><tr><td>11</td><td>2025-02-03T17:14:39.000+0000</td><td>1270209217208486</td><td>krtproperty72@gmail.com</td><td>WRITE</td><td>Map(mode -> Append, partitionBy -> [])</td><td>null</td><td>List(1762041669422)</td><td>0203-170608-33t84sha</td><td>10</td><td>WriteSerializable</td><td>true</td><td>Map(numFiles -> 1, numOutputRows -> 2, numOutputBytes -> 1095)</td><td>null</td><td>Databricks-Runtime/12.2.x-scala2.12</td></tr><tr><td>10</td><td>2025-02-03T14:25:37.000+0000</td><td>1270209217208486</td><td>krtproperty72@gmail.com</td><td>OPTIMIZE</td><td>Map(predicate -> [], zOrderBy -> [\"id\"], batchId -> 0, auto -> false)</td><td>null</td><td>List(1762041669422)</td><td>0203-134734-cjzwo1dt</td><td>9</td><td>SnapshotIsolation</td><td>false</td><td>Map(numRemovedFiles -> 2, numRemovedBytes -> 2190, p25FileSize -> 1211, numDeletionVectorsRemoved -> 0, minFileSize -> 1211, numAddedFiles -> 1, maxFileSize -> 1211, p75FileSize -> 1211, p50FileSize -> 1211, numAddedBytes -> 1211)</td><td>null</td><td>Databricks-Runtime/12.2.x-scala2.12</td></tr><tr><td>9</td><td>2025-02-03T14:22:52.000+0000</td><td>1270209217208486</td><td>krtproperty72@gmail.com</td><td>RESTORE</td><td>Map(version -> 5, timestamp -> null)</td><td>null</td><td>List(1762041669422)</td><td>0203-134734-cjzwo1dt</td><td>8</td><td>Serializable</td><td>false</td><td>Map(numRestoredFiles -> 2, removedFilesSize -> 0, numRemovedFiles -> 0, restoredFilesSize -> 2190, numOfFilesAfterRestore -> 2, tableSizeAfterRestore -> 2190)</td><td>null</td><td>Databricks-Runtime/12.2.x-scala2.12</td></tr><tr><td>8</td><td>2025-02-03T14:21:29.000+0000</td><td>1270209217208486</td><td>krtproperty72@gmail.com</td><td>DELETE</td><td>Map(predicate -> [\"true\"])</td><td>null</td><td>List(1762041669422)</td><td>0203-134734-cjzwo1dt</td><td>7</td><td>WriteSerializable</td><td>false</td><td>Map(numRemovedFiles -> 1, numRemovedBytes -> 1203, numCopiedRows -> 0, numDeletionVectorsAdded -> 0, numDeletionVectorsRemoved -> 0, numAddedChangeFiles -> 0, executionTimeMs -> 74, numDeletedRows -> 4, scanTimeMs -> 60, numAddedFiles -> 0, numAddedBytes -> 0, rewriteTimeMs -> 0)</td><td>null</td><td>Databricks-Runtime/12.2.x-scala2.12</td></tr><tr><td>7</td><td>2025-02-03T14:19:43.000+0000</td><td>1270209217208486</td><td>krtproperty72@gmail.com</td><td>OPTIMIZE</td><td>Map(predicate -> [], zOrderBy -> [], batchId -> 0, auto -> false)</td><td>null</td><td>List(1762041669422)</td><td>0203-134734-cjzwo1dt</td><td>6</td><td>SnapshotIsolation</td><td>false</td><td>Map(numRemovedFiles -> 2, numRemovedBytes -> 2190, p25FileSize -> 1203, numDeletionVectorsRemoved -> 0, minFileSize -> 1203, numAddedFiles -> 1, maxFileSize -> 1203, p75FileSize -> 1203, p50FileSize -> 1203, numAddedBytes -> 1203)</td><td>null</td><td>Databricks-Runtime/12.2.x-scala2.12</td></tr><tr><td>6</td><td>2025-02-03T14:19:25.000+0000</td><td>1270209217208486</td><td>krtproperty72@gmail.com</td><td>UPDATE</td><td>Map(predicate -> [\"Contains(name#3290, Ravi)\"])</td><td>null</td><td>List(1762041669422)</td><td>0203-134734-cjzwo1dt</td><td>5</td><td>WriteSerializable</td><td>false</td><td>Map(numRemovedFiles -> 2, numRemovedBytes -> 2190, numCopiedRows -> 2, numDeletionVectorsAdded -> 0, numDeletionVectorsRemoved -> 0, numAddedChangeFiles -> 0, executionTimeMs -> 3968, scanTimeMs -> 1818, numAddedFiles -> 2, numUpdatedRows -> 2, numAddedBytes -> 2190, rewriteTimeMs -> 2008)</td><td>null</td><td>Databricks-Runtime/12.2.x-scala2.12</td></tr><tr><td>5</td><td>2025-02-03T14:19:05.000+0000</td><td>1270209217208486</td><td>krtproperty72@gmail.com</td><td>WRITE</td><td>Map(mode -> Append, partitionBy -> [])</td><td>null</td><td>List(1762041669422)</td><td>0203-134734-cjzwo1dt</td><td>4</td><td>WriteSerializable</td><td>true</td><td>Map(numFiles -> 1, numOutputRows -> 2, numOutputBytes -> 1095)</td><td>null</td><td>Databricks-Runtime/12.2.x-scala2.12</td></tr><tr><td>4</td><td>2025-02-03T12:24:41.000+0000</td><td>1270209217208486</td><td>krtproperty72@gmail.com</td><td>UPDATE</td><td>Map(predicate -> [\"Contains(name#2442, Ravi)\"])</td><td>null</td><td>List(1762041669422)</td><td>0203-121714-a997tnmz</td><td>3</td><td>WriteSerializable</td><td>false</td><td>Map(numRemovedFiles -> 1, numRemovedBytes -> 1095, numCopiedRows -> 1, numDeletionVectorsAdded -> 0, numDeletionVectorsRemoved -> 0, numAddedChangeFiles -> 0, executionTimeMs -> 3200, scanTimeMs -> 1527, numAddedFiles -> 1, numUpdatedRows -> 1, numAddedBytes -> 1095, rewriteTimeMs -> 1673)</td><td>null</td><td>Databricks-Runtime/12.2.x-scala2.12</td></tr><tr><td>3</td><td>2025-02-03T12:24:05.000+0000</td><td>1270209217208486</td><td>krtproperty72@gmail.com</td><td>UPDATE</td><td>Map(predicate -> [\"EndsWith(name#1777, Ravi)\"])</td><td>null</td><td>List(1762041669422)</td><td>0203-121714-a997tnmz</td><td>2</td><td>WriteSerializable</td><td>false</td><td>Map(numRemovedFiles -> 0, numRemovedBytes -> 0, numCopiedRows -> 0, numDeletionVectorsAdded -> 0, numDeletionVectorsRemoved -> 0, numAddedChangeFiles -> 0, executionTimeMs -> 1828, scanTimeMs -> 1828, numAddedFiles -> 0, numUpdatedRows -> 0, numAddedBytes -> 0, rewriteTimeMs -> 0)</td><td>null</td><td>Databricks-Runtime/12.2.x-scala2.12</td></tr><tr><td>2</td><td>2025-02-03T12:23:38.000+0000</td><td>1270209217208486</td><td>krtproperty72@gmail.com</td><td>UPDATE</td><td>Map(predicate -> [\"(name#1391 = Ravi)\"])</td><td>null</td><td>List(1762041669422)</td><td>0203-121714-a997tnmz</td><td>1</td><td>WriteSerializable</td><td>false</td><td>Map(numRemovedFiles -> 0, numRemovedBytes -> 0, numCopiedRows -> 0, numDeletionVectorsAdded -> 0, numDeletionVectorsRemoved -> 0, numAddedChangeFiles -> 0, executionTimeMs -> 808, scanTimeMs -> 777, numAddedFiles -> 0, numUpdatedRows -> 0, numAddedBytes -> 0, rewriteTimeMs -> 0)</td><td>null</td><td>Databricks-Runtime/12.2.x-scala2.12</td></tr><tr><td>1</td><td>2025-02-03T12:20:24.000+0000</td><td>1270209217208486</td><td>krtproperty72@gmail.com</td><td>WRITE</td><td>Map(mode -> Append, partitionBy -> [])</td><td>null</td><td>List(1762041669422)</td><td>0203-121714-a997tnmz</td><td>0</td><td>WriteSerializable</td><td>true</td><td>Map(numFiles -> 1, numOutputRows -> 2, numOutputBytes -> 1095)</td><td>null</td><td>Databricks-Runtime/12.2.x-scala2.12</td></tr><tr><td>0</td><td>2025-02-03T12:19:47.000+0000</td><td>1270209217208486</td><td>krtproperty72@gmail.com</td><td>CREATE TABLE</td><td>Map(isManaged -> true, description -> null, partitionBy -> [], properties -> {})</td><td>null</td><td>List(1762041669422)</td><td>0203-121714-a997tnmz</td><td>null</td><td>WriteSerializable</td><td>true</td><td>Map()</td><td>null</td><td>Databricks-Runtime/12.2.x-scala2.12</td></tr></tbody></table></div>"
      ]
     },
     "metadata": {
      "application/vnd.databricks.v1+output": {
       "addedWidgets": {},
       "aggData": [],
       "aggError": "",
       "aggOverflow": false,
       "aggSchema": [],
       "aggSeriesLimitReached": false,
       "aggType": "",
       "arguments": {},
       "columnCustomDisplayInfos": {},
       "data": [
        [
         14,
         "2025-02-03T17:15:49.000+0000",
         "1270209217208486",
         "krtproperty72@gmail.com",
         "DELETE",
         {
          "predicate": "[\"true\"]"
         },
         null,
         [
          "1762041669422"
         ],
         "0203-170608-33t84sha",
         13,
         "WriteSerializable",
         false,
         {
          "executionTimeMs": "1222",
          "numAddedBytes": "0",
          "numAddedChangeFiles": "0",
          "numAddedFiles": "0",
          "numCopiedRows": "0",
          "numDeletedRows": "6",
          "numDeletionVectorsAdded": "0",
          "numDeletionVectorsRemoved": "0",
          "numRemovedBytes": "1203",
          "numRemovedFiles": "1",
          "rewriteTimeMs": "0",
          "scanTimeMs": "1220"
         },
         null,
         "Databricks-Runtime/12.2.x-scala2.12"
        ],
        [
         13,
         "2025-02-03T17:15:34.000+0000",
         "1270209217208486",
         "krtproperty72@gmail.com",
         "OPTIMIZE",
         {
          "auto": "false",
          "batchId": "0",
          "predicate": "[]",
          "zOrderBy": "[]"
         },
         null,
         [
          "1762041669422"
         ],
         "0203-170608-33t84sha",
         12,
         "SnapshotIsolation",
         false,
         {
          "maxFileSize": "1203",
          "minFileSize": "1203",
          "numAddedBytes": "1203",
          "numAddedFiles": "1",
          "numDeletionVectorsRemoved": "0",
          "numRemovedBytes": "2298",
          "numRemovedFiles": "2",
          "p25FileSize": "1203",
          "p50FileSize": "1203",
          "p75FileSize": "1203"
         },
         null,
         "Databricks-Runtime/12.2.x-scala2.12"
        ],
        [
         12,
         "2025-02-03T17:15:00.000+0000",
         "1270209217208486",
         "krtproperty72@gmail.com",
         "UPDATE",
         {
          "predicate": "[\"Contains(name#1556, Ravi)\"]"
         },
         null,
         [
          "1762041669422"
         ],
         "0203-170608-33t84sha",
         11,
         "WriteSerializable",
         false,
         {
          "executionTimeMs": "3881",
          "numAddedBytes": "2298",
          "numAddedChangeFiles": "0",
          "numAddedFiles": "2",
          "numCopiedRows": "3",
          "numDeletionVectorsAdded": "0",
          "numDeletionVectorsRemoved": "0",
          "numRemovedBytes": "2306",
          "numRemovedFiles": "2",
          "numUpdatedRows": "3",
          "rewriteTimeMs": "1876",
          "scanTimeMs": "1979"
         },
         null,
         "Databricks-Runtime/12.2.x-scala2.12"
        ],
        [
         11,
         "2025-02-03T17:14:39.000+0000",
         "1270209217208486",
         "krtproperty72@gmail.com",
         "WRITE",
         {
          "mode": "Append",
          "partitionBy": "[]"
         },
         null,
         [
          "1762041669422"
         ],
         "0203-170608-33t84sha",
         10,
         "WriteSerializable",
         true,
         {
          "numFiles": "1",
          "numOutputBytes": "1095",
          "numOutputRows": "2"
         },
         null,
         "Databricks-Runtime/12.2.x-scala2.12"
        ],
        [
         10,
         "2025-02-03T14:25:37.000+0000",
         "1270209217208486",
         "krtproperty72@gmail.com",
         "OPTIMIZE",
         {
          "auto": "false",
          "batchId": "0",
          "predicate": "[]",
          "zOrderBy": "[\"id\"]"
         },
         null,
         [
          "1762041669422"
         ],
         "0203-134734-cjzwo1dt",
         9,
         "SnapshotIsolation",
         false,
         {
          "maxFileSize": "1211",
          "minFileSize": "1211",
          "numAddedBytes": "1211",
          "numAddedFiles": "1",
          "numDeletionVectorsRemoved": "0",
          "numRemovedBytes": "2190",
          "numRemovedFiles": "2",
          "p25FileSize": "1211",
          "p50FileSize": "1211",
          "p75FileSize": "1211"
         },
         null,
         "Databricks-Runtime/12.2.x-scala2.12"
        ],
        [
         9,
         "2025-02-03T14:22:52.000+0000",
         "1270209217208486",
         "krtproperty72@gmail.com",
         "RESTORE",
         {
          "timestamp": null,
          "version": "5"
         },
         null,
         [
          "1762041669422"
         ],
         "0203-134734-cjzwo1dt",
         8,
         "Serializable",
         false,
         {
          "numOfFilesAfterRestore": "2",
          "numRemovedFiles": "0",
          "numRestoredFiles": "2",
          "removedFilesSize": "0",
          "restoredFilesSize": "2190",
          "tableSizeAfterRestore": "2190"
         },
         null,
         "Databricks-Runtime/12.2.x-scala2.12"
        ],
        [
         8,
         "2025-02-03T14:21:29.000+0000",
         "1270209217208486",
         "krtproperty72@gmail.com",
         "DELETE",
         {
          "predicate": "[\"true\"]"
         },
         null,
         [
          "1762041669422"
         ],
         "0203-134734-cjzwo1dt",
         7,
         "WriteSerializable",
         false,
         {
          "executionTimeMs": "74",
          "numAddedBytes": "0",
          "numAddedChangeFiles": "0",
          "numAddedFiles": "0",
          "numCopiedRows": "0",
          "numDeletedRows": "4",
          "numDeletionVectorsAdded": "0",
          "numDeletionVectorsRemoved": "0",
          "numRemovedBytes": "1203",
          "numRemovedFiles": "1",
          "rewriteTimeMs": "0",
          "scanTimeMs": "60"
         },
         null,
         "Databricks-Runtime/12.2.x-scala2.12"
        ],
        [
         7,
         "2025-02-03T14:19:43.000+0000",
         "1270209217208486",
         "krtproperty72@gmail.com",
         "OPTIMIZE",
         {
          "auto": "false",
          "batchId": "0",
          "predicate": "[]",
          "zOrderBy": "[]"
         },
         null,
         [
          "1762041669422"
         ],
         "0203-134734-cjzwo1dt",
         6,
         "SnapshotIsolation",
         false,
         {
          "maxFileSize": "1203",
          "minFileSize": "1203",
          "numAddedBytes": "1203",
          "numAddedFiles": "1",
          "numDeletionVectorsRemoved": "0",
          "numRemovedBytes": "2190",
          "numRemovedFiles": "2",
          "p25FileSize": "1203",
          "p50FileSize": "1203",
          "p75FileSize": "1203"
         },
         null,
         "Databricks-Runtime/12.2.x-scala2.12"
        ],
        [
         6,
         "2025-02-03T14:19:25.000+0000",
         "1270209217208486",
         "krtproperty72@gmail.com",
         "UPDATE",
         {
          "predicate": "[\"Contains(name#3290, Ravi)\"]"
         },
         null,
         [
          "1762041669422"
         ],
         "0203-134734-cjzwo1dt",
         5,
         "WriteSerializable",
         false,
         {
          "executionTimeMs": "3968",
          "numAddedBytes": "2190",
          "numAddedChangeFiles": "0",
          "numAddedFiles": "2",
          "numCopiedRows": "2",
          "numDeletionVectorsAdded": "0",
          "numDeletionVectorsRemoved": "0",
          "numRemovedBytes": "2190",
          "numRemovedFiles": "2",
          "numUpdatedRows": "2",
          "rewriteTimeMs": "2008",
          "scanTimeMs": "1818"
         },
         null,
         "Databricks-Runtime/12.2.x-scala2.12"
        ],
        [
         5,
         "2025-02-03T14:19:05.000+0000",
         "1270209217208486",
         "krtproperty72@gmail.com",
         "WRITE",
         {
          "mode": "Append",
          "partitionBy": "[]"
         },
         null,
         [
          "1762041669422"
         ],
         "0203-134734-cjzwo1dt",
         4,
         "WriteSerializable",
         true,
         {
          "numFiles": "1",
          "numOutputBytes": "1095",
          "numOutputRows": "2"
         },
         null,
         "Databricks-Runtime/12.2.x-scala2.12"
        ],
        [
         4,
         "2025-02-03T12:24:41.000+0000",
         "1270209217208486",
         "krtproperty72@gmail.com",
         "UPDATE",
         {
          "predicate": "[\"Contains(name#2442, Ravi)\"]"
         },
         null,
         [
          "1762041669422"
         ],
         "0203-121714-a997tnmz",
         3,
         "WriteSerializable",
         false,
         {
          "executionTimeMs": "3200",
          "numAddedBytes": "1095",
          "numAddedChangeFiles": "0",
          "numAddedFiles": "1",
          "numCopiedRows": "1",
          "numDeletionVectorsAdded": "0",
          "numDeletionVectorsRemoved": "0",
          "numRemovedBytes": "1095",
          "numRemovedFiles": "1",
          "numUpdatedRows": "1",
          "rewriteTimeMs": "1673",
          "scanTimeMs": "1527"
         },
         null,
         "Databricks-Runtime/12.2.x-scala2.12"
        ],
        [
         3,
         "2025-02-03T12:24:05.000+0000",
         "1270209217208486",
         "krtproperty72@gmail.com",
         "UPDATE",
         {
          "predicate": "[\"EndsWith(name#1777, Ravi)\"]"
         },
         null,
         [
          "1762041669422"
         ],
         "0203-121714-a997tnmz",
         2,
         "WriteSerializable",
         false,
         {
          "executionTimeMs": "1828",
          "numAddedBytes": "0",
          "numAddedChangeFiles": "0",
          "numAddedFiles": "0",
          "numCopiedRows": "0",
          "numDeletionVectorsAdded": "0",
          "numDeletionVectorsRemoved": "0",
          "numRemovedBytes": "0",
          "numRemovedFiles": "0",
          "numUpdatedRows": "0",
          "rewriteTimeMs": "0",
          "scanTimeMs": "1828"
         },
         null,
         "Databricks-Runtime/12.2.x-scala2.12"
        ],
        [
         2,
         "2025-02-03T12:23:38.000+0000",
         "1270209217208486",
         "krtproperty72@gmail.com",
         "UPDATE",
         {
          "predicate": "[\"(name#1391 = Ravi)\"]"
         },
         null,
         [
          "1762041669422"
         ],
         "0203-121714-a997tnmz",
         1,
         "WriteSerializable",
         false,
         {
          "executionTimeMs": "808",
          "numAddedBytes": "0",
          "numAddedChangeFiles": "0",
          "numAddedFiles": "0",
          "numCopiedRows": "0",
          "numDeletionVectorsAdded": "0",
          "numDeletionVectorsRemoved": "0",
          "numRemovedBytes": "0",
          "numRemovedFiles": "0",
          "numUpdatedRows": "0",
          "rewriteTimeMs": "0",
          "scanTimeMs": "777"
         },
         null,
         "Databricks-Runtime/12.2.x-scala2.12"
        ],
        [
         1,
         "2025-02-03T12:20:24.000+0000",
         "1270209217208486",
         "krtproperty72@gmail.com",
         "WRITE",
         {
          "mode": "Append",
          "partitionBy": "[]"
         },
         null,
         [
          "1762041669422"
         ],
         "0203-121714-a997tnmz",
         0,
         "WriteSerializable",
         true,
         {
          "numFiles": "1",
          "numOutputBytes": "1095",
          "numOutputRows": "2"
         },
         null,
         "Databricks-Runtime/12.2.x-scala2.12"
        ],
        [
         0,
         "2025-02-03T12:19:47.000+0000",
         "1270209217208486",
         "krtproperty72@gmail.com",
         "CREATE TABLE",
         {
          "description": null,
          "isManaged": "true",
          "partitionBy": "[]",
          "properties": "{}"
         },
         null,
         [
          "1762041669422"
         ],
         "0203-121714-a997tnmz",
         null,
         "WriteSerializable",
         true,
         {},
         null,
         "Databricks-Runtime/12.2.x-scala2.12"
        ]
       ],
       "datasetInfos": [],
       "dbfsResultPath": null,
       "isJsonSchema": true,
       "metadata": {},
       "overflow": false,
       "plotOptions": {
        "customPlotOptions": {},
        "displayType": "table",
        "pivotAggregation": null,
        "pivotColumns": null,
        "xColumns": null,
        "yColumns": null
       },
       "removedWidgets": [],
       "schema": [
        {
         "metadata": "{}",
         "name": "version",
         "type": "\"long\""
        },
        {
         "metadata": "{}",
         "name": "timestamp",
         "type": "\"timestamp\""
        },
        {
         "metadata": "{}",
         "name": "userId",
         "type": "\"string\""
        },
        {
         "metadata": "{}",
         "name": "userName",
         "type": "\"string\""
        },
        {
         "metadata": "{}",
         "name": "operation",
         "type": "\"string\""
        },
        {
         "metadata": "{}",
         "name": "operationParameters",
         "type": "{\"type\":\"map\",\"keyType\":\"string\",\"valueType\":\"string\",\"valueContainsNull\":true}"
        },
        {
         "metadata": "{}",
         "name": "job",
         "type": "{\"type\":\"struct\",\"fields\":[{\"name\":\"jobId\",\"type\":\"string\",\"nullable\":true,\"metadata\":{}},{\"name\":\"jobName\",\"type\":\"string\",\"nullable\":true,\"metadata\":{}},{\"name\":\"jobRunId\",\"type\":\"string\",\"nullable\":true,\"metadata\":{}},{\"name\":\"runId\",\"type\":\"string\",\"nullable\":true,\"metadata\":{}},{\"name\":\"jobOwnerId\",\"type\":\"string\",\"nullable\":true,\"metadata\":{}},{\"name\":\"triggerType\",\"type\":\"string\",\"nullable\":true,\"metadata\":{}}]}"
        },
        {
         "metadata": "{}",
         "name": "notebook",
         "type": "{\"type\":\"struct\",\"fields\":[{\"name\":\"notebookId\",\"type\":\"string\",\"nullable\":true,\"metadata\":{}}]}"
        },
        {
         "metadata": "{}",
         "name": "clusterId",
         "type": "\"string\""
        },
        {
         "metadata": "{}",
         "name": "readVersion",
         "type": "\"long\""
        },
        {
         "metadata": "{}",
         "name": "isolationLevel",
         "type": "\"string\""
        },
        {
         "metadata": "{}",
         "name": "isBlindAppend",
         "type": "\"boolean\""
        },
        {
         "metadata": "{}",
         "name": "operationMetrics",
         "type": "{\"type\":\"map\",\"keyType\":\"string\",\"valueType\":\"string\",\"valueContainsNull\":true}"
        },
        {
         "metadata": "{}",
         "name": "userMetadata",
         "type": "\"string\""
        },
        {
         "metadata": "{}",
         "name": "engineInfo",
         "type": "\"string\""
        }
       ],
       "type": "table"
      }
     },
     "output_type": "display_data"
    }
   ],
   "source": [
    "%sql\n",
    "describe history employee"
   ]
  },
  {
   "cell_type": "code",
   "execution_count": 0,
   "metadata": {
    "application/vnd.databricks.v1+cell": {
     "cellMetadata": {
      "byteLimit": 2048000,
      "implicitDf": true,
      "rowLimit": 10000
     },
     "inputWidgets": {},
     "nuid": "dd82503b-2e7e-418f-932f-c302e535f51e",
     "showTitle": false,
     "tableResultSettingsMap": {},
     "title": ""
    }
   },
   "outputs": [
    {
     "output_type": "display_data",
     "data": {
      "text/html": [
       "<style scoped>\n",
       "  .table-result-container {\n",
       "    max-height: 300px;\n",
       "    overflow: auto;\n",
       "  }\n",
       "  table, th, td {\n",
       "    border: 1px solid black;\n",
       "    border-collapse: collapse;\n",
       "  }\n",
       "  th, td {\n",
       "    padding: 5px;\n",
       "  }\n",
       "  th {\n",
       "    text-align: left;\n",
       "  }\n",
       "</style><div class='table-result-container'><table class='table-result'><thead style='background-color: white'><tr><th>table_size_after_restore</th><th>num_of_files_after_restore</th><th>num_removed_files</th><th>num_restored_files</th><th>removed_files_size</th><th>restored_files_size</th></tr></thead><tbody><tr><td>2190</td><td>2</td><td>0</td><td>2</td><td>0</td><td>2190</td></tr></tbody></table></div>"
      ]
     },
     "metadata": {
      "application/vnd.databricks.v1+output": {
       "addedWidgets": {},
       "aggData": [],
       "aggError": "",
       "aggOverflow": false,
       "aggSchema": [],
       "aggSeriesLimitReached": false,
       "aggType": "",
       "arguments": {},
       "columnCustomDisplayInfos": {},
       "data": [
        [
         2190,
         2,
         0,
         2,
         0,
         2190
        ]
       ],
       "datasetInfos": [],
       "dbfsResultPath": null,
       "isJsonSchema": true,
       "metadata": {},
       "overflow": false,
       "plotOptions": {
        "customPlotOptions": {},
        "displayType": "table",
        "pivotAggregation": null,
        "pivotColumns": null,
        "xColumns": null,
        "yColumns": null
       },
       "removedWidgets": [],
       "schema": [
        {
         "metadata": "{}",
         "name": "table_size_after_restore",
         "type": "\"long\""
        },
        {
         "metadata": "{}",
         "name": "num_of_files_after_restore",
         "type": "\"long\""
        },
        {
         "metadata": "{}",
         "name": "num_removed_files",
         "type": "\"long\""
        },
        {
         "metadata": "{}",
         "name": "num_restored_files",
         "type": "\"long\""
        },
        {
         "metadata": "{}",
         "name": "removed_files_size",
         "type": "\"long\""
        },
        {
         "metadata": "{}",
         "name": "restored_files_size",
         "type": "\"long\""
        }
       ],
       "type": "table"
      }
     },
     "output_type": "display_data"
    }
   ],
   "source": [
    "%sql\n",
    "restore table employee to version as of 5"
   ]
  },
  {
   "cell_type": "code",
   "execution_count": 0,
   "metadata": {
    "application/vnd.databricks.v1+cell": {
     "cellMetadata": {
      "byteLimit": 2048000,
      "implicitDf": true,
      "rowLimit": 10000
     },
     "inputWidgets": {},
     "nuid": "41bb83ea-d573-4fb3-9dad-7241f205ea33",
     "showTitle": false,
     "tableResultSettingsMap": {},
     "title": ""
    }
   },
   "outputs": [
    {
     "output_type": "display_data",
     "data": {
      "text/html": [
       "<style scoped>\n",
       "  .table-result-container {\n",
       "    max-height: 300px;\n",
       "    overflow: auto;\n",
       "  }\n",
       "  table, th, td {\n",
       "    border: 1px solid black;\n",
       "    border-collapse: collapse;\n",
       "  }\n",
       "  th, td {\n",
       "    padding: 5px;\n",
       "  }\n",
       "  th {\n",
       "    text-align: left;\n",
       "  }\n",
       "</style><div class='table-result-container'><table class='table-result'><thead style='background-color: white'><tr><th>id</th><th>name</th><th>salary</th></tr></thead><tbody><tr><td>28</td><td>Raviteja</td><td>550000.0</td></tr><tr><td>21</td><td>Sandeep</td><td>680000.0</td></tr><tr><td>28</td><td>Raviteja</td><td>540000.0</td></tr><tr><td>21</td><td>Sandeep</td><td>680000.0</td></tr></tbody></table></div>"
      ]
     },
     "metadata": {
      "application/vnd.databricks.v1+output": {
       "addedWidgets": {},
       "aggData": [],
       "aggError": "",
       "aggOverflow": false,
       "aggSchema": [],
       "aggSeriesLimitReached": false,
       "aggType": "",
       "arguments": {},
       "columnCustomDisplayInfos": {},
       "data": [
        [
         28,
         "Raviteja",
         550000.0
        ],
        [
         21,
         "Sandeep",
         680000.0
        ],
        [
         28,
         "Raviteja",
         540000.0
        ],
        [
         21,
         "Sandeep",
         680000.0
        ]
       ],
       "datasetInfos": [],
       "dbfsResultPath": null,
       "isJsonSchema": true,
       "metadata": {},
       "overflow": false,
       "plotOptions": {
        "customPlotOptions": {},
        "displayType": "table",
        "pivotAggregation": null,
        "pivotColumns": null,
        "xColumns": null,
        "yColumns": null
       },
       "removedWidgets": [],
       "schema": [
        {
         "metadata": "{}",
         "name": "id",
         "type": "\"integer\""
        },
        {
         "metadata": "{}",
         "name": "name",
         "type": "\"string\""
        },
        {
         "metadata": "{}",
         "name": "salary",
         "type": "\"double\""
        }
       ],
       "type": "table"
      }
     },
     "output_type": "display_data"
    }
   ],
   "source": [
    "%sql\n",
    "select * from employee;"
   ]
  },
  {
   "cell_type": "code",
   "execution_count": 0,
   "metadata": {
    "application/vnd.databricks.v1+cell": {
     "cellMetadata": {
      "byteLimit": 2048000,
      "implicitDf": true,
      "rowLimit": 10000
     },
     "inputWidgets": {},
     "nuid": "ac4bb3ef-3e70-4ecb-8f3c-9f11b19e69dd",
     "showTitle": false,
     "tableResultSettingsMap": {},
     "title": ""
    }
   },
   "outputs": [
    {
     "output_type": "display_data",
     "data": {
      "text/html": [
       "<style scoped>\n",
       "  .table-result-container {\n",
       "    max-height: 300px;\n",
       "    overflow: auto;\n",
       "  }\n",
       "  table, th, td {\n",
       "    border: 1px solid black;\n",
       "    border-collapse: collapse;\n",
       "  }\n",
       "  th, td {\n",
       "    padding: 5px;\n",
       "  }\n",
       "  th {\n",
       "    text-align: left;\n",
       "  }\n",
       "</style><div class='table-result-container'><table class='table-result'><thead style='background-color: white'><tr><th>version</th><th>timestamp</th><th>userId</th><th>userName</th><th>operation</th><th>operationParameters</th><th>job</th><th>notebook</th><th>clusterId</th><th>readVersion</th><th>isolationLevel</th><th>isBlindAppend</th><th>operationMetrics</th><th>userMetadata</th><th>engineInfo</th></tr></thead><tbody><tr><td>15</td><td>2025-02-03T17:16:20.000+0000</td><td>1270209217208486</td><td>krtproperty72@gmail.com</td><td>RESTORE</td><td>Map(version -> 5, timestamp -> null)</td><td>null</td><td>List(1762041669422)</td><td>0203-170608-33t84sha</td><td>14</td><td>Serializable</td><td>false</td><td>Map(numRestoredFiles -> 2, removedFilesSize -> 0, numRemovedFiles -> 0, restoredFilesSize -> 2190, numOfFilesAfterRestore -> 2, tableSizeAfterRestore -> 2190)</td><td>null</td><td>Databricks-Runtime/12.2.x-scala2.12</td></tr><tr><td>14</td><td>2025-02-03T17:15:49.000+0000</td><td>1270209217208486</td><td>krtproperty72@gmail.com</td><td>DELETE</td><td>Map(predicate -> [\"true\"])</td><td>null</td><td>List(1762041669422)</td><td>0203-170608-33t84sha</td><td>13</td><td>WriteSerializable</td><td>false</td><td>Map(numRemovedFiles -> 1, numRemovedBytes -> 1203, numCopiedRows -> 0, numDeletionVectorsAdded -> 0, numDeletionVectorsRemoved -> 0, numAddedChangeFiles -> 0, executionTimeMs -> 1222, numDeletedRows -> 6, scanTimeMs -> 1220, numAddedFiles -> 0, numAddedBytes -> 0, rewriteTimeMs -> 0)</td><td>null</td><td>Databricks-Runtime/12.2.x-scala2.12</td></tr><tr><td>13</td><td>2025-02-03T17:15:34.000+0000</td><td>1270209217208486</td><td>krtproperty72@gmail.com</td><td>OPTIMIZE</td><td>Map(predicate -> [], zOrderBy -> [], batchId -> 0, auto -> false)</td><td>null</td><td>List(1762041669422)</td><td>0203-170608-33t84sha</td><td>12</td><td>SnapshotIsolation</td><td>false</td><td>Map(numRemovedFiles -> 2, numRemovedBytes -> 2298, p25FileSize -> 1203, numDeletionVectorsRemoved -> 0, minFileSize -> 1203, numAddedFiles -> 1, maxFileSize -> 1203, p75FileSize -> 1203, p50FileSize -> 1203, numAddedBytes -> 1203)</td><td>null</td><td>Databricks-Runtime/12.2.x-scala2.12</td></tr><tr><td>12</td><td>2025-02-03T17:15:00.000+0000</td><td>1270209217208486</td><td>krtproperty72@gmail.com</td><td>UPDATE</td><td>Map(predicate -> [\"Contains(name#1556, Ravi)\"])</td><td>null</td><td>List(1762041669422)</td><td>0203-170608-33t84sha</td><td>11</td><td>WriteSerializable</td><td>false</td><td>Map(numRemovedFiles -> 2, numRemovedBytes -> 2306, numCopiedRows -> 3, numDeletionVectorsAdded -> 0, numDeletionVectorsRemoved -> 0, numAddedChangeFiles -> 0, executionTimeMs -> 3881, scanTimeMs -> 1979, numAddedFiles -> 2, numUpdatedRows -> 3, numAddedBytes -> 2298, rewriteTimeMs -> 1876)</td><td>null</td><td>Databricks-Runtime/12.2.x-scala2.12</td></tr><tr><td>11</td><td>2025-02-03T17:14:39.000+0000</td><td>1270209217208486</td><td>krtproperty72@gmail.com</td><td>WRITE</td><td>Map(mode -> Append, partitionBy -> [])</td><td>null</td><td>List(1762041669422)</td><td>0203-170608-33t84sha</td><td>10</td><td>WriteSerializable</td><td>true</td><td>Map(numFiles -> 1, numOutputRows -> 2, numOutputBytes -> 1095)</td><td>null</td><td>Databricks-Runtime/12.2.x-scala2.12</td></tr><tr><td>10</td><td>2025-02-03T14:25:37.000+0000</td><td>1270209217208486</td><td>krtproperty72@gmail.com</td><td>OPTIMIZE</td><td>Map(predicate -> [], zOrderBy -> [\"id\"], batchId -> 0, auto -> false)</td><td>null</td><td>List(1762041669422)</td><td>0203-134734-cjzwo1dt</td><td>9</td><td>SnapshotIsolation</td><td>false</td><td>Map(numRemovedFiles -> 2, numRemovedBytes -> 2190, p25FileSize -> 1211, numDeletionVectorsRemoved -> 0, minFileSize -> 1211, numAddedFiles -> 1, maxFileSize -> 1211, p75FileSize -> 1211, p50FileSize -> 1211, numAddedBytes -> 1211)</td><td>null</td><td>Databricks-Runtime/12.2.x-scala2.12</td></tr><tr><td>9</td><td>2025-02-03T14:22:52.000+0000</td><td>1270209217208486</td><td>krtproperty72@gmail.com</td><td>RESTORE</td><td>Map(version -> 5, timestamp -> null)</td><td>null</td><td>List(1762041669422)</td><td>0203-134734-cjzwo1dt</td><td>8</td><td>Serializable</td><td>false</td><td>Map(numRestoredFiles -> 2, removedFilesSize -> 0, numRemovedFiles -> 0, restoredFilesSize -> 2190, numOfFilesAfterRestore -> 2, tableSizeAfterRestore -> 2190)</td><td>null</td><td>Databricks-Runtime/12.2.x-scala2.12</td></tr><tr><td>8</td><td>2025-02-03T14:21:29.000+0000</td><td>1270209217208486</td><td>krtproperty72@gmail.com</td><td>DELETE</td><td>Map(predicate -> [\"true\"])</td><td>null</td><td>List(1762041669422)</td><td>0203-134734-cjzwo1dt</td><td>7</td><td>WriteSerializable</td><td>false</td><td>Map(numRemovedFiles -> 1, numRemovedBytes -> 1203, numCopiedRows -> 0, numDeletionVectorsAdded -> 0, numDeletionVectorsRemoved -> 0, numAddedChangeFiles -> 0, executionTimeMs -> 74, numDeletedRows -> 4, scanTimeMs -> 60, numAddedFiles -> 0, numAddedBytes -> 0, rewriteTimeMs -> 0)</td><td>null</td><td>Databricks-Runtime/12.2.x-scala2.12</td></tr><tr><td>7</td><td>2025-02-03T14:19:43.000+0000</td><td>1270209217208486</td><td>krtproperty72@gmail.com</td><td>OPTIMIZE</td><td>Map(predicate -> [], zOrderBy -> [], batchId -> 0, auto -> false)</td><td>null</td><td>List(1762041669422)</td><td>0203-134734-cjzwo1dt</td><td>6</td><td>SnapshotIsolation</td><td>false</td><td>Map(numRemovedFiles -> 2, numRemovedBytes -> 2190, p25FileSize -> 1203, numDeletionVectorsRemoved -> 0, minFileSize -> 1203, numAddedFiles -> 1, maxFileSize -> 1203, p75FileSize -> 1203, p50FileSize -> 1203, numAddedBytes -> 1203)</td><td>null</td><td>Databricks-Runtime/12.2.x-scala2.12</td></tr><tr><td>6</td><td>2025-02-03T14:19:25.000+0000</td><td>1270209217208486</td><td>krtproperty72@gmail.com</td><td>UPDATE</td><td>Map(predicate -> [\"Contains(name#3290, Ravi)\"])</td><td>null</td><td>List(1762041669422)</td><td>0203-134734-cjzwo1dt</td><td>5</td><td>WriteSerializable</td><td>false</td><td>Map(numRemovedFiles -> 2, numRemovedBytes -> 2190, numCopiedRows -> 2, numDeletionVectorsAdded -> 0, numDeletionVectorsRemoved -> 0, numAddedChangeFiles -> 0, executionTimeMs -> 3968, scanTimeMs -> 1818, numAddedFiles -> 2, numUpdatedRows -> 2, numAddedBytes -> 2190, rewriteTimeMs -> 2008)</td><td>null</td><td>Databricks-Runtime/12.2.x-scala2.12</td></tr><tr><td>5</td><td>2025-02-03T14:19:05.000+0000</td><td>1270209217208486</td><td>krtproperty72@gmail.com</td><td>WRITE</td><td>Map(mode -> Append, partitionBy -> [])</td><td>null</td><td>List(1762041669422)</td><td>0203-134734-cjzwo1dt</td><td>4</td><td>WriteSerializable</td><td>true</td><td>Map(numFiles -> 1, numOutputRows -> 2, numOutputBytes -> 1095)</td><td>null</td><td>Databricks-Runtime/12.2.x-scala2.12</td></tr><tr><td>4</td><td>2025-02-03T12:24:41.000+0000</td><td>1270209217208486</td><td>krtproperty72@gmail.com</td><td>UPDATE</td><td>Map(predicate -> [\"Contains(name#2442, Ravi)\"])</td><td>null</td><td>List(1762041669422)</td><td>0203-121714-a997tnmz</td><td>3</td><td>WriteSerializable</td><td>false</td><td>Map(numRemovedFiles -> 1, numRemovedBytes -> 1095, numCopiedRows -> 1, numDeletionVectorsAdded -> 0, numDeletionVectorsRemoved -> 0, numAddedChangeFiles -> 0, executionTimeMs -> 3200, scanTimeMs -> 1527, numAddedFiles -> 1, numUpdatedRows -> 1, numAddedBytes -> 1095, rewriteTimeMs -> 1673)</td><td>null</td><td>Databricks-Runtime/12.2.x-scala2.12</td></tr><tr><td>3</td><td>2025-02-03T12:24:05.000+0000</td><td>1270209217208486</td><td>krtproperty72@gmail.com</td><td>UPDATE</td><td>Map(predicate -> [\"EndsWith(name#1777, Ravi)\"])</td><td>null</td><td>List(1762041669422)</td><td>0203-121714-a997tnmz</td><td>2</td><td>WriteSerializable</td><td>false</td><td>Map(numRemovedFiles -> 0, numRemovedBytes -> 0, numCopiedRows -> 0, numDeletionVectorsAdded -> 0, numDeletionVectorsRemoved -> 0, numAddedChangeFiles -> 0, executionTimeMs -> 1828, scanTimeMs -> 1828, numAddedFiles -> 0, numUpdatedRows -> 0, numAddedBytes -> 0, rewriteTimeMs -> 0)</td><td>null</td><td>Databricks-Runtime/12.2.x-scala2.12</td></tr><tr><td>2</td><td>2025-02-03T12:23:38.000+0000</td><td>1270209217208486</td><td>krtproperty72@gmail.com</td><td>UPDATE</td><td>Map(predicate -> [\"(name#1391 = Ravi)\"])</td><td>null</td><td>List(1762041669422)</td><td>0203-121714-a997tnmz</td><td>1</td><td>WriteSerializable</td><td>false</td><td>Map(numRemovedFiles -> 0, numRemovedBytes -> 0, numCopiedRows -> 0, numDeletionVectorsAdded -> 0, numDeletionVectorsRemoved -> 0, numAddedChangeFiles -> 0, executionTimeMs -> 808, scanTimeMs -> 777, numAddedFiles -> 0, numUpdatedRows -> 0, numAddedBytes -> 0, rewriteTimeMs -> 0)</td><td>null</td><td>Databricks-Runtime/12.2.x-scala2.12</td></tr><tr><td>1</td><td>2025-02-03T12:20:24.000+0000</td><td>1270209217208486</td><td>krtproperty72@gmail.com</td><td>WRITE</td><td>Map(mode -> Append, partitionBy -> [])</td><td>null</td><td>List(1762041669422)</td><td>0203-121714-a997tnmz</td><td>0</td><td>WriteSerializable</td><td>true</td><td>Map(numFiles -> 1, numOutputRows -> 2, numOutputBytes -> 1095)</td><td>null</td><td>Databricks-Runtime/12.2.x-scala2.12</td></tr><tr><td>0</td><td>2025-02-03T12:19:47.000+0000</td><td>1270209217208486</td><td>krtproperty72@gmail.com</td><td>CREATE TABLE</td><td>Map(isManaged -> true, description -> null, partitionBy -> [], properties -> {})</td><td>null</td><td>List(1762041669422)</td><td>0203-121714-a997tnmz</td><td>null</td><td>WriteSerializable</td><td>true</td><td>Map()</td><td>null</td><td>Databricks-Runtime/12.2.x-scala2.12</td></tr></tbody></table></div>"
      ]
     },
     "metadata": {
      "application/vnd.databricks.v1+output": {
       "addedWidgets": {},
       "aggData": [],
       "aggError": "",
       "aggOverflow": false,
       "aggSchema": [],
       "aggSeriesLimitReached": false,
       "aggType": "",
       "arguments": {},
       "columnCustomDisplayInfos": {},
       "data": [
        [
         15,
         "2025-02-03T17:16:20.000+0000",
         "1270209217208486",
         "krtproperty72@gmail.com",
         "RESTORE",
         {
          "timestamp": null,
          "version": "5"
         },
         null,
         [
          "1762041669422"
         ],
         "0203-170608-33t84sha",
         14,
         "Serializable",
         false,
         {
          "numOfFilesAfterRestore": "2",
          "numRemovedFiles": "0",
          "numRestoredFiles": "2",
          "removedFilesSize": "0",
          "restoredFilesSize": "2190",
          "tableSizeAfterRestore": "2190"
         },
         null,
         "Databricks-Runtime/12.2.x-scala2.12"
        ],
        [
         14,
         "2025-02-03T17:15:49.000+0000",
         "1270209217208486",
         "krtproperty72@gmail.com",
         "DELETE",
         {
          "predicate": "[\"true\"]"
         },
         null,
         [
          "1762041669422"
         ],
         "0203-170608-33t84sha",
         13,
         "WriteSerializable",
         false,
         {
          "executionTimeMs": "1222",
          "numAddedBytes": "0",
          "numAddedChangeFiles": "0",
          "numAddedFiles": "0",
          "numCopiedRows": "0",
          "numDeletedRows": "6",
          "numDeletionVectorsAdded": "0",
          "numDeletionVectorsRemoved": "0",
          "numRemovedBytes": "1203",
          "numRemovedFiles": "1",
          "rewriteTimeMs": "0",
          "scanTimeMs": "1220"
         },
         null,
         "Databricks-Runtime/12.2.x-scala2.12"
        ],
        [
         13,
         "2025-02-03T17:15:34.000+0000",
         "1270209217208486",
         "krtproperty72@gmail.com",
         "OPTIMIZE",
         {
          "auto": "false",
          "batchId": "0",
          "predicate": "[]",
          "zOrderBy": "[]"
         },
         null,
         [
          "1762041669422"
         ],
         "0203-170608-33t84sha",
         12,
         "SnapshotIsolation",
         false,
         {
          "maxFileSize": "1203",
          "minFileSize": "1203",
          "numAddedBytes": "1203",
          "numAddedFiles": "1",
          "numDeletionVectorsRemoved": "0",
          "numRemovedBytes": "2298",
          "numRemovedFiles": "2",
          "p25FileSize": "1203",
          "p50FileSize": "1203",
          "p75FileSize": "1203"
         },
         null,
         "Databricks-Runtime/12.2.x-scala2.12"
        ],
        [
         12,
         "2025-02-03T17:15:00.000+0000",
         "1270209217208486",
         "krtproperty72@gmail.com",
         "UPDATE",
         {
          "predicate": "[\"Contains(name#1556, Ravi)\"]"
         },
         null,
         [
          "1762041669422"
         ],
         "0203-170608-33t84sha",
         11,
         "WriteSerializable",
         false,
         {
          "executionTimeMs": "3881",
          "numAddedBytes": "2298",
          "numAddedChangeFiles": "0",
          "numAddedFiles": "2",
          "numCopiedRows": "3",
          "numDeletionVectorsAdded": "0",
          "numDeletionVectorsRemoved": "0",
          "numRemovedBytes": "2306",
          "numRemovedFiles": "2",
          "numUpdatedRows": "3",
          "rewriteTimeMs": "1876",
          "scanTimeMs": "1979"
         },
         null,
         "Databricks-Runtime/12.2.x-scala2.12"
        ],
        [
         11,
         "2025-02-03T17:14:39.000+0000",
         "1270209217208486",
         "krtproperty72@gmail.com",
         "WRITE",
         {
          "mode": "Append",
          "partitionBy": "[]"
         },
         null,
         [
          "1762041669422"
         ],
         "0203-170608-33t84sha",
         10,
         "WriteSerializable",
         true,
         {
          "numFiles": "1",
          "numOutputBytes": "1095",
          "numOutputRows": "2"
         },
         null,
         "Databricks-Runtime/12.2.x-scala2.12"
        ],
        [
         10,
         "2025-02-03T14:25:37.000+0000",
         "1270209217208486",
         "krtproperty72@gmail.com",
         "OPTIMIZE",
         {
          "auto": "false",
          "batchId": "0",
          "predicate": "[]",
          "zOrderBy": "[\"id\"]"
         },
         null,
         [
          "1762041669422"
         ],
         "0203-134734-cjzwo1dt",
         9,
         "SnapshotIsolation",
         false,
         {
          "maxFileSize": "1211",
          "minFileSize": "1211",
          "numAddedBytes": "1211",
          "numAddedFiles": "1",
          "numDeletionVectorsRemoved": "0",
          "numRemovedBytes": "2190",
          "numRemovedFiles": "2",
          "p25FileSize": "1211",
          "p50FileSize": "1211",
          "p75FileSize": "1211"
         },
         null,
         "Databricks-Runtime/12.2.x-scala2.12"
        ],
        [
         9,
         "2025-02-03T14:22:52.000+0000",
         "1270209217208486",
         "krtproperty72@gmail.com",
         "RESTORE",
         {
          "timestamp": null,
          "version": "5"
         },
         null,
         [
          "1762041669422"
         ],
         "0203-134734-cjzwo1dt",
         8,
         "Serializable",
         false,
         {
          "numOfFilesAfterRestore": "2",
          "numRemovedFiles": "0",
          "numRestoredFiles": "2",
          "removedFilesSize": "0",
          "restoredFilesSize": "2190",
          "tableSizeAfterRestore": "2190"
         },
         null,
         "Databricks-Runtime/12.2.x-scala2.12"
        ],
        [
         8,
         "2025-02-03T14:21:29.000+0000",
         "1270209217208486",
         "krtproperty72@gmail.com",
         "DELETE",
         {
          "predicate": "[\"true\"]"
         },
         null,
         [
          "1762041669422"
         ],
         "0203-134734-cjzwo1dt",
         7,
         "WriteSerializable",
         false,
         {
          "executionTimeMs": "74",
          "numAddedBytes": "0",
          "numAddedChangeFiles": "0",
          "numAddedFiles": "0",
          "numCopiedRows": "0",
          "numDeletedRows": "4",
          "numDeletionVectorsAdded": "0",
          "numDeletionVectorsRemoved": "0",
          "numRemovedBytes": "1203",
          "numRemovedFiles": "1",
          "rewriteTimeMs": "0",
          "scanTimeMs": "60"
         },
         null,
         "Databricks-Runtime/12.2.x-scala2.12"
        ],
        [
         7,
         "2025-02-03T14:19:43.000+0000",
         "1270209217208486",
         "krtproperty72@gmail.com",
         "OPTIMIZE",
         {
          "auto": "false",
          "batchId": "0",
          "predicate": "[]",
          "zOrderBy": "[]"
         },
         null,
         [
          "1762041669422"
         ],
         "0203-134734-cjzwo1dt",
         6,
         "SnapshotIsolation",
         false,
         {
          "maxFileSize": "1203",
          "minFileSize": "1203",
          "numAddedBytes": "1203",
          "numAddedFiles": "1",
          "numDeletionVectorsRemoved": "0",
          "numRemovedBytes": "2190",
          "numRemovedFiles": "2",
          "p25FileSize": "1203",
          "p50FileSize": "1203",
          "p75FileSize": "1203"
         },
         null,
         "Databricks-Runtime/12.2.x-scala2.12"
        ],
        [
         6,
         "2025-02-03T14:19:25.000+0000",
         "1270209217208486",
         "krtproperty72@gmail.com",
         "UPDATE",
         {
          "predicate": "[\"Contains(name#3290, Ravi)\"]"
         },
         null,
         [
          "1762041669422"
         ],
         "0203-134734-cjzwo1dt",
         5,
         "WriteSerializable",
         false,
         {
          "executionTimeMs": "3968",
          "numAddedBytes": "2190",
          "numAddedChangeFiles": "0",
          "numAddedFiles": "2",
          "numCopiedRows": "2",
          "numDeletionVectorsAdded": "0",
          "numDeletionVectorsRemoved": "0",
          "numRemovedBytes": "2190",
          "numRemovedFiles": "2",
          "numUpdatedRows": "2",
          "rewriteTimeMs": "2008",
          "scanTimeMs": "1818"
         },
         null,
         "Databricks-Runtime/12.2.x-scala2.12"
        ],
        [
         5,
         "2025-02-03T14:19:05.000+0000",
         "1270209217208486",
         "krtproperty72@gmail.com",
         "WRITE",
         {
          "mode": "Append",
          "partitionBy": "[]"
         },
         null,
         [
          "1762041669422"
         ],
         "0203-134734-cjzwo1dt",
         4,
         "WriteSerializable",
         true,
         {
          "numFiles": "1",
          "numOutputBytes": "1095",
          "numOutputRows": "2"
         },
         null,
         "Databricks-Runtime/12.2.x-scala2.12"
        ],
        [
         4,
         "2025-02-03T12:24:41.000+0000",
         "1270209217208486",
         "krtproperty72@gmail.com",
         "UPDATE",
         {
          "predicate": "[\"Contains(name#2442, Ravi)\"]"
         },
         null,
         [
          "1762041669422"
         ],
         "0203-121714-a997tnmz",
         3,
         "WriteSerializable",
         false,
         {
          "executionTimeMs": "3200",
          "numAddedBytes": "1095",
          "numAddedChangeFiles": "0",
          "numAddedFiles": "1",
          "numCopiedRows": "1",
          "numDeletionVectorsAdded": "0",
          "numDeletionVectorsRemoved": "0",
          "numRemovedBytes": "1095",
          "numRemovedFiles": "1",
          "numUpdatedRows": "1",
          "rewriteTimeMs": "1673",
          "scanTimeMs": "1527"
         },
         null,
         "Databricks-Runtime/12.2.x-scala2.12"
        ],
        [
         3,
         "2025-02-03T12:24:05.000+0000",
         "1270209217208486",
         "krtproperty72@gmail.com",
         "UPDATE",
         {
          "predicate": "[\"EndsWith(name#1777, Ravi)\"]"
         },
         null,
         [
          "1762041669422"
         ],
         "0203-121714-a997tnmz",
         2,
         "WriteSerializable",
         false,
         {
          "executionTimeMs": "1828",
          "numAddedBytes": "0",
          "numAddedChangeFiles": "0",
          "numAddedFiles": "0",
          "numCopiedRows": "0",
          "numDeletionVectorsAdded": "0",
          "numDeletionVectorsRemoved": "0",
          "numRemovedBytes": "0",
          "numRemovedFiles": "0",
          "numUpdatedRows": "0",
          "rewriteTimeMs": "0",
          "scanTimeMs": "1828"
         },
         null,
         "Databricks-Runtime/12.2.x-scala2.12"
        ],
        [
         2,
         "2025-02-03T12:23:38.000+0000",
         "1270209217208486",
         "krtproperty72@gmail.com",
         "UPDATE",
         {
          "predicate": "[\"(name#1391 = Ravi)\"]"
         },
         null,
         [
          "1762041669422"
         ],
         "0203-121714-a997tnmz",
         1,
         "WriteSerializable",
         false,
         {
          "executionTimeMs": "808",
          "numAddedBytes": "0",
          "numAddedChangeFiles": "0",
          "numAddedFiles": "0",
          "numCopiedRows": "0",
          "numDeletionVectorsAdded": "0",
          "numDeletionVectorsRemoved": "0",
          "numRemovedBytes": "0",
          "numRemovedFiles": "0",
          "numUpdatedRows": "0",
          "rewriteTimeMs": "0",
          "scanTimeMs": "777"
         },
         null,
         "Databricks-Runtime/12.2.x-scala2.12"
        ],
        [
         1,
         "2025-02-03T12:20:24.000+0000",
         "1270209217208486",
         "krtproperty72@gmail.com",
         "WRITE",
         {
          "mode": "Append",
          "partitionBy": "[]"
         },
         null,
         [
          "1762041669422"
         ],
         "0203-121714-a997tnmz",
         0,
         "WriteSerializable",
         true,
         {
          "numFiles": "1",
          "numOutputBytes": "1095",
          "numOutputRows": "2"
         },
         null,
         "Databricks-Runtime/12.2.x-scala2.12"
        ],
        [
         0,
         "2025-02-03T12:19:47.000+0000",
         "1270209217208486",
         "krtproperty72@gmail.com",
         "CREATE TABLE",
         {
          "description": null,
          "isManaged": "true",
          "partitionBy": "[]",
          "properties": "{}"
         },
         null,
         [
          "1762041669422"
         ],
         "0203-121714-a997tnmz",
         null,
         "WriteSerializable",
         true,
         {},
         null,
         "Databricks-Runtime/12.2.x-scala2.12"
        ]
       ],
       "datasetInfos": [],
       "dbfsResultPath": null,
       "isJsonSchema": true,
       "metadata": {},
       "overflow": false,
       "plotOptions": {
        "customPlotOptions": {},
        "displayType": "table",
        "pivotAggregation": null,
        "pivotColumns": null,
        "xColumns": null,
        "yColumns": null
       },
       "removedWidgets": [],
       "schema": [
        {
         "metadata": "{}",
         "name": "version",
         "type": "\"long\""
        },
        {
         "metadata": "{}",
         "name": "timestamp",
         "type": "\"timestamp\""
        },
        {
         "metadata": "{}",
         "name": "userId",
         "type": "\"string\""
        },
        {
         "metadata": "{}",
         "name": "userName",
         "type": "\"string\""
        },
        {
         "metadata": "{}",
         "name": "operation",
         "type": "\"string\""
        },
        {
         "metadata": "{}",
         "name": "operationParameters",
         "type": "{\"type\":\"map\",\"keyType\":\"string\",\"valueType\":\"string\",\"valueContainsNull\":true}"
        },
        {
         "metadata": "{}",
         "name": "job",
         "type": "{\"type\":\"struct\",\"fields\":[{\"name\":\"jobId\",\"type\":\"string\",\"nullable\":true,\"metadata\":{}},{\"name\":\"jobName\",\"type\":\"string\",\"nullable\":true,\"metadata\":{}},{\"name\":\"jobRunId\",\"type\":\"string\",\"nullable\":true,\"metadata\":{}},{\"name\":\"runId\",\"type\":\"string\",\"nullable\":true,\"metadata\":{}},{\"name\":\"jobOwnerId\",\"type\":\"string\",\"nullable\":true,\"metadata\":{}},{\"name\":\"triggerType\",\"type\":\"string\",\"nullable\":true,\"metadata\":{}}]}"
        },
        {
         "metadata": "{}",
         "name": "notebook",
         "type": "{\"type\":\"struct\",\"fields\":[{\"name\":\"notebookId\",\"type\":\"string\",\"nullable\":true,\"metadata\":{}}]}"
        },
        {
         "metadata": "{}",
         "name": "clusterId",
         "type": "\"string\""
        },
        {
         "metadata": "{}",
         "name": "readVersion",
         "type": "\"long\""
        },
        {
         "metadata": "{}",
         "name": "isolationLevel",
         "type": "\"string\""
        },
        {
         "metadata": "{}",
         "name": "isBlindAppend",
         "type": "\"boolean\""
        },
        {
         "metadata": "{}",
         "name": "operationMetrics",
         "type": "{\"type\":\"map\",\"keyType\":\"string\",\"valueType\":\"string\",\"valueContainsNull\":true}"
        },
        {
         "metadata": "{}",
         "name": "userMetadata",
         "type": "\"string\""
        },
        {
         "metadata": "{}",
         "name": "engineInfo",
         "type": "\"string\""
        }
       ],
       "type": "table"
      }
     },
     "output_type": "display_data"
    }
   ],
   "source": [
    "%sql\n",
    "describe history employee;  "
   ]
  },
  {
   "cell_type": "code",
   "execution_count": 0,
   "metadata": {
    "application/vnd.databricks.v1+cell": {
     "cellMetadata": {
      "byteLimit": 2048000,
      "implicitDf": true,
      "rowLimit": 10000
     },
     "inputWidgets": {},
     "nuid": "14b39a1d-ac68-4275-97d7-40c411ea13cd",
     "showTitle": false,
     "tableResultSettingsMap": {},
     "title": ""
    }
   },
   "outputs": [
    {
     "output_type": "display_data",
     "data": {
      "text/html": [
       "<style scoped>\n",
       "  .table-result-container {\n",
       "    max-height: 300px;\n",
       "    overflow: auto;\n",
       "  }\n",
       "  table, th, td {\n",
       "    border: 1px solid black;\n",
       "    border-collapse: collapse;\n",
       "  }\n",
       "  th, td {\n",
       "    padding: 5px;\n",
       "  }\n",
       "  th {\n",
       "    text-align: left;\n",
       "  }\n",
       "</style><div class='table-result-container'><table class='table-result'><thead style='background-color: white'><tr><th>format</th><th>id</th><th>name</th><th>description</th><th>location</th><th>createdAt</th><th>lastModified</th><th>partitionColumns</th><th>numFiles</th><th>sizeInBytes</th><th>properties</th><th>minReaderVersion</th><th>minWriterVersion</th><th>tableFeatures</th><th>statistics</th></tr></thead><tbody><tr><td>delta</td><td>83519629-c6e2-4752-a9d2-83918734181e</td><td>spark_catalog.default.employee</td><td>null</td><td>dbfs:/user/hive/warehouse/employee</td><td>2025-02-03T12:19:44.032+0000</td><td>2025-02-03T17:16:20.000+0000</td><td>List()</td><td>2</td><td>2190</td><td>Map()</td><td>1</td><td>2</td><td>List(appendOnly, invariants)</td><td>Map()</td></tr></tbody></table></div>"
      ]
     },
     "metadata": {
      "application/vnd.databricks.v1+output": {
       "addedWidgets": {},
       "aggData": [],
       "aggError": "",
       "aggOverflow": false,
       "aggSchema": [],
       "aggSeriesLimitReached": false,
       "aggType": "",
       "arguments": {},
       "columnCustomDisplayInfos": {},
       "data": [
        [
         "delta",
         "83519629-c6e2-4752-a9d2-83918734181e",
         "spark_catalog.default.employee",
         null,
         "dbfs:/user/hive/warehouse/employee",
         "2025-02-03T12:19:44.032+0000",
         "2025-02-03T17:16:20.000+0000",
         [],
         2,
         2190,
         {},
         1,
         2,
         [
          "appendOnly",
          "invariants"
         ],
         {}
        ]
       ],
       "datasetInfos": [],
       "dbfsResultPath": null,
       "isJsonSchema": true,
       "metadata": {},
       "overflow": false,
       "plotOptions": {
        "customPlotOptions": {},
        "displayType": "table",
        "pivotAggregation": null,
        "pivotColumns": null,
        "xColumns": null,
        "yColumns": null
       },
       "removedWidgets": [],
       "schema": [
        {
         "metadata": "{}",
         "name": "format",
         "type": "\"string\""
        },
        {
         "metadata": "{}",
         "name": "id",
         "type": "\"string\""
        },
        {
         "metadata": "{}",
         "name": "name",
         "type": "\"string\""
        },
        {
         "metadata": "{}",
         "name": "description",
         "type": "\"string\""
        },
        {
         "metadata": "{}",
         "name": "location",
         "type": "\"string\""
        },
        {
         "metadata": "{}",
         "name": "createdAt",
         "type": "\"timestamp\""
        },
        {
         "metadata": "{}",
         "name": "lastModified",
         "type": "\"timestamp\""
        },
        {
         "metadata": "{}",
         "name": "partitionColumns",
         "type": "{\"type\":\"array\",\"elementType\":\"string\",\"containsNull\":true}"
        },
        {
         "metadata": "{}",
         "name": "numFiles",
         "type": "\"long\""
        },
        {
         "metadata": "{}",
         "name": "sizeInBytes",
         "type": "\"long\""
        },
        {
         "metadata": "{}",
         "name": "properties",
         "type": "{\"type\":\"map\",\"keyType\":\"string\",\"valueType\":\"string\",\"valueContainsNull\":true}"
        },
        {
         "metadata": "{}",
         "name": "minReaderVersion",
         "type": "\"integer\""
        },
        {
         "metadata": "{}",
         "name": "minWriterVersion",
         "type": "\"integer\""
        },
        {
         "metadata": "{}",
         "name": "tableFeatures",
         "type": "{\"type\":\"array\",\"elementType\":\"string\",\"containsNull\":true}"
        },
        {
         "metadata": "{}",
         "name": "statistics",
         "type": "{\"type\":\"map\",\"keyType\":\"string\",\"valueType\":\"long\",\"valueContainsNull\":true}"
        }
       ],
       "type": "table"
      }
     },
     "output_type": "display_data"
    }
   ],
   "source": [
    "%sql\n",
    "describe detail employee;"
   ]
  },
  {
   "cell_type": "code",
   "execution_count": 0,
   "metadata": {
    "application/vnd.databricks.v1+cell": {
     "cellMetadata": {
      "byteLimit": 2048000,
      "implicitDf": true,
      "rowLimit": 10000
     },
     "inputWidgets": {},
     "nuid": "572e101c-7595-4867-a86d-d47e5335462b",
     "showTitle": false,
     "tableResultSettingsMap": {},
     "title": ""
    }
   },
   "outputs": [
    {
     "output_type": "display_data",
     "data": {
      "text/html": [
       "<style scoped>\n",
       "  .table-result-container {\n",
       "    max-height: 300px;\n",
       "    overflow: auto;\n",
       "  }\n",
       "  table, th, td {\n",
       "    border: 1px solid black;\n",
       "    border-collapse: collapse;\n",
       "  }\n",
       "  th, td {\n",
       "    padding: 5px;\n",
       "  }\n",
       "  th {\n",
       "    text-align: left;\n",
       "  }\n",
       "</style><div class='table-result-container'><table class='table-result'><thead style='background-color: white'><tr><th>path</th><th>metrics</th></tr></thead><tbody><tr><td>dbfs:/user/hive/warehouse/employee</td><td>List(1, 2, List(1211, 1211, 1211.0, 1, 1211), List(1095, 1095, 1095.0, 2, 2190), 0, List(minCubeSize(107374182400), List(0, 0), List(2, 2190), 0, List(2, 2190), 1, null), 1, 2, 0, false, 0, 0, 1738602994934, 1738603002589, 8, 1, null, List(0, 0), 3, 3, 368)</td></tr></tbody></table></div>"
      ]
     },
     "metadata": {
      "application/vnd.databricks.v1+output": {
       "addedWidgets": {},
       "aggData": [],
       "aggError": "",
       "aggOverflow": false,
       "aggSchema": [],
       "aggSeriesLimitReached": false,
       "aggType": "",
       "arguments": {},
       "columnCustomDisplayInfos": {},
       "data": [
        [
         "dbfs:/user/hive/warehouse/employee",
         [
          1,
          2,
          [
           1211,
           1211,
           1211.0,
           1,
           1211
          ],
          [
           1095,
           1095,
           1095.0,
           2,
           2190
          ],
          0,
          [
           "minCubeSize(107374182400)",
           [
            0,
            0
           ],
           [
            2,
            2190
           ],
           0,
           [
            2,
            2190
           ],
           1,
           null
          ],
          1,
          2,
          0,
          false,
          0,
          0,
          1738602994934,
          1738603002589,
          8,
          1,
          null,
          [
           0,
           0
          ],
          3,
          3,
          368
         ]
        ]
       ],
       "datasetInfos": [],
       "dbfsResultPath": null,
       "isJsonSchema": true,
       "metadata": {},
       "overflow": false,
       "plotOptions": {
        "customPlotOptions": {},
        "displayType": "table",
        "pivotAggregation": null,
        "pivotColumns": null,
        "xColumns": null,
        "yColumns": null
       },
       "removedWidgets": [],
       "schema": [
        {
         "metadata": "{}",
         "name": "path",
         "type": "\"string\""
        },
        {
         "metadata": "{}",
         "name": "metrics",
         "type": "{\"type\":\"struct\",\"fields\":[{\"name\":\"numFilesAdded\",\"type\":\"long\",\"nullable\":false,\"metadata\":{}},{\"name\":\"numFilesRemoved\",\"type\":\"long\",\"nullable\":false,\"metadata\":{}},{\"name\":\"filesAdded\",\"type\":{\"type\":\"struct\",\"fields\":[{\"name\":\"min\",\"type\":\"long\",\"nullable\":true,\"metadata\":{}},{\"name\":\"max\",\"type\":\"long\",\"nullable\":true,\"metadata\":{}},{\"name\":\"avg\",\"type\":\"double\",\"nullable\":false,\"metadata\":{}},{\"name\":\"totalFiles\",\"type\":\"long\",\"nullable\":false,\"metadata\":{}},{\"name\":\"totalSize\",\"type\":\"long\",\"nullable\":false,\"metadata\":{}}]},\"nullable\":true,\"metadata\":{}},{\"name\":\"filesRemoved\",\"type\":{\"type\":\"struct\",\"fields\":[{\"name\":\"min\",\"type\":\"long\",\"nullable\":true,\"metadata\":{}},{\"name\":\"max\",\"type\":\"long\",\"nullable\":true,\"metadata\":{}},{\"name\":\"avg\",\"type\":\"double\",\"nullable\":false,\"metadata\":{}},{\"name\":\"totalFiles\",\"type\":\"long\",\"nullable\":false,\"metadata\":{}},{\"name\":\"totalSize\",\"type\":\"long\",\"nullable\":false,\"metadata\":{}}]},\"nullable\":true,\"metadata\":{}},{\"name\":\"partitionsOptimized\",\"type\":\"long\",\"nullable\":false,\"metadata\":{}},{\"name\":\"zOrderStats\",\"type\":{\"type\":\"struct\",\"fields\":[{\"name\":\"strategyName\",\"type\":\"string\",\"nullable\":true,\"metadata\":{}},{\"name\":\"inputCubeFiles\",\"type\":{\"type\":\"struct\",\"fields\":[{\"name\":\"num\",\"type\":\"long\",\"nullable\":false,\"metadata\":{}},{\"name\":\"size\",\"type\":\"long\",\"nullable\":false,\"metadata\":{}}]},\"nullable\":true,\"metadata\":{}},{\"name\":\"inputOtherFiles\",\"type\":{\"type\":\"struct\",\"fields\":[{\"name\":\"num\",\"type\":\"long\",\"nullable\":false,\"metadata\":{}},{\"name\":\"size\",\"type\":\"long\",\"nullable\":false,\"metadata\":{}}]},\"nullable\":true,\"metadata\":{}},{\"name\":\"inputNumCubes\",\"type\":\"long\",\"nullable\":false,\"metadata\":{}},{\"name\":\"mergedFiles\",\"type\":{\"type\":\"struct\",\"fields\":[{\"name\":\"num\",\"type\":\"long\",\"nullable\":false,\"metadata\":{}},{\"name\":\"size\",\"type\":\"long\",\"nullable\":false,\"metadata\":{}}]},\"nullable\":true,\"metadata\":{}},{\"name\":\"numOutputCubes\",\"type\":\"long\",\"nullable\":false,\"metadata\":{}},{\"name\":\"mergedNumCubes\",\"type\":\"long\",\"nullable\":true,\"metadata\":{}}]},\"nullable\":true,\"metadata\":{}},{\"name\":\"numBatches\",\"type\":\"long\",\"nullable\":false,\"metadata\":{}},{\"name\":\"totalConsideredFiles\",\"type\":\"long\",\"nullable\":false,\"metadata\":{}},{\"name\":\"totalFilesSkipped\",\"type\":\"long\",\"nullable\":false,\"metadata\":{}},{\"name\":\"preserveInsertionOrder\",\"type\":\"boolean\",\"nullable\":false,\"metadata\":{}},{\"name\":\"numFilesSkippedToReduceWriteAmplification\",\"type\":\"long\",\"nullable\":false,\"metadata\":{}},{\"name\":\"numBytesSkippedToReduceWriteAmplification\",\"type\":\"long\",\"nullable\":false,\"metadata\":{}},{\"name\":\"startTimeMs\",\"type\":\"long\",\"nullable\":false,\"metadata\":{}},{\"name\":\"endTimeMs\",\"type\":\"long\",\"nullable\":false,\"metadata\":{}},{\"name\":\"totalClusterParallelism\",\"type\":\"long\",\"nullable\":false,\"metadata\":{}},{\"name\":\"totalScheduledTasks\",\"type\":\"long\",\"nullable\":false,\"metadata\":{}},{\"name\":\"autoCompactParallelismStats\",\"type\":{\"type\":\"struct\",\"fields\":[{\"name\":\"maxClusterActiveParallelism\",\"type\":\"long\",\"nullable\":true,\"metadata\":{}},{\"name\":\"minClusterActiveParallelism\",\"type\":\"long\",\"nullable\":true,\"metadata\":{}},{\"name\":\"maxSessionActiveParallelism\",\"type\":\"long\",\"nullable\":true,\"metadata\":{}},{\"name\":\"minSessionActiveParallelism\",\"type\":\"long\",\"nullable\":true,\"metadata\":{}}]},\"nullable\":true,\"metadata\":{}},{\"name\":\"deletionVectorStats\",\"type\":{\"type\":\"struct\",\"fields\":[{\"name\":\"numDeletionVectorsRemoved\",\"type\":\"long\",\"nullable\":false,\"metadata\":{}},{\"name\":\"numDeletionVectorRowsRemoved\",\"type\":\"long\",\"nullable\":false,\"metadata\":{}}]},\"nullable\":true,\"metadata\":{}},{\"name\":\"numTableColumns\",\"type\":\"long\",\"nullable\":false,\"metadata\":{}},{\"name\":\"numTableColumnsWithStats\",\"type\":\"long\",\"nullable\":false,\"metadata\":{}},{\"name\":\"totalTaskExecutionTimeMs\",\"type\":\"long\",\"nullable\":false,\"metadata\":{}}]}"
        }
       ],
       "type": "table"
      }
     },
     "output_type": "display_data"
    }
   ],
   "source": [
    "%sql\n",
    "optimize employee \n",
    "zorder by (id);"
   ]
  },
  {
   "cell_type": "code",
   "execution_count": 0,
   "metadata": {
    "application/vnd.databricks.v1+cell": {
     "cellMetadata": {
      "byteLimit": 2048000,
      "implicitDf": true,
      "rowLimit": 10000
     },
     "inputWidgets": {},
     "nuid": "21522524-abd6-4ecc-931c-4cf160af3cc9",
     "showTitle": false,
     "tableResultSettingsMap": {},
     "title": ""
    }
   },
   "outputs": [
    {
     "output_type": "display_data",
     "data": {
      "text/html": [
       "<style scoped>\n",
       "  .table-result-container {\n",
       "    max-height: 300px;\n",
       "    overflow: auto;\n",
       "  }\n",
       "  table, th, td {\n",
       "    border: 1px solid black;\n",
       "    border-collapse: collapse;\n",
       "  }\n",
       "  th, td {\n",
       "    padding: 5px;\n",
       "  }\n",
       "  th {\n",
       "    text-align: left;\n",
       "  }\n",
       "</style><div class='table-result-container'><table class='table-result'><thead style='background-color: white'><tr><th>format</th><th>id</th><th>name</th><th>description</th><th>location</th><th>createdAt</th><th>lastModified</th><th>partitionColumns</th><th>numFiles</th><th>sizeInBytes</th><th>properties</th><th>minReaderVersion</th><th>minWriterVersion</th><th>tableFeatures</th><th>statistics</th></tr></thead><tbody><tr><td>delta</td><td>83519629-c6e2-4752-a9d2-83918734181e</td><td>spark_catalog.default.employee</td><td>null</td><td>dbfs:/user/hive/warehouse/employee</td><td>2025-02-03T12:19:44.032+0000</td><td>2025-02-03T17:16:40.000+0000</td><td>List()</td><td>1</td><td>1211</td><td>Map()</td><td>1</td><td>2</td><td>List(appendOnly, invariants)</td><td>Map()</td></tr></tbody></table></div>"
      ]
     },
     "metadata": {
      "application/vnd.databricks.v1+output": {
       "addedWidgets": {},
       "aggData": [],
       "aggError": "",
       "aggOverflow": false,
       "aggSchema": [],
       "aggSeriesLimitReached": false,
       "aggType": "",
       "arguments": {},
       "columnCustomDisplayInfos": {},
       "data": [
        [
         "delta",
         "83519629-c6e2-4752-a9d2-83918734181e",
         "spark_catalog.default.employee",
         null,
         "dbfs:/user/hive/warehouse/employee",
         "2025-02-03T12:19:44.032+0000",
         "2025-02-03T17:16:40.000+0000",
         [],
         1,
         1211,
         {},
         1,
         2,
         [
          "appendOnly",
          "invariants"
         ],
         {}
        ]
       ],
       "datasetInfos": [],
       "dbfsResultPath": null,
       "isJsonSchema": true,
       "metadata": {},
       "overflow": false,
       "plotOptions": {
        "customPlotOptions": {},
        "displayType": "table",
        "pivotAggregation": null,
        "pivotColumns": null,
        "xColumns": null,
        "yColumns": null
       },
       "removedWidgets": [],
       "schema": [
        {
         "metadata": "{}",
         "name": "format",
         "type": "\"string\""
        },
        {
         "metadata": "{}",
         "name": "id",
         "type": "\"string\""
        },
        {
         "metadata": "{}",
         "name": "name",
         "type": "\"string\""
        },
        {
         "metadata": "{}",
         "name": "description",
         "type": "\"string\""
        },
        {
         "metadata": "{}",
         "name": "location",
         "type": "\"string\""
        },
        {
         "metadata": "{}",
         "name": "createdAt",
         "type": "\"timestamp\""
        },
        {
         "metadata": "{}",
         "name": "lastModified",
         "type": "\"timestamp\""
        },
        {
         "metadata": "{}",
         "name": "partitionColumns",
         "type": "{\"type\":\"array\",\"elementType\":\"string\",\"containsNull\":true}"
        },
        {
         "metadata": "{}",
         "name": "numFiles",
         "type": "\"long\""
        },
        {
         "metadata": "{}",
         "name": "sizeInBytes",
         "type": "\"long\""
        },
        {
         "metadata": "{}",
         "name": "properties",
         "type": "{\"type\":\"map\",\"keyType\":\"string\",\"valueType\":\"string\",\"valueContainsNull\":true}"
        },
        {
         "metadata": "{}",
         "name": "minReaderVersion",
         "type": "\"integer\""
        },
        {
         "metadata": "{}",
         "name": "minWriterVersion",
         "type": "\"integer\""
        },
        {
         "metadata": "{}",
         "name": "tableFeatures",
         "type": "{\"type\":\"array\",\"elementType\":\"string\",\"containsNull\":true}"
        },
        {
         "metadata": "{}",
         "name": "statistics",
         "type": "{\"type\":\"map\",\"keyType\":\"string\",\"valueType\":\"long\",\"valueContainsNull\":true}"
        }
       ],
       "type": "table"
      }
     },
     "output_type": "display_data"
    }
   ],
   "source": [
    "%sql\n",
    "describe detail employee;"
   ]
  },
  {
   "cell_type": "code",
   "execution_count": 0,
   "metadata": {
    "application/vnd.databricks.v1+cell": {
     "cellMetadata": {
      "byteLimit": 2048000,
      "implicitDf": true,
      "rowLimit": 10000
     },
     "inputWidgets": {},
     "nuid": "760d80db-fa5f-4bab-bcfb-dcfe917661fd",
     "showTitle": false,
     "tableResultSettingsMap": {},
     "title": ""
    }
   },
   "outputs": [
    {
     "output_type": "display_data",
     "data": {
      "text/html": [
       "<style scoped>\n",
       "  .table-result-container {\n",
       "    max-height: 300px;\n",
       "    overflow: auto;\n",
       "  }\n",
       "  table, th, td {\n",
       "    border: 1px solid black;\n",
       "    border-collapse: collapse;\n",
       "  }\n",
       "  th, td {\n",
       "    padding: 5px;\n",
       "  }\n",
       "  th {\n",
       "    text-align: left;\n",
       "  }\n",
       "</style><div class='table-result-container'><table class='table-result'><thead style='background-color: white'><tr><th>version</th><th>timestamp</th><th>userId</th><th>userName</th><th>operation</th><th>operationParameters</th><th>job</th><th>notebook</th><th>clusterId</th><th>readVersion</th><th>isolationLevel</th><th>isBlindAppend</th><th>operationMetrics</th><th>userMetadata</th><th>engineInfo</th></tr></thead><tbody><tr><td>16</td><td>2025-02-03T17:16:40.000+0000</td><td>1270209217208486</td><td>krtproperty72@gmail.com</td><td>OPTIMIZE</td><td>Map(predicate -> [], zOrderBy -> [\"id\"], batchId -> 0, auto -> false)</td><td>null</td><td>List(1762041669422)</td><td>0203-170608-33t84sha</td><td>15</td><td>SnapshotIsolation</td><td>false</td><td>Map(numRemovedFiles -> 2, numRemovedBytes -> 2190, p25FileSize -> 1211, numDeletionVectorsRemoved -> 0, minFileSize -> 1211, numAddedFiles -> 1, maxFileSize -> 1211, p75FileSize -> 1211, p50FileSize -> 1211, numAddedBytes -> 1211)</td><td>null</td><td>Databricks-Runtime/12.2.x-scala2.12</td></tr><tr><td>15</td><td>2025-02-03T17:16:20.000+0000</td><td>1270209217208486</td><td>krtproperty72@gmail.com</td><td>RESTORE</td><td>Map(version -> 5, timestamp -> null)</td><td>null</td><td>List(1762041669422)</td><td>0203-170608-33t84sha</td><td>14</td><td>Serializable</td><td>false</td><td>Map(numRestoredFiles -> 2, removedFilesSize -> 0, numRemovedFiles -> 0, restoredFilesSize -> 2190, numOfFilesAfterRestore -> 2, tableSizeAfterRestore -> 2190)</td><td>null</td><td>Databricks-Runtime/12.2.x-scala2.12</td></tr><tr><td>14</td><td>2025-02-03T17:15:49.000+0000</td><td>1270209217208486</td><td>krtproperty72@gmail.com</td><td>DELETE</td><td>Map(predicate -> [\"true\"])</td><td>null</td><td>List(1762041669422)</td><td>0203-170608-33t84sha</td><td>13</td><td>WriteSerializable</td><td>false</td><td>Map(numRemovedFiles -> 1, numRemovedBytes -> 1203, numCopiedRows -> 0, numDeletionVectorsAdded -> 0, numDeletionVectorsRemoved -> 0, numAddedChangeFiles -> 0, executionTimeMs -> 1222, numDeletedRows -> 6, scanTimeMs -> 1220, numAddedFiles -> 0, numAddedBytes -> 0, rewriteTimeMs -> 0)</td><td>null</td><td>Databricks-Runtime/12.2.x-scala2.12</td></tr><tr><td>13</td><td>2025-02-03T17:15:34.000+0000</td><td>1270209217208486</td><td>krtproperty72@gmail.com</td><td>OPTIMIZE</td><td>Map(predicate -> [], zOrderBy -> [], batchId -> 0, auto -> false)</td><td>null</td><td>List(1762041669422)</td><td>0203-170608-33t84sha</td><td>12</td><td>SnapshotIsolation</td><td>false</td><td>Map(numRemovedFiles -> 2, numRemovedBytes -> 2298, p25FileSize -> 1203, numDeletionVectorsRemoved -> 0, minFileSize -> 1203, numAddedFiles -> 1, maxFileSize -> 1203, p75FileSize -> 1203, p50FileSize -> 1203, numAddedBytes -> 1203)</td><td>null</td><td>Databricks-Runtime/12.2.x-scala2.12</td></tr><tr><td>12</td><td>2025-02-03T17:15:00.000+0000</td><td>1270209217208486</td><td>krtproperty72@gmail.com</td><td>UPDATE</td><td>Map(predicate -> [\"Contains(name#1556, Ravi)\"])</td><td>null</td><td>List(1762041669422)</td><td>0203-170608-33t84sha</td><td>11</td><td>WriteSerializable</td><td>false</td><td>Map(numRemovedFiles -> 2, numRemovedBytes -> 2306, numCopiedRows -> 3, numDeletionVectorsAdded -> 0, numDeletionVectorsRemoved -> 0, numAddedChangeFiles -> 0, executionTimeMs -> 3881, scanTimeMs -> 1979, numAddedFiles -> 2, numUpdatedRows -> 3, numAddedBytes -> 2298, rewriteTimeMs -> 1876)</td><td>null</td><td>Databricks-Runtime/12.2.x-scala2.12</td></tr><tr><td>11</td><td>2025-02-03T17:14:39.000+0000</td><td>1270209217208486</td><td>krtproperty72@gmail.com</td><td>WRITE</td><td>Map(mode -> Append, partitionBy -> [])</td><td>null</td><td>List(1762041669422)</td><td>0203-170608-33t84sha</td><td>10</td><td>WriteSerializable</td><td>true</td><td>Map(numFiles -> 1, numOutputRows -> 2, numOutputBytes -> 1095)</td><td>null</td><td>Databricks-Runtime/12.2.x-scala2.12</td></tr><tr><td>10</td><td>2025-02-03T14:25:37.000+0000</td><td>1270209217208486</td><td>krtproperty72@gmail.com</td><td>OPTIMIZE</td><td>Map(predicate -> [], zOrderBy -> [\"id\"], batchId -> 0, auto -> false)</td><td>null</td><td>List(1762041669422)</td><td>0203-134734-cjzwo1dt</td><td>9</td><td>SnapshotIsolation</td><td>false</td><td>Map(numRemovedFiles -> 2, numRemovedBytes -> 2190, p25FileSize -> 1211, numDeletionVectorsRemoved -> 0, minFileSize -> 1211, numAddedFiles -> 1, maxFileSize -> 1211, p75FileSize -> 1211, p50FileSize -> 1211, numAddedBytes -> 1211)</td><td>null</td><td>Databricks-Runtime/12.2.x-scala2.12</td></tr><tr><td>9</td><td>2025-02-03T14:22:52.000+0000</td><td>1270209217208486</td><td>krtproperty72@gmail.com</td><td>RESTORE</td><td>Map(version -> 5, timestamp -> null)</td><td>null</td><td>List(1762041669422)</td><td>0203-134734-cjzwo1dt</td><td>8</td><td>Serializable</td><td>false</td><td>Map(numRestoredFiles -> 2, removedFilesSize -> 0, numRemovedFiles -> 0, restoredFilesSize -> 2190, numOfFilesAfterRestore -> 2, tableSizeAfterRestore -> 2190)</td><td>null</td><td>Databricks-Runtime/12.2.x-scala2.12</td></tr><tr><td>8</td><td>2025-02-03T14:21:29.000+0000</td><td>1270209217208486</td><td>krtproperty72@gmail.com</td><td>DELETE</td><td>Map(predicate -> [\"true\"])</td><td>null</td><td>List(1762041669422)</td><td>0203-134734-cjzwo1dt</td><td>7</td><td>WriteSerializable</td><td>false</td><td>Map(numRemovedFiles -> 1, numRemovedBytes -> 1203, numCopiedRows -> 0, numDeletionVectorsAdded -> 0, numDeletionVectorsRemoved -> 0, numAddedChangeFiles -> 0, executionTimeMs -> 74, numDeletedRows -> 4, scanTimeMs -> 60, numAddedFiles -> 0, numAddedBytes -> 0, rewriteTimeMs -> 0)</td><td>null</td><td>Databricks-Runtime/12.2.x-scala2.12</td></tr><tr><td>7</td><td>2025-02-03T14:19:43.000+0000</td><td>1270209217208486</td><td>krtproperty72@gmail.com</td><td>OPTIMIZE</td><td>Map(predicate -> [], zOrderBy -> [], batchId -> 0, auto -> false)</td><td>null</td><td>List(1762041669422)</td><td>0203-134734-cjzwo1dt</td><td>6</td><td>SnapshotIsolation</td><td>false</td><td>Map(numRemovedFiles -> 2, numRemovedBytes -> 2190, p25FileSize -> 1203, numDeletionVectorsRemoved -> 0, minFileSize -> 1203, numAddedFiles -> 1, maxFileSize -> 1203, p75FileSize -> 1203, p50FileSize -> 1203, numAddedBytes -> 1203)</td><td>null</td><td>Databricks-Runtime/12.2.x-scala2.12</td></tr><tr><td>6</td><td>2025-02-03T14:19:25.000+0000</td><td>1270209217208486</td><td>krtproperty72@gmail.com</td><td>UPDATE</td><td>Map(predicate -> [\"Contains(name#3290, Ravi)\"])</td><td>null</td><td>List(1762041669422)</td><td>0203-134734-cjzwo1dt</td><td>5</td><td>WriteSerializable</td><td>false</td><td>Map(numRemovedFiles -> 2, numRemovedBytes -> 2190, numCopiedRows -> 2, numDeletionVectorsAdded -> 0, numDeletionVectorsRemoved -> 0, numAddedChangeFiles -> 0, executionTimeMs -> 3968, scanTimeMs -> 1818, numAddedFiles -> 2, numUpdatedRows -> 2, numAddedBytes -> 2190, rewriteTimeMs -> 2008)</td><td>null</td><td>Databricks-Runtime/12.2.x-scala2.12</td></tr><tr><td>5</td><td>2025-02-03T14:19:05.000+0000</td><td>1270209217208486</td><td>krtproperty72@gmail.com</td><td>WRITE</td><td>Map(mode -> Append, partitionBy -> [])</td><td>null</td><td>List(1762041669422)</td><td>0203-134734-cjzwo1dt</td><td>4</td><td>WriteSerializable</td><td>true</td><td>Map(numFiles -> 1, numOutputRows -> 2, numOutputBytes -> 1095)</td><td>null</td><td>Databricks-Runtime/12.2.x-scala2.12</td></tr><tr><td>4</td><td>2025-02-03T12:24:41.000+0000</td><td>1270209217208486</td><td>krtproperty72@gmail.com</td><td>UPDATE</td><td>Map(predicate -> [\"Contains(name#2442, Ravi)\"])</td><td>null</td><td>List(1762041669422)</td><td>0203-121714-a997tnmz</td><td>3</td><td>WriteSerializable</td><td>false</td><td>Map(numRemovedFiles -> 1, numRemovedBytes -> 1095, numCopiedRows -> 1, numDeletionVectorsAdded -> 0, numDeletionVectorsRemoved -> 0, numAddedChangeFiles -> 0, executionTimeMs -> 3200, scanTimeMs -> 1527, numAddedFiles -> 1, numUpdatedRows -> 1, numAddedBytes -> 1095, rewriteTimeMs -> 1673)</td><td>null</td><td>Databricks-Runtime/12.2.x-scala2.12</td></tr><tr><td>3</td><td>2025-02-03T12:24:05.000+0000</td><td>1270209217208486</td><td>krtproperty72@gmail.com</td><td>UPDATE</td><td>Map(predicate -> [\"EndsWith(name#1777, Ravi)\"])</td><td>null</td><td>List(1762041669422)</td><td>0203-121714-a997tnmz</td><td>2</td><td>WriteSerializable</td><td>false</td><td>Map(numRemovedFiles -> 0, numRemovedBytes -> 0, numCopiedRows -> 0, numDeletionVectorsAdded -> 0, numDeletionVectorsRemoved -> 0, numAddedChangeFiles -> 0, executionTimeMs -> 1828, scanTimeMs -> 1828, numAddedFiles -> 0, numUpdatedRows -> 0, numAddedBytes -> 0, rewriteTimeMs -> 0)</td><td>null</td><td>Databricks-Runtime/12.2.x-scala2.12</td></tr><tr><td>2</td><td>2025-02-03T12:23:38.000+0000</td><td>1270209217208486</td><td>krtproperty72@gmail.com</td><td>UPDATE</td><td>Map(predicate -> [\"(name#1391 = Ravi)\"])</td><td>null</td><td>List(1762041669422)</td><td>0203-121714-a997tnmz</td><td>1</td><td>WriteSerializable</td><td>false</td><td>Map(numRemovedFiles -> 0, numRemovedBytes -> 0, numCopiedRows -> 0, numDeletionVectorsAdded -> 0, numDeletionVectorsRemoved -> 0, numAddedChangeFiles -> 0, executionTimeMs -> 808, scanTimeMs -> 777, numAddedFiles -> 0, numUpdatedRows -> 0, numAddedBytes -> 0, rewriteTimeMs -> 0)</td><td>null</td><td>Databricks-Runtime/12.2.x-scala2.12</td></tr><tr><td>1</td><td>2025-02-03T12:20:24.000+0000</td><td>1270209217208486</td><td>krtproperty72@gmail.com</td><td>WRITE</td><td>Map(mode -> Append, partitionBy -> [])</td><td>null</td><td>List(1762041669422)</td><td>0203-121714-a997tnmz</td><td>0</td><td>WriteSerializable</td><td>true</td><td>Map(numFiles -> 1, numOutputRows -> 2, numOutputBytes -> 1095)</td><td>null</td><td>Databricks-Runtime/12.2.x-scala2.12</td></tr><tr><td>0</td><td>2025-02-03T12:19:47.000+0000</td><td>1270209217208486</td><td>krtproperty72@gmail.com</td><td>CREATE TABLE</td><td>Map(isManaged -> true, description -> null, partitionBy -> [], properties -> {})</td><td>null</td><td>List(1762041669422)</td><td>0203-121714-a997tnmz</td><td>null</td><td>WriteSerializable</td><td>true</td><td>Map()</td><td>null</td><td>Databricks-Runtime/12.2.x-scala2.12</td></tr></tbody></table></div>"
      ]
     },
     "metadata": {
      "application/vnd.databricks.v1+output": {
       "addedWidgets": {},
       "aggData": [],
       "aggError": "",
       "aggOverflow": false,
       "aggSchema": [],
       "aggSeriesLimitReached": false,
       "aggType": "",
       "arguments": {},
       "columnCustomDisplayInfos": {},
       "data": [
        [
         16,
         "2025-02-03T17:16:40.000+0000",
         "1270209217208486",
         "krtproperty72@gmail.com",
         "OPTIMIZE",
         {
          "auto": "false",
          "batchId": "0",
          "predicate": "[]",
          "zOrderBy": "[\"id\"]"
         },
         null,
         [
          "1762041669422"
         ],
         "0203-170608-33t84sha",
         15,
         "SnapshotIsolation",
         false,
         {
          "maxFileSize": "1211",
          "minFileSize": "1211",
          "numAddedBytes": "1211",
          "numAddedFiles": "1",
          "numDeletionVectorsRemoved": "0",
          "numRemovedBytes": "2190",
          "numRemovedFiles": "2",
          "p25FileSize": "1211",
          "p50FileSize": "1211",
          "p75FileSize": "1211"
         },
         null,
         "Databricks-Runtime/12.2.x-scala2.12"
        ],
        [
         15,
         "2025-02-03T17:16:20.000+0000",
         "1270209217208486",
         "krtproperty72@gmail.com",
         "RESTORE",
         {
          "timestamp": null,
          "version": "5"
         },
         null,
         [
          "1762041669422"
         ],
         "0203-170608-33t84sha",
         14,
         "Serializable",
         false,
         {
          "numOfFilesAfterRestore": "2",
          "numRemovedFiles": "0",
          "numRestoredFiles": "2",
          "removedFilesSize": "0",
          "restoredFilesSize": "2190",
          "tableSizeAfterRestore": "2190"
         },
         null,
         "Databricks-Runtime/12.2.x-scala2.12"
        ],
        [
         14,
         "2025-02-03T17:15:49.000+0000",
         "1270209217208486",
         "krtproperty72@gmail.com",
         "DELETE",
         {
          "predicate": "[\"true\"]"
         },
         null,
         [
          "1762041669422"
         ],
         "0203-170608-33t84sha",
         13,
         "WriteSerializable",
         false,
         {
          "executionTimeMs": "1222",
          "numAddedBytes": "0",
          "numAddedChangeFiles": "0",
          "numAddedFiles": "0",
          "numCopiedRows": "0",
          "numDeletedRows": "6",
          "numDeletionVectorsAdded": "0",
          "numDeletionVectorsRemoved": "0",
          "numRemovedBytes": "1203",
          "numRemovedFiles": "1",
          "rewriteTimeMs": "0",
          "scanTimeMs": "1220"
         },
         null,
         "Databricks-Runtime/12.2.x-scala2.12"
        ],
        [
         13,
         "2025-02-03T17:15:34.000+0000",
         "1270209217208486",
         "krtproperty72@gmail.com",
         "OPTIMIZE",
         {
          "auto": "false",
          "batchId": "0",
          "predicate": "[]",
          "zOrderBy": "[]"
         },
         null,
         [
          "1762041669422"
         ],
         "0203-170608-33t84sha",
         12,
         "SnapshotIsolation",
         false,
         {
          "maxFileSize": "1203",
          "minFileSize": "1203",
          "numAddedBytes": "1203",
          "numAddedFiles": "1",
          "numDeletionVectorsRemoved": "0",
          "numRemovedBytes": "2298",
          "numRemovedFiles": "2",
          "p25FileSize": "1203",
          "p50FileSize": "1203",
          "p75FileSize": "1203"
         },
         null,
         "Databricks-Runtime/12.2.x-scala2.12"
        ],
        [
         12,
         "2025-02-03T17:15:00.000+0000",
         "1270209217208486",
         "krtproperty72@gmail.com",
         "UPDATE",
         {
          "predicate": "[\"Contains(name#1556, Ravi)\"]"
         },
         null,
         [
          "1762041669422"
         ],
         "0203-170608-33t84sha",
         11,
         "WriteSerializable",
         false,
         {
          "executionTimeMs": "3881",
          "numAddedBytes": "2298",
          "numAddedChangeFiles": "0",
          "numAddedFiles": "2",
          "numCopiedRows": "3",
          "numDeletionVectorsAdded": "0",
          "numDeletionVectorsRemoved": "0",
          "numRemovedBytes": "2306",
          "numRemovedFiles": "2",
          "numUpdatedRows": "3",
          "rewriteTimeMs": "1876",
          "scanTimeMs": "1979"
         },
         null,
         "Databricks-Runtime/12.2.x-scala2.12"
        ],
        [
         11,
         "2025-02-03T17:14:39.000+0000",
         "1270209217208486",
         "krtproperty72@gmail.com",
         "WRITE",
         {
          "mode": "Append",
          "partitionBy": "[]"
         },
         null,
         [
          "1762041669422"
         ],
         "0203-170608-33t84sha",
         10,
         "WriteSerializable",
         true,
         {
          "numFiles": "1",
          "numOutputBytes": "1095",
          "numOutputRows": "2"
         },
         null,
         "Databricks-Runtime/12.2.x-scala2.12"
        ],
        [
         10,
         "2025-02-03T14:25:37.000+0000",
         "1270209217208486",
         "krtproperty72@gmail.com",
         "OPTIMIZE",
         {
          "auto": "false",
          "batchId": "0",
          "predicate": "[]",
          "zOrderBy": "[\"id\"]"
         },
         null,
         [
          "1762041669422"
         ],
         "0203-134734-cjzwo1dt",
         9,
         "SnapshotIsolation",
         false,
         {
          "maxFileSize": "1211",
          "minFileSize": "1211",
          "numAddedBytes": "1211",
          "numAddedFiles": "1",
          "numDeletionVectorsRemoved": "0",
          "numRemovedBytes": "2190",
          "numRemovedFiles": "2",
          "p25FileSize": "1211",
          "p50FileSize": "1211",
          "p75FileSize": "1211"
         },
         null,
         "Databricks-Runtime/12.2.x-scala2.12"
        ],
        [
         9,
         "2025-02-03T14:22:52.000+0000",
         "1270209217208486",
         "krtproperty72@gmail.com",
         "RESTORE",
         {
          "timestamp": null,
          "version": "5"
         },
         null,
         [
          "1762041669422"
         ],
         "0203-134734-cjzwo1dt",
         8,
         "Serializable",
         false,
         {
          "numOfFilesAfterRestore": "2",
          "numRemovedFiles": "0",
          "numRestoredFiles": "2",
          "removedFilesSize": "0",
          "restoredFilesSize": "2190",
          "tableSizeAfterRestore": "2190"
         },
         null,
         "Databricks-Runtime/12.2.x-scala2.12"
        ],
        [
         8,
         "2025-02-03T14:21:29.000+0000",
         "1270209217208486",
         "krtproperty72@gmail.com",
         "DELETE",
         {
          "predicate": "[\"true\"]"
         },
         null,
         [
          "1762041669422"
         ],
         "0203-134734-cjzwo1dt",
         7,
         "WriteSerializable",
         false,
         {
          "executionTimeMs": "74",
          "numAddedBytes": "0",
          "numAddedChangeFiles": "0",
          "numAddedFiles": "0",
          "numCopiedRows": "0",
          "numDeletedRows": "4",
          "numDeletionVectorsAdded": "0",
          "numDeletionVectorsRemoved": "0",
          "numRemovedBytes": "1203",
          "numRemovedFiles": "1",
          "rewriteTimeMs": "0",
          "scanTimeMs": "60"
         },
         null,
         "Databricks-Runtime/12.2.x-scala2.12"
        ],
        [
         7,
         "2025-02-03T14:19:43.000+0000",
         "1270209217208486",
         "krtproperty72@gmail.com",
         "OPTIMIZE",
         {
          "auto": "false",
          "batchId": "0",
          "predicate": "[]",
          "zOrderBy": "[]"
         },
         null,
         [
          "1762041669422"
         ],
         "0203-134734-cjzwo1dt",
         6,
         "SnapshotIsolation",
         false,
         {
          "maxFileSize": "1203",
          "minFileSize": "1203",
          "numAddedBytes": "1203",
          "numAddedFiles": "1",
          "numDeletionVectorsRemoved": "0",
          "numRemovedBytes": "2190",
          "numRemovedFiles": "2",
          "p25FileSize": "1203",
          "p50FileSize": "1203",
          "p75FileSize": "1203"
         },
         null,
         "Databricks-Runtime/12.2.x-scala2.12"
        ],
        [
         6,
         "2025-02-03T14:19:25.000+0000",
         "1270209217208486",
         "krtproperty72@gmail.com",
         "UPDATE",
         {
          "predicate": "[\"Contains(name#3290, Ravi)\"]"
         },
         null,
         [
          "1762041669422"
         ],
         "0203-134734-cjzwo1dt",
         5,
         "WriteSerializable",
         false,
         {
          "executionTimeMs": "3968",
          "numAddedBytes": "2190",
          "numAddedChangeFiles": "0",
          "numAddedFiles": "2",
          "numCopiedRows": "2",
          "numDeletionVectorsAdded": "0",
          "numDeletionVectorsRemoved": "0",
          "numRemovedBytes": "2190",
          "numRemovedFiles": "2",
          "numUpdatedRows": "2",
          "rewriteTimeMs": "2008",
          "scanTimeMs": "1818"
         },
         null,
         "Databricks-Runtime/12.2.x-scala2.12"
        ],
        [
         5,
         "2025-02-03T14:19:05.000+0000",
         "1270209217208486",
         "krtproperty72@gmail.com",
         "WRITE",
         {
          "mode": "Append",
          "partitionBy": "[]"
         },
         null,
         [
          "1762041669422"
         ],
         "0203-134734-cjzwo1dt",
         4,
         "WriteSerializable",
         true,
         {
          "numFiles": "1",
          "numOutputBytes": "1095",
          "numOutputRows": "2"
         },
         null,
         "Databricks-Runtime/12.2.x-scala2.12"
        ],
        [
         4,
         "2025-02-03T12:24:41.000+0000",
         "1270209217208486",
         "krtproperty72@gmail.com",
         "UPDATE",
         {
          "predicate": "[\"Contains(name#2442, Ravi)\"]"
         },
         null,
         [
          "1762041669422"
         ],
         "0203-121714-a997tnmz",
         3,
         "WriteSerializable",
         false,
         {
          "executionTimeMs": "3200",
          "numAddedBytes": "1095",
          "numAddedChangeFiles": "0",
          "numAddedFiles": "1",
          "numCopiedRows": "1",
          "numDeletionVectorsAdded": "0",
          "numDeletionVectorsRemoved": "0",
          "numRemovedBytes": "1095",
          "numRemovedFiles": "1",
          "numUpdatedRows": "1",
          "rewriteTimeMs": "1673",
          "scanTimeMs": "1527"
         },
         null,
         "Databricks-Runtime/12.2.x-scala2.12"
        ],
        [
         3,
         "2025-02-03T12:24:05.000+0000",
         "1270209217208486",
         "krtproperty72@gmail.com",
         "UPDATE",
         {
          "predicate": "[\"EndsWith(name#1777, Ravi)\"]"
         },
         null,
         [
          "1762041669422"
         ],
         "0203-121714-a997tnmz",
         2,
         "WriteSerializable",
         false,
         {
          "executionTimeMs": "1828",
          "numAddedBytes": "0",
          "numAddedChangeFiles": "0",
          "numAddedFiles": "0",
          "numCopiedRows": "0",
          "numDeletionVectorsAdded": "0",
          "numDeletionVectorsRemoved": "0",
          "numRemovedBytes": "0",
          "numRemovedFiles": "0",
          "numUpdatedRows": "0",
          "rewriteTimeMs": "0",
          "scanTimeMs": "1828"
         },
         null,
         "Databricks-Runtime/12.2.x-scala2.12"
        ],
        [
         2,
         "2025-02-03T12:23:38.000+0000",
         "1270209217208486",
         "krtproperty72@gmail.com",
         "UPDATE",
         {
          "predicate": "[\"(name#1391 = Ravi)\"]"
         },
         null,
         [
          "1762041669422"
         ],
         "0203-121714-a997tnmz",
         1,
         "WriteSerializable",
         false,
         {
          "executionTimeMs": "808",
          "numAddedBytes": "0",
          "numAddedChangeFiles": "0",
          "numAddedFiles": "0",
          "numCopiedRows": "0",
          "numDeletionVectorsAdded": "0",
          "numDeletionVectorsRemoved": "0",
          "numRemovedBytes": "0",
          "numRemovedFiles": "0",
          "numUpdatedRows": "0",
          "rewriteTimeMs": "0",
          "scanTimeMs": "777"
         },
         null,
         "Databricks-Runtime/12.2.x-scala2.12"
        ],
        [
         1,
         "2025-02-03T12:20:24.000+0000",
         "1270209217208486",
         "krtproperty72@gmail.com",
         "WRITE",
         {
          "mode": "Append",
          "partitionBy": "[]"
         },
         null,
         [
          "1762041669422"
         ],
         "0203-121714-a997tnmz",
         0,
         "WriteSerializable",
         true,
         {
          "numFiles": "1",
          "numOutputBytes": "1095",
          "numOutputRows": "2"
         },
         null,
         "Databricks-Runtime/12.2.x-scala2.12"
        ],
        [
         0,
         "2025-02-03T12:19:47.000+0000",
         "1270209217208486",
         "krtproperty72@gmail.com",
         "CREATE TABLE",
         {
          "description": null,
          "isManaged": "true",
          "partitionBy": "[]",
          "properties": "{}"
         },
         null,
         [
          "1762041669422"
         ],
         "0203-121714-a997tnmz",
         null,
         "WriteSerializable",
         true,
         {},
         null,
         "Databricks-Runtime/12.2.x-scala2.12"
        ]
       ],
       "datasetInfos": [],
       "dbfsResultPath": null,
       "isJsonSchema": true,
       "metadata": {},
       "overflow": false,
       "plotOptions": {
        "customPlotOptions": {},
        "displayType": "table",
        "pivotAggregation": null,
        "pivotColumns": null,
        "xColumns": null,
        "yColumns": null
       },
       "removedWidgets": [],
       "schema": [
        {
         "metadata": "{}",
         "name": "version",
         "type": "\"long\""
        },
        {
         "metadata": "{}",
         "name": "timestamp",
         "type": "\"timestamp\""
        },
        {
         "metadata": "{}",
         "name": "userId",
         "type": "\"string\""
        },
        {
         "metadata": "{}",
         "name": "userName",
         "type": "\"string\""
        },
        {
         "metadata": "{}",
         "name": "operation",
         "type": "\"string\""
        },
        {
         "metadata": "{}",
         "name": "operationParameters",
         "type": "{\"type\":\"map\",\"keyType\":\"string\",\"valueType\":\"string\",\"valueContainsNull\":true}"
        },
        {
         "metadata": "{}",
         "name": "job",
         "type": "{\"type\":\"struct\",\"fields\":[{\"name\":\"jobId\",\"type\":\"string\",\"nullable\":true,\"metadata\":{}},{\"name\":\"jobName\",\"type\":\"string\",\"nullable\":true,\"metadata\":{}},{\"name\":\"jobRunId\",\"type\":\"string\",\"nullable\":true,\"metadata\":{}},{\"name\":\"runId\",\"type\":\"string\",\"nullable\":true,\"metadata\":{}},{\"name\":\"jobOwnerId\",\"type\":\"string\",\"nullable\":true,\"metadata\":{}},{\"name\":\"triggerType\",\"type\":\"string\",\"nullable\":true,\"metadata\":{}}]}"
        },
        {
         "metadata": "{}",
         "name": "notebook",
         "type": "{\"type\":\"struct\",\"fields\":[{\"name\":\"notebookId\",\"type\":\"string\",\"nullable\":true,\"metadata\":{}}]}"
        },
        {
         "metadata": "{}",
         "name": "clusterId",
         "type": "\"string\""
        },
        {
         "metadata": "{}",
         "name": "readVersion",
         "type": "\"long\""
        },
        {
         "metadata": "{}",
         "name": "isolationLevel",
         "type": "\"string\""
        },
        {
         "metadata": "{}",
         "name": "isBlindAppend",
         "type": "\"boolean\""
        },
        {
         "metadata": "{}",
         "name": "operationMetrics",
         "type": "{\"type\":\"map\",\"keyType\":\"string\",\"valueType\":\"string\",\"valueContainsNull\":true}"
        },
        {
         "metadata": "{}",
         "name": "userMetadata",
         "type": "\"string\""
        },
        {
         "metadata": "{}",
         "name": "engineInfo",
         "type": "\"string\""
        }
       ],
       "type": "table"
      }
     },
     "output_type": "display_data"
    }
   ],
   "source": [
    "%sql\n",
    "describe history employee;"
   ]
  },
  {
   "cell_type": "code",
   "execution_count": 0,
   "metadata": {
    "application/vnd.databricks.v1+cell": {
     "cellMetadata": {
      "byteLimit": 2048000,
      "rowLimit": 10000
     },
     "inputWidgets": {},
     "nuid": "ac2e298d-0f3e-49fc-a5fe-8a7b6ca5745e",
     "showTitle": false,
     "tableResultSettingsMap": {},
     "title": ""
    }
   },
   "outputs": [
    {
     "output_type": "display_data",
     "data": {
      "text/html": [
       "<style scoped>\n",
       "  .table-result-container {\n",
       "    max-height: 300px;\n",
       "    overflow: auto;\n",
       "  }\n",
       "  table, th, td {\n",
       "    border: 1px solid black;\n",
       "    border-collapse: collapse;\n",
       "  }\n",
       "  th, td {\n",
       "    padding: 5px;\n",
       "  }\n",
       "  th {\n",
       "    text-align: left;\n",
       "  }\n",
       "</style><div class='table-result-container'><table class='table-result'><thead style='background-color: white'><tr><th>path</th><th>name</th><th>size</th><th>modificationTime</th></tr></thead><tbody><tr><td>dbfs:/user/hive/warehouse/employee/_delta_log/</td><td>_delta_log/</td><td>0</td><td>0</td></tr><tr><td>dbfs:/user/hive/warehouse/employee/part-00000-00738347-fba8-41a5-b749-f4015d8587dd-c000.snappy.parquet</td><td>part-00000-00738347-fba8-41a5-b749-f4015d8587dd-c000.snappy.parquet</td><td>1095</td><td>1738602878000</td></tr><tr><td>dbfs:/user/hive/warehouse/employee/part-00000-223e2ff2-ab06-4701-87e5-ec60303626e3-c000.snappy.parquet</td><td>part-00000-223e2ff2-ab06-4701-87e5-ec60303626e3-c000.snappy.parquet</td><td>1095</td><td>1738592363000</td></tr><tr><td>dbfs:/user/hive/warehouse/employee/part-00000-46405bd9-f19f-4fda-8fd0-d12f8050f45e-c000.snappy.parquet</td><td>part-00000-46405bd9-f19f-4fda-8fd0-d12f8050f45e-c000.snappy.parquet</td><td>1211</td><td>1738602999000</td></tr><tr><td>dbfs:/user/hive/warehouse/employee/part-00000-812c4cdb-6ec5-4f9a-be69-394148700cfa-c000.snappy.parquet</td><td>part-00000-812c4cdb-6ec5-4f9a-be69-394148700cfa-c000.snappy.parquet</td><td>1203</td><td>1738602933000</td></tr><tr><td>dbfs:/user/hive/warehouse/employee/part-00000-8643398e-2a34-41e0-997e-5b03cc9c6702-c000.snappy.parquet</td><td>part-00000-8643398e-2a34-41e0-997e-5b03cc9c6702-c000.snappy.parquet</td><td>1095</td><td>1738585480000</td></tr><tr><td>dbfs:/user/hive/warehouse/employee/part-00000-a0857c55-3a22-47ba-aaa8-e24db524c2e3-c000.snappy.parquet</td><td>part-00000-a0857c55-3a22-47ba-aaa8-e24db524c2e3-c000.snappy.parquet</td><td>1095</td><td>1738592345000</td></tr><tr><td>dbfs:/user/hive/warehouse/employee/part-00000-a85d5936-560f-490c-a52b-4cfd1e1a3243-c000.snappy.parquet</td><td>part-00000-a85d5936-560f-490c-a52b-4cfd1e1a3243-c000.snappy.parquet</td><td>1203</td><td>1738602899000</td></tr><tr><td>dbfs:/user/hive/warehouse/employee/part-00000-baaad09d-ed97-44d8-b1d3-657cc0293e5e-c000.snappy.parquet</td><td>part-00000-baaad09d-ed97-44d8-b1d3-657cc0293e5e-c000.snappy.parquet</td><td>1203</td><td>1738592382000</td></tr><tr><td>dbfs:/user/hive/warehouse/employee/part-00000-d45f72b3-b98e-467c-92a8-4a101d657348-c000.snappy.parquet</td><td>part-00000-d45f72b3-b98e-467c-92a8-4a101d657348-c000.snappy.parquet</td><td>1095</td><td>1738585223000</td></tr><tr><td>dbfs:/user/hive/warehouse/employee/part-00000-f369b3e6-2e49-4ed9-8d30-24baddd90868-c000.snappy.parquet</td><td>part-00000-f369b3e6-2e49-4ed9-8d30-24baddd90868-c000.snappy.parquet</td><td>1211</td><td>1738592737000</td></tr><tr><td>dbfs:/user/hive/warehouse/employee/part-00001-205c2193-5af1-4a58-aa9b-1ff8f0547d3f-c000.snappy.parquet</td><td>part-00001-205c2193-5af1-4a58-aa9b-1ff8f0547d3f-c000.snappy.parquet</td><td>1095</td><td>1738602899000</td></tr><tr><td>dbfs:/user/hive/warehouse/employee/part-00001-93e8c82f-810a-46ff-b0f1-97384b6a4412-c000.snappy.parquet</td><td>part-00001-93e8c82f-810a-46ff-b0f1-97384b6a4412-c000.snappy.parquet</td><td>1095</td><td>1738592363000</td></tr></tbody></table></div>"
      ]
     },
     "metadata": {
      "application/vnd.databricks.v1+output": {
       "addedWidgets": {},
       "aggData": [],
       "aggError": "",
       "aggOverflow": false,
       "aggSchema": [],
       "aggSeriesLimitReached": false,
       "aggType": "",
       "arguments": {},
       "columnCustomDisplayInfos": {},
       "data": [
        [
         "dbfs:/user/hive/warehouse/employee/_delta_log/",
         "_delta_log/",
         0,
         0
        ],
        [
         "dbfs:/user/hive/warehouse/employee/part-00000-00738347-fba8-41a5-b749-f4015d8587dd-c000.snappy.parquet",
         "part-00000-00738347-fba8-41a5-b749-f4015d8587dd-c000.snappy.parquet",
         1095,
         1738602878000
        ],
        [
         "dbfs:/user/hive/warehouse/employee/part-00000-223e2ff2-ab06-4701-87e5-ec60303626e3-c000.snappy.parquet",
         "part-00000-223e2ff2-ab06-4701-87e5-ec60303626e3-c000.snappy.parquet",
         1095,
         1738592363000
        ],
        [
         "dbfs:/user/hive/warehouse/employee/part-00000-46405bd9-f19f-4fda-8fd0-d12f8050f45e-c000.snappy.parquet",
         "part-00000-46405bd9-f19f-4fda-8fd0-d12f8050f45e-c000.snappy.parquet",
         1211,
         1738602999000
        ],
        [
         "dbfs:/user/hive/warehouse/employee/part-00000-812c4cdb-6ec5-4f9a-be69-394148700cfa-c000.snappy.parquet",
         "part-00000-812c4cdb-6ec5-4f9a-be69-394148700cfa-c000.snappy.parquet",
         1203,
         1738602933000
        ],
        [
         "dbfs:/user/hive/warehouse/employee/part-00000-8643398e-2a34-41e0-997e-5b03cc9c6702-c000.snappy.parquet",
         "part-00000-8643398e-2a34-41e0-997e-5b03cc9c6702-c000.snappy.parquet",
         1095,
         1738585480000
        ],
        [
         "dbfs:/user/hive/warehouse/employee/part-00000-a0857c55-3a22-47ba-aaa8-e24db524c2e3-c000.snappy.parquet",
         "part-00000-a0857c55-3a22-47ba-aaa8-e24db524c2e3-c000.snappy.parquet",
         1095,
         1738592345000
        ],
        [
         "dbfs:/user/hive/warehouse/employee/part-00000-a85d5936-560f-490c-a52b-4cfd1e1a3243-c000.snappy.parquet",
         "part-00000-a85d5936-560f-490c-a52b-4cfd1e1a3243-c000.snappy.parquet",
         1203,
         1738602899000
        ],
        [
         "dbfs:/user/hive/warehouse/employee/part-00000-baaad09d-ed97-44d8-b1d3-657cc0293e5e-c000.snappy.parquet",
         "part-00000-baaad09d-ed97-44d8-b1d3-657cc0293e5e-c000.snappy.parquet",
         1203,
         1738592382000
        ],
        [
         "dbfs:/user/hive/warehouse/employee/part-00000-d45f72b3-b98e-467c-92a8-4a101d657348-c000.snappy.parquet",
         "part-00000-d45f72b3-b98e-467c-92a8-4a101d657348-c000.snappy.parquet",
         1095,
         1738585223000
        ],
        [
         "dbfs:/user/hive/warehouse/employee/part-00000-f369b3e6-2e49-4ed9-8d30-24baddd90868-c000.snappy.parquet",
         "part-00000-f369b3e6-2e49-4ed9-8d30-24baddd90868-c000.snappy.parquet",
         1211,
         1738592737000
        ],
        [
         "dbfs:/user/hive/warehouse/employee/part-00001-205c2193-5af1-4a58-aa9b-1ff8f0547d3f-c000.snappy.parquet",
         "part-00001-205c2193-5af1-4a58-aa9b-1ff8f0547d3f-c000.snappy.parquet",
         1095,
         1738602899000
        ],
        [
         "dbfs:/user/hive/warehouse/employee/part-00001-93e8c82f-810a-46ff-b0f1-97384b6a4412-c000.snappy.parquet",
         "part-00001-93e8c82f-810a-46ff-b0f1-97384b6a4412-c000.snappy.parquet",
         1095,
         1738592363000
        ]
       ],
       "datasetInfos": [],
       "dbfsResultPath": null,
       "isJsonSchema": true,
       "metadata": {
        "isDbfsCommandResult": false
       },
       "overflow": false,
       "plotOptions": {
        "customPlotOptions": {},
        "displayType": "table",
        "pivotAggregation": null,
        "pivotColumns": null,
        "xColumns": null,
        "yColumns": null
       },
       "removedWidgets": [],
       "schema": [
        {
         "metadata": "{}",
         "name": "path",
         "type": "\"string\""
        },
        {
         "metadata": "{}",
         "name": "name",
         "type": "\"string\""
        },
        {
         "metadata": "{}",
         "name": "size",
         "type": "\"long\""
        },
        {
         "metadata": "{}",
         "name": "modificationTime",
         "type": "\"long\""
        }
       ],
       "type": "table"
      }
     },
     "output_type": "display_data"
    }
   ],
   "source": [
    "%fs ls dbfs:/user/hive/warehouse/employee/"
   ]
  },
  {
   "cell_type": "code",
   "execution_count": 0,
   "metadata": {
    "application/vnd.databricks.v1+cell": {
     "cellMetadata": {
      "byteLimit": 2048000,
      "implicitDf": true,
      "rowLimit": 10000
     },
     "inputWidgets": {},
     "nuid": "6b460c96-e10a-4441-88ff-005cfe3aa696",
     "showTitle": false,
     "tableResultSettingsMap": {},
     "title": ""
    }
   },
   "outputs": [
    {
     "output_type": "display_data",
     "data": {
      "text/html": [
       "<style scoped>\n",
       "  .table-result-container {\n",
       "    max-height: 300px;\n",
       "    overflow: auto;\n",
       "  }\n",
       "  table, th, td {\n",
       "    border: 1px solid black;\n",
       "    border-collapse: collapse;\n",
       "  }\n",
       "  th, td {\n",
       "    padding: 5px;\n",
       "  }\n",
       "  th {\n",
       "    text-align: left;\n",
       "  }\n",
       "</style><div class='table-result-container'><table class='table-result'><thead style='background-color: white'><tr><th>path</th></tr></thead><tbody><tr><td>dbfs:/user/hive/warehouse/employee</td></tr></tbody></table></div>"
      ]
     },
     "metadata": {
      "application/vnd.databricks.v1+output": {
       "addedWidgets": {},
       "aggData": [],
       "aggError": "",
       "aggOverflow": false,
       "aggSchema": [],
       "aggSeriesLimitReached": false,
       "aggType": "",
       "arguments": {},
       "columnCustomDisplayInfos": {},
       "data": [
        [
         "dbfs:/user/hive/warehouse/employee"
        ]
       ],
       "datasetInfos": [],
       "dbfsResultPath": null,
       "isJsonSchema": true,
       "metadata": {},
       "overflow": false,
       "plotOptions": {
        "customPlotOptions": {},
        "displayType": "table",
        "pivotAggregation": null,
        "pivotColumns": null,
        "xColumns": null,
        "yColumns": null
       },
       "removedWidgets": [],
       "schema": [
        {
         "metadata": "{}",
         "name": "path",
         "type": "\"string\""
        }
       ],
       "type": "table"
      }
     },
     "output_type": "display_data"
    }
   ],
   "source": [
    "%sql\n",
    "vacuum employee"
   ]
  },
  {
   "cell_type": "code",
   "execution_count": 0,
   "metadata": {
    "application/vnd.databricks.v1+cell": {
     "cellMetadata": {
      "byteLimit": 2048000,
      "rowLimit": 10000
     },
     "inputWidgets": {},
     "nuid": "e8c590ce-b632-45db-ac0e-23caeaf12352",
     "showTitle": false,
     "tableResultSettingsMap": {},
     "title": ""
    }
   },
   "outputs": [
    {
     "output_type": "display_data",
     "data": {
      "text/html": [
       "<style scoped>\n",
       "  .table-result-container {\n",
       "    max-height: 300px;\n",
       "    overflow: auto;\n",
       "  }\n",
       "  table, th, td {\n",
       "    border: 1px solid black;\n",
       "    border-collapse: collapse;\n",
       "  }\n",
       "  th, td {\n",
       "    padding: 5px;\n",
       "  }\n",
       "  th {\n",
       "    text-align: left;\n",
       "  }\n",
       "</style><div class='table-result-container'><table class='table-result'><thead style='background-color: white'><tr><th>path</th><th>name</th><th>size</th><th>modificationTime</th></tr></thead><tbody><tr><td>dbfs:/user/hive/warehouse/employee/_delta_log/</td><td>_delta_log/</td><td>0</td><td>0</td></tr><tr><td>dbfs:/user/hive/warehouse/employee/part-00000-00738347-fba8-41a5-b749-f4015d8587dd-c000.snappy.parquet</td><td>part-00000-00738347-fba8-41a5-b749-f4015d8587dd-c000.snappy.parquet</td><td>1095</td><td>1738602878000</td></tr><tr><td>dbfs:/user/hive/warehouse/employee/part-00000-223e2ff2-ab06-4701-87e5-ec60303626e3-c000.snappy.parquet</td><td>part-00000-223e2ff2-ab06-4701-87e5-ec60303626e3-c000.snappy.parquet</td><td>1095</td><td>1738592363000</td></tr><tr><td>dbfs:/user/hive/warehouse/employee/part-00000-46405bd9-f19f-4fda-8fd0-d12f8050f45e-c000.snappy.parquet</td><td>part-00000-46405bd9-f19f-4fda-8fd0-d12f8050f45e-c000.snappy.parquet</td><td>1211</td><td>1738602999000</td></tr><tr><td>dbfs:/user/hive/warehouse/employee/part-00000-812c4cdb-6ec5-4f9a-be69-394148700cfa-c000.snappy.parquet</td><td>part-00000-812c4cdb-6ec5-4f9a-be69-394148700cfa-c000.snappy.parquet</td><td>1203</td><td>1738602933000</td></tr><tr><td>dbfs:/user/hive/warehouse/employee/part-00000-8643398e-2a34-41e0-997e-5b03cc9c6702-c000.snappy.parquet</td><td>part-00000-8643398e-2a34-41e0-997e-5b03cc9c6702-c000.snappy.parquet</td><td>1095</td><td>1738585480000</td></tr><tr><td>dbfs:/user/hive/warehouse/employee/part-00000-a0857c55-3a22-47ba-aaa8-e24db524c2e3-c000.snappy.parquet</td><td>part-00000-a0857c55-3a22-47ba-aaa8-e24db524c2e3-c000.snappy.parquet</td><td>1095</td><td>1738592345000</td></tr><tr><td>dbfs:/user/hive/warehouse/employee/part-00000-a85d5936-560f-490c-a52b-4cfd1e1a3243-c000.snappy.parquet</td><td>part-00000-a85d5936-560f-490c-a52b-4cfd1e1a3243-c000.snappy.parquet</td><td>1203</td><td>1738602899000</td></tr><tr><td>dbfs:/user/hive/warehouse/employee/part-00000-baaad09d-ed97-44d8-b1d3-657cc0293e5e-c000.snappy.parquet</td><td>part-00000-baaad09d-ed97-44d8-b1d3-657cc0293e5e-c000.snappy.parquet</td><td>1203</td><td>1738592382000</td></tr><tr><td>dbfs:/user/hive/warehouse/employee/part-00000-d45f72b3-b98e-467c-92a8-4a101d657348-c000.snappy.parquet</td><td>part-00000-d45f72b3-b98e-467c-92a8-4a101d657348-c000.snappy.parquet</td><td>1095</td><td>1738585223000</td></tr><tr><td>dbfs:/user/hive/warehouse/employee/part-00000-f369b3e6-2e49-4ed9-8d30-24baddd90868-c000.snappy.parquet</td><td>part-00000-f369b3e6-2e49-4ed9-8d30-24baddd90868-c000.snappy.parquet</td><td>1211</td><td>1738592737000</td></tr><tr><td>dbfs:/user/hive/warehouse/employee/part-00001-205c2193-5af1-4a58-aa9b-1ff8f0547d3f-c000.snappy.parquet</td><td>part-00001-205c2193-5af1-4a58-aa9b-1ff8f0547d3f-c000.snappy.parquet</td><td>1095</td><td>1738602899000</td></tr><tr><td>dbfs:/user/hive/warehouse/employee/part-00001-93e8c82f-810a-46ff-b0f1-97384b6a4412-c000.snappy.parquet</td><td>part-00001-93e8c82f-810a-46ff-b0f1-97384b6a4412-c000.snappy.parquet</td><td>1095</td><td>1738592363000</td></tr></tbody></table></div>"
      ]
     },
     "metadata": {
      "application/vnd.databricks.v1+output": {
       "addedWidgets": {},
       "aggData": [],
       "aggError": "",
       "aggOverflow": false,
       "aggSchema": [],
       "aggSeriesLimitReached": false,
       "aggType": "",
       "arguments": {},
       "columnCustomDisplayInfos": {},
       "data": [
        [
         "dbfs:/user/hive/warehouse/employee/_delta_log/",
         "_delta_log/",
         0,
         0
        ],
        [
         "dbfs:/user/hive/warehouse/employee/part-00000-00738347-fba8-41a5-b749-f4015d8587dd-c000.snappy.parquet",
         "part-00000-00738347-fba8-41a5-b749-f4015d8587dd-c000.snappy.parquet",
         1095,
         1738602878000
        ],
        [
         "dbfs:/user/hive/warehouse/employee/part-00000-223e2ff2-ab06-4701-87e5-ec60303626e3-c000.snappy.parquet",
         "part-00000-223e2ff2-ab06-4701-87e5-ec60303626e3-c000.snappy.parquet",
         1095,
         1738592363000
        ],
        [
         "dbfs:/user/hive/warehouse/employee/part-00000-46405bd9-f19f-4fda-8fd0-d12f8050f45e-c000.snappy.parquet",
         "part-00000-46405bd9-f19f-4fda-8fd0-d12f8050f45e-c000.snappy.parquet",
         1211,
         1738602999000
        ],
        [
         "dbfs:/user/hive/warehouse/employee/part-00000-812c4cdb-6ec5-4f9a-be69-394148700cfa-c000.snappy.parquet",
         "part-00000-812c4cdb-6ec5-4f9a-be69-394148700cfa-c000.snappy.parquet",
         1203,
         1738602933000
        ],
        [
         "dbfs:/user/hive/warehouse/employee/part-00000-8643398e-2a34-41e0-997e-5b03cc9c6702-c000.snappy.parquet",
         "part-00000-8643398e-2a34-41e0-997e-5b03cc9c6702-c000.snappy.parquet",
         1095,
         1738585480000
        ],
        [
         "dbfs:/user/hive/warehouse/employee/part-00000-a0857c55-3a22-47ba-aaa8-e24db524c2e3-c000.snappy.parquet",
         "part-00000-a0857c55-3a22-47ba-aaa8-e24db524c2e3-c000.snappy.parquet",
         1095,
         1738592345000
        ],
        [
         "dbfs:/user/hive/warehouse/employee/part-00000-a85d5936-560f-490c-a52b-4cfd1e1a3243-c000.snappy.parquet",
         "part-00000-a85d5936-560f-490c-a52b-4cfd1e1a3243-c000.snappy.parquet",
         1203,
         1738602899000
        ],
        [
         "dbfs:/user/hive/warehouse/employee/part-00000-baaad09d-ed97-44d8-b1d3-657cc0293e5e-c000.snappy.parquet",
         "part-00000-baaad09d-ed97-44d8-b1d3-657cc0293e5e-c000.snappy.parquet",
         1203,
         1738592382000
        ],
        [
         "dbfs:/user/hive/warehouse/employee/part-00000-d45f72b3-b98e-467c-92a8-4a101d657348-c000.snappy.parquet",
         "part-00000-d45f72b3-b98e-467c-92a8-4a101d657348-c000.snappy.parquet",
         1095,
         1738585223000
        ],
        [
         "dbfs:/user/hive/warehouse/employee/part-00000-f369b3e6-2e49-4ed9-8d30-24baddd90868-c000.snappy.parquet",
         "part-00000-f369b3e6-2e49-4ed9-8d30-24baddd90868-c000.snappy.parquet",
         1211,
         1738592737000
        ],
        [
         "dbfs:/user/hive/warehouse/employee/part-00001-205c2193-5af1-4a58-aa9b-1ff8f0547d3f-c000.snappy.parquet",
         "part-00001-205c2193-5af1-4a58-aa9b-1ff8f0547d3f-c000.snappy.parquet",
         1095,
         1738602899000
        ],
        [
         "dbfs:/user/hive/warehouse/employee/part-00001-93e8c82f-810a-46ff-b0f1-97384b6a4412-c000.snappy.parquet",
         "part-00001-93e8c82f-810a-46ff-b0f1-97384b6a4412-c000.snappy.parquet",
         1095,
         1738592363000
        ]
       ],
       "datasetInfos": [],
       "dbfsResultPath": null,
       "isJsonSchema": true,
       "metadata": {
        "isDbfsCommandResult": false
       },
       "overflow": false,
       "plotOptions": {
        "customPlotOptions": {},
        "displayType": "table",
        "pivotAggregation": null,
        "pivotColumns": null,
        "xColumns": null,
        "yColumns": null
       },
       "removedWidgets": [],
       "schema": [
        {
         "metadata": "{}",
         "name": "path",
         "type": "\"string\""
        },
        {
         "metadata": "{}",
         "name": "name",
         "type": "\"string\""
        },
        {
         "metadata": "{}",
         "name": "size",
         "type": "\"long\""
        },
        {
         "metadata": "{}",
         "name": "modificationTime",
         "type": "\"long\""
        }
       ],
       "type": "table"
      }
     },
     "output_type": "display_data"
    }
   ],
   "source": [
    "%fs ls dbfs:/user/hive/warehouse/employee/"
   ]
  },
  {
   "cell_type": "code",
   "execution_count": 0,
   "metadata": {
    "application/vnd.databricks.v1+cell": {
     "cellMetadata": {
      "byteLimit": 2048000,
      "implicitDf": true,
      "rowLimit": 10000
     },
     "inputWidgets": {},
     "nuid": "a39f6b2a-d871-47fe-b5c2-b16e21db4a13",
     "showTitle": false,
     "tableResultSettingsMap": {},
     "title": ""
    }
   },
   "outputs": [
    {
     "output_type": "display_data",
     "data": {
      "text/html": [
       "<style scoped>\n",
       "  .table-result-container {\n",
       "    max-height: 300px;\n",
       "    overflow: auto;\n",
       "  }\n",
       "  table, th, td {\n",
       "    border: 1px solid black;\n",
       "    border-collapse: collapse;\n",
       "  }\n",
       "  th, td {\n",
       "    padding: 5px;\n",
       "  }\n",
       "  th {\n",
       "    text-align: left;\n",
       "  }\n",
       "</style><div class='table-result-container'><table class='table-result'><thead style='background-color: white'><tr><th>col_name</th><th>data_type</th><th>comment</th></tr></thead><tbody><tr><td>id</td><td>int</td><td>null</td></tr><tr><td>name</td><td>string</td><td>null</td></tr><tr><td>salary</td><td>double</td><td>null</td></tr><tr><td></td><td></td><td></td></tr><tr><td># Detailed Table Information</td><td></td><td></td></tr><tr><td>Catalog</td><td>spark_catalog</td><td></td></tr><tr><td>Database</td><td>default</td><td></td></tr><tr><td>Table</td><td>employee</td><td></td></tr><tr><td>Created Time</td><td>Mon Feb 03 17:14:33 UTC 2025</td><td></td></tr><tr><td>Last Access</td><td>UNKNOWN</td><td></td></tr><tr><td>Created By</td><td>Spark 3.3.2</td><td></td></tr><tr><td>Type</td><td>EXTERNAL</td><td></td></tr><tr><td>Location</td><td>dbfs:/user/hive/warehouse/employee</td><td></td></tr><tr><td>Provider</td><td>delta</td><td></td></tr><tr><td>Owner</td><td>root</td><td></td></tr><tr><td>Table Properties</td><td>[delta.minReaderVersion=1,delta.minWriterVersion=2]</td><td></td></tr></tbody></table></div>"
      ]
     },
     "metadata": {
      "application/vnd.databricks.v1+output": {
       "addedWidgets": {},
       "aggData": [],
       "aggError": "",
       "aggOverflow": false,
       "aggSchema": [],
       "aggSeriesLimitReached": false,
       "aggType": "",
       "arguments": {},
       "columnCustomDisplayInfos": {},
       "data": [
        [
         "id",
         "int",
         null
        ],
        [
         "name",
         "string",
         null
        ],
        [
         "salary",
         "double",
         null
        ],
        [
         "",
         "",
         ""
        ],
        [
         "# Detailed Table Information",
         "",
         ""
        ],
        [
         "Catalog",
         "spark_catalog",
         ""
        ],
        [
         "Database",
         "default",
         ""
        ],
        [
         "Table",
         "employee",
         ""
        ],
        [
         "Created Time",
         "Mon Feb 03 17:14:33 UTC 2025",
         ""
        ],
        [
         "Last Access",
         "UNKNOWN",
         ""
        ],
        [
         "Created By",
         "Spark 3.3.2",
         ""
        ],
        [
         "Type",
         "EXTERNAL",
         ""
        ],
        [
         "Location",
         "dbfs:/user/hive/warehouse/employee",
         ""
        ],
        [
         "Provider",
         "delta",
         ""
        ],
        [
         "Owner",
         "root",
         ""
        ],
        [
         "Table Properties",
         "[delta.minReaderVersion=1,delta.minWriterVersion=2]",
         ""
        ]
       ],
       "datasetInfos": [],
       "dbfsResultPath": null,
       "isJsonSchema": true,
       "metadata": {},
       "overflow": false,
       "plotOptions": {
        "customPlotOptions": {},
        "displayType": "table",
        "pivotAggregation": null,
        "pivotColumns": null,
        "xColumns": null,
        "yColumns": null
       },
       "removedWidgets": [],
       "schema": [
        {
         "metadata": "{\"comment\":\"name of the column\"}",
         "name": "col_name",
         "type": "\"string\""
        },
        {
         "metadata": "{\"comment\":\"data type of the column\"}",
         "name": "data_type",
         "type": "\"string\""
        },
        {
         "metadata": "{\"comment\":\"comment of the column\"}",
         "name": "comment",
         "type": "\"string\""
        }
       ],
       "type": "table"
      }
     },
     "output_type": "display_data"
    }
   ],
   "source": [
    "%sql\n",
    "describe extended employee;"
   ]
  },
  {
   "cell_type": "code",
   "execution_count": 0,
   "metadata": {
    "application/vnd.databricks.v1+cell": {
     "cellMetadata": {
      "byteLimit": 2048000,
      "implicitDf": true,
      "rowLimit": 10000
     },
     "inputWidgets": {},
     "nuid": "b8fc0896-63b0-4a39-9b1c-9ef51ece1e3c",
     "showTitle": false,
     "tableResultSettingsMap": {},
     "title": ""
    }
   },
   "outputs": [
    {
     "output_type": "display_data",
     "data": {
      "text/html": [
       "<style scoped>\n",
       "  .table-result-container {\n",
       "    max-height: 300px;\n",
       "    overflow: auto;\n",
       "  }\n",
       "  table, th, td {\n",
       "    border: 1px solid black;\n",
       "    border-collapse: collapse;\n",
       "  }\n",
       "  th, td {\n",
       "    padding: 5px;\n",
       "  }\n",
       "  th {\n",
       "    text-align: left;\n",
       "  }\n",
       "</style><div class='table-result-container'><table class='table-result'><thead style='background-color: white'><tr></tr></thead><tbody></tbody></table></div>"
      ]
     },
     "metadata": {
      "application/vnd.databricks.v1+output": {
       "addedWidgets": {},
       "aggData": [],
       "aggError": "",
       "aggOverflow": false,
       "aggSchema": [],
       "aggSeriesLimitReached": false,
       "aggType": "",
       "arguments": {},
       "columnCustomDisplayInfos": {},
       "data": [],
       "datasetInfos": [],
       "dbfsResultPath": null,
       "isJsonSchema": true,
       "metadata": {},
       "overflow": false,
       "plotOptions": {
        "customPlotOptions": {},
        "displayType": "table",
        "pivotAggregation": null,
        "pivotColumns": null,
        "xColumns": null,
        "yColumns": null
       },
       "removedWidgets": [],
       "schema": [],
       "type": "table"
      }
     },
     "output_type": "display_data"
    }
   ],
   "source": [
    "%sql\n",
    "create table student(\n",
    "  id int, name string, cgpa double\n",
    ")\n",
    "location 'dbfs:/mnt/';\n",
    "\n"
   ]
  },
  {
   "cell_type": "code",
   "execution_count": 0,
   "metadata": {
    "application/vnd.databricks.v1+cell": {
     "cellMetadata": {
      "byteLimit": 2048000,
      "implicitDf": true,
      "rowLimit": 10000
     },
     "inputWidgets": {},
     "nuid": "ad0c47f2-fdc0-4767-8fd4-27d530ae8476",
     "showTitle": false,
     "tableResultSettingsMap": {},
     "title": ""
    }
   },
   "outputs": [
    {
     "output_type": "display_data",
     "data": {
      "text/html": [
       "<style scoped>\n",
       "  .table-result-container {\n",
       "    max-height: 300px;\n",
       "    overflow: auto;\n",
       "  }\n",
       "  table, th, td {\n",
       "    border: 1px solid black;\n",
       "    border-collapse: collapse;\n",
       "  }\n",
       "  th, td {\n",
       "    padding: 5px;\n",
       "  }\n",
       "  th {\n",
       "    text-align: left;\n",
       "  }\n",
       "</style><div class='table-result-container'><table class='table-result'><thead style='background-color: white'><tr><th>num_affected_rows</th><th>num_inserted_rows</th></tr></thead><tbody><tr><td>2</td><td>2</td></tr></tbody></table></div>"
      ]
     },
     "metadata": {
      "application/vnd.databricks.v1+output": {
       "addedWidgets": {},
       "aggData": [],
       "aggError": "",
       "aggOverflow": false,
       "aggSchema": [],
       "aggSeriesLimitReached": false,
       "aggType": "",
       "arguments": {},
       "columnCustomDisplayInfos": {},
       "data": [
        [
         2,
         2
        ]
       ],
       "datasetInfos": [],
       "dbfsResultPath": null,
       "isJsonSchema": true,
       "metadata": {},
       "overflow": false,
       "plotOptions": {
        "customPlotOptions": {},
        "displayType": "table",
        "pivotAggregation": null,
        "pivotColumns": null,
        "xColumns": null,
        "yColumns": null
       },
       "removedWidgets": [],
       "schema": [
        {
         "metadata": "{}",
         "name": "num_affected_rows",
         "type": "\"long\""
        },
        {
         "metadata": "{}",
         "name": "num_inserted_rows",
         "type": "\"long\""
        }
       ],
       "type": "table"
      }
     },
     "output_type": "display_data"
    }
   ],
   "source": [
    "%sql\n",
    "insert into student values(46,'Phani',9.0), (53,'Eswari',9.7);"
   ]
  },
  {
   "cell_type": "code",
   "execution_count": 0,
   "metadata": {
    "application/vnd.databricks.v1+cell": {
     "cellMetadata": {
      "byteLimit": 2048000,
      "implicitDf": true,
      "rowLimit": 10000
     },
     "inputWidgets": {},
     "nuid": "aaebe492-fdc3-4021-b695-82feca4f6c80",
     "showTitle": false,
     "tableResultSettingsMap": {},
     "title": ""
    }
   },
   "outputs": [
    {
     "output_type": "display_data",
     "data": {
      "text/html": [
       "<style scoped>\n",
       "  .table-result-container {\n",
       "    max-height: 300px;\n",
       "    overflow: auto;\n",
       "  }\n",
       "  table, th, td {\n",
       "    border: 1px solid black;\n",
       "    border-collapse: collapse;\n",
       "  }\n",
       "  th, td {\n",
       "    padding: 5px;\n",
       "  }\n",
       "  th {\n",
       "    text-align: left;\n",
       "  }\n",
       "</style><div class='table-result-container'><table class='table-result'><thead style='background-color: white'><tr><th>col_name</th><th>data_type</th><th>comment</th></tr></thead><tbody><tr><td>id</td><td>int</td><td>null</td></tr><tr><td>name</td><td>string</td><td>null</td></tr><tr><td>cgpa</td><td>double</td><td>null</td></tr><tr><td></td><td></td><td></td></tr><tr><td># Detailed Table Information</td><td></td><td></td></tr><tr><td>Catalog</td><td>spark_catalog</td><td></td></tr><tr><td>Database</td><td>default</td><td></td></tr><tr><td>Table</td><td>student</td><td></td></tr><tr><td>Created Time</td><td>Mon Feb 03 17:23:31 UTC 2025</td><td></td></tr><tr><td>Last Access</td><td>UNKNOWN</td><td></td></tr><tr><td>Created By</td><td>Spark 3.3.2</td><td></td></tr><tr><td>Type</td><td>EXTERNAL</td><td></td></tr><tr><td>Location</td><td>dbfs:/mnt</td><td></td></tr><tr><td>Provider</td><td>delta</td><td></td></tr><tr><td>Owner</td><td>root</td><td></td></tr><tr><td>Table Properties</td><td>[delta.minReaderVersion=1,delta.minWriterVersion=2]</td><td></td></tr></tbody></table></div>"
      ]
     },
     "metadata": {
      "application/vnd.databricks.v1+output": {
       "addedWidgets": {},
       "aggData": [],
       "aggError": "",
       "aggOverflow": false,
       "aggSchema": [],
       "aggSeriesLimitReached": false,
       "aggType": "",
       "arguments": {},
       "columnCustomDisplayInfos": {},
       "data": [
        [
         "id",
         "int",
         null
        ],
        [
         "name",
         "string",
         null
        ],
        [
         "cgpa",
         "double",
         null
        ],
        [
         "",
         "",
         ""
        ],
        [
         "# Detailed Table Information",
         "",
         ""
        ],
        [
         "Catalog",
         "spark_catalog",
         ""
        ],
        [
         "Database",
         "default",
         ""
        ],
        [
         "Table",
         "student",
         ""
        ],
        [
         "Created Time",
         "Mon Feb 03 17:23:31 UTC 2025",
         ""
        ],
        [
         "Last Access",
         "UNKNOWN",
         ""
        ],
        [
         "Created By",
         "Spark 3.3.2",
         ""
        ],
        [
         "Type",
         "EXTERNAL",
         ""
        ],
        [
         "Location",
         "dbfs:/mnt",
         ""
        ],
        [
         "Provider",
         "delta",
         ""
        ],
        [
         "Owner",
         "root",
         ""
        ],
        [
         "Table Properties",
         "[delta.minReaderVersion=1,delta.minWriterVersion=2]",
         ""
        ]
       ],
       "datasetInfos": [],
       "dbfsResultPath": null,
       "isJsonSchema": true,
       "metadata": {},
       "overflow": false,
       "plotOptions": {
        "customPlotOptions": {},
        "displayType": "table",
        "pivotAggregation": null,
        "pivotColumns": null,
        "xColumns": null,
        "yColumns": null
       },
       "removedWidgets": [],
       "schema": [
        {
         "metadata": "{\"comment\":\"name of the column\"}",
         "name": "col_name",
         "type": "\"string\""
        },
        {
         "metadata": "{\"comment\":\"data type of the column\"}",
         "name": "data_type",
         "type": "\"string\""
        },
        {
         "metadata": "{\"comment\":\"comment of the column\"}",
         "name": "comment",
         "type": "\"string\""
        }
       ],
       "type": "table"
      }
     },
     "output_type": "display_data"
    }
   ],
   "source": [
    "%sql\n",
    "describe extended student"
   ]
  },
  {
   "cell_type": "code",
   "execution_count": 0,
   "metadata": {
    "application/vnd.databricks.v1+cell": {
     "cellMetadata": {
      "byteLimit": 2048000,
      "implicitDf": true,
      "rowLimit": 10000
     },
     "inputWidgets": {},
     "nuid": "67e5ca6b-cb3b-4ca4-b8df-d6dbdb3929a4",
     "showTitle": false,
     "tableResultSettingsMap": {},
     "title": ""
    }
   },
   "outputs": [
    {
     "output_type": "display_data",
     "data": {
      "text/html": [
       "<style scoped>\n",
       "  .table-result-container {\n",
       "    max-height: 300px;\n",
       "    overflow: auto;\n",
       "  }\n",
       "  table, th, td {\n",
       "    border: 1px solid black;\n",
       "    border-collapse: collapse;\n",
       "  }\n",
       "  th, td {\n",
       "    padding: 5px;\n",
       "  }\n",
       "  th {\n",
       "    text-align: left;\n",
       "  }\n",
       "</style><div class='table-result-container'><table class='table-result'><thead style='background-color: white'><tr></tr></thead><tbody></tbody></table></div>"
      ]
     },
     "metadata": {
      "application/vnd.databricks.v1+output": {
       "addedWidgets": {},
       "aggData": [],
       "aggError": "",
       "aggOverflow": false,
       "aggSchema": [],
       "aggSeriesLimitReached": false,
       "aggType": "",
       "arguments": {},
       "columnCustomDisplayInfos": {},
       "data": [],
       "datasetInfos": [],
       "dbfsResultPath": null,
       "isJsonSchema": true,
       "metadata": {},
       "overflow": false,
       "plotOptions": {
        "customPlotOptions": {},
        "displayType": "table",
        "pivotAggregation": null,
        "pivotColumns": null,
        "xColumns": null,
        "yColumns": null
       },
       "removedWidgets": [],
       "schema": [],
       "type": "table"
      }
     },
     "output_type": "display_data"
    }
   ],
   "source": [
    "%sql\n",
    "drop table employee;"
   ]
  },
  {
   "cell_type": "code",
   "execution_count": 0,
   "metadata": {
    "application/vnd.databricks.v1+cell": {
     "cellMetadata": {
      "byteLimit": 2048000,
      "implicitDf": true,
      "rowLimit": 10000
     },
     "inputWidgets": {},
     "nuid": "934e3394-e398-426c-9948-72c471072813",
     "showTitle": false,
     "tableResultSettingsMap": {},
     "title": ""
    }
   },
   "outputs": [
    {
     "output_type": "display_data",
     "data": {
      "text/html": [
       "<style scoped>\n",
       "  .table-result-container {\n",
       "    max-height: 300px;\n",
       "    overflow: auto;\n",
       "  }\n",
       "  table, th, td {\n",
       "    border: 1px solid black;\n",
       "    border-collapse: collapse;\n",
       "  }\n",
       "  th, td {\n",
       "    padding: 5px;\n",
       "  }\n",
       "  th {\n",
       "    text-align: left;\n",
       "  }\n",
       "</style><div class='table-result-container'><table class='table-result'><thead style='background-color: white'><tr></tr></thead><tbody></tbody></table></div>"
      ]
     },
     "metadata": {
      "application/vnd.databricks.v1+output": {
       "addedWidgets": {},
       "aggData": [],
       "aggError": "",
       "aggOverflow": false,
       "aggSchema": [],
       "aggSeriesLimitReached": false,
       "aggType": "",
       "arguments": {},
       "columnCustomDisplayInfos": {},
       "data": [],
       "datasetInfos": [],
       "dbfsResultPath": null,
       "isJsonSchema": true,
       "metadata": {},
       "overflow": false,
       "plotOptions": {
        "customPlotOptions": {},
        "displayType": "table",
        "pivotAggregation": null,
        "pivotColumns": null,
        "xColumns": null,
        "yColumns": null
       },
       "removedWidgets": [],
       "schema": [],
       "type": "table"
      }
     },
     "output_type": "display_data"
    }
   ],
   "source": [
    "%sql\n",
    "drop table student;"
   ]
  },
  {
   "cell_type": "code",
   "execution_count": 0,
   "metadata": {
    "application/vnd.databricks.v1+cell": {
     "cellMetadata": {
      "byteLimit": 2048000,
      "rowLimit": 10000
     },
     "inputWidgets": {},
     "nuid": "e3579ecf-87eb-43b0-aeed-add29861ea4d",
     "showTitle": false,
     "tableResultSettingsMap": {},
     "title": ""
    }
   },
   "outputs": [
    {
     "output_type": "display_data",
     "data": {
      "text/html": [
       "<style scoped>\n",
       "  .table-result-container {\n",
       "    max-height: 300px;\n",
       "    overflow: auto;\n",
       "  }\n",
       "  table, th, td {\n",
       "    border: 1px solid black;\n",
       "    border-collapse: collapse;\n",
       "  }\n",
       "  th, td {\n",
       "    padding: 5px;\n",
       "  }\n",
       "  th {\n",
       "    text-align: left;\n",
       "  }\n",
       "</style><div class='table-result-container'><table class='table-result'><thead style='background-color: white'><tr><th>path</th><th>name</th><th>size</th><th>modificationTime</th></tr></thead><tbody><tr><td>dbfs:/mnt/_delta_log/</td><td>_delta_log/</td><td>0</td><td>0</td></tr><tr><td>dbfs:/mnt/part-00000-0b3a9680-aabc-4657-a710-f20a9d6bf914-c000.snappy.parquet</td><td>part-00000-0b3a9680-aabc-4657-a710-f20a9d6bf914-c000.snappy.parquet</td><td>1077</td><td>1738603421000</td></tr></tbody></table></div>"
      ]
     },
     "metadata": {
      "application/vnd.databricks.v1+output": {
       "addedWidgets": {},
       "aggData": [],
       "aggError": "",
       "aggOverflow": false,
       "aggSchema": [],
       "aggSeriesLimitReached": false,
       "aggType": "",
       "arguments": {},
       "columnCustomDisplayInfos": {},
       "data": [
        [
         "dbfs:/mnt/_delta_log/",
         "_delta_log/",
         0,
         0
        ],
        [
         "dbfs:/mnt/part-00000-0b3a9680-aabc-4657-a710-f20a9d6bf914-c000.snappy.parquet",
         "part-00000-0b3a9680-aabc-4657-a710-f20a9d6bf914-c000.snappy.parquet",
         1077,
         1738603421000
        ]
       ],
       "datasetInfos": [],
       "dbfsResultPath": null,
       "isJsonSchema": true,
       "metadata": {
        "isDbfsCommandResult": false
       },
       "overflow": false,
       "plotOptions": {
        "customPlotOptions": {},
        "displayType": "table",
        "pivotAggregation": null,
        "pivotColumns": null,
        "xColumns": null,
        "yColumns": null
       },
       "removedWidgets": [],
       "schema": [
        {
         "metadata": "{}",
         "name": "path",
         "type": "\"string\""
        },
        {
         "metadata": "{}",
         "name": "name",
         "type": "\"string\""
        },
        {
         "metadata": "{}",
         "name": "size",
         "type": "\"long\""
        },
        {
         "metadata": "{}",
         "name": "modificationTime",
         "type": "\"long\""
        }
       ],
       "type": "table"
      }
     },
     "output_type": "display_data"
    }
   ],
   "source": [
    "%fs ls dbfs:/mnt"
   ]
  },
  {
   "cell_type": "code",
   "execution_count": 0,
   "metadata": {
    "application/vnd.databricks.v1+cell": {
     "cellMetadata": {
      "byteLimit": 2048000,
      "rowLimit": 10000
     },
     "inputWidgets": {},
     "nuid": "f7efe660-d365-4bee-9d21-6378dab6d299",
     "showTitle": false,
     "tableResultSettingsMap": {},
     "title": ""
    }
   },
   "outputs": [
    {
     "output_type": "display_data",
     "data": {
      "text/html": [
       "<style scoped>\n",
       "  .table-result-container {\n",
       "    max-height: 300px;\n",
       "    overflow: auto;\n",
       "  }\n",
       "  table, th, td {\n",
       "    border: 1px solid black;\n",
       "    border-collapse: collapse;\n",
       "  }\n",
       "  th, td {\n",
       "    padding: 5px;\n",
       "  }\n",
       "  th {\n",
       "    text-align: left;\n",
       "  }\n",
       "</style><div class='table-result-container'><table class='table-result'><thead style='background-color: white'><tr><th>path</th><th>name</th><th>size</th><th>modificationTime</th></tr></thead><tbody><tr><td>dbfs:/user/hive/warehouse/employee/_delta_log/</td><td>_delta_log/</td><td>0</td><td>0</td></tr><tr><td>dbfs:/user/hive/warehouse/employee/part-00000-00738347-fba8-41a5-b749-f4015d8587dd-c000.snappy.parquet</td><td>part-00000-00738347-fba8-41a5-b749-f4015d8587dd-c000.snappy.parquet</td><td>1095</td><td>1738602878000</td></tr><tr><td>dbfs:/user/hive/warehouse/employee/part-00000-223e2ff2-ab06-4701-87e5-ec60303626e3-c000.snappy.parquet</td><td>part-00000-223e2ff2-ab06-4701-87e5-ec60303626e3-c000.snappy.parquet</td><td>1095</td><td>1738592363000</td></tr><tr><td>dbfs:/user/hive/warehouse/employee/part-00000-46405bd9-f19f-4fda-8fd0-d12f8050f45e-c000.snappy.parquet</td><td>part-00000-46405bd9-f19f-4fda-8fd0-d12f8050f45e-c000.snappy.parquet</td><td>1211</td><td>1738602999000</td></tr><tr><td>dbfs:/user/hive/warehouse/employee/part-00000-812c4cdb-6ec5-4f9a-be69-394148700cfa-c000.snappy.parquet</td><td>part-00000-812c4cdb-6ec5-4f9a-be69-394148700cfa-c000.snappy.parquet</td><td>1203</td><td>1738602933000</td></tr><tr><td>dbfs:/user/hive/warehouse/employee/part-00000-8643398e-2a34-41e0-997e-5b03cc9c6702-c000.snappy.parquet</td><td>part-00000-8643398e-2a34-41e0-997e-5b03cc9c6702-c000.snappy.parquet</td><td>1095</td><td>1738585480000</td></tr><tr><td>dbfs:/user/hive/warehouse/employee/part-00000-a0857c55-3a22-47ba-aaa8-e24db524c2e3-c000.snappy.parquet</td><td>part-00000-a0857c55-3a22-47ba-aaa8-e24db524c2e3-c000.snappy.parquet</td><td>1095</td><td>1738592345000</td></tr><tr><td>dbfs:/user/hive/warehouse/employee/part-00000-a85d5936-560f-490c-a52b-4cfd1e1a3243-c000.snappy.parquet</td><td>part-00000-a85d5936-560f-490c-a52b-4cfd1e1a3243-c000.snappy.parquet</td><td>1203</td><td>1738602899000</td></tr><tr><td>dbfs:/user/hive/warehouse/employee/part-00000-baaad09d-ed97-44d8-b1d3-657cc0293e5e-c000.snappy.parquet</td><td>part-00000-baaad09d-ed97-44d8-b1d3-657cc0293e5e-c000.snappy.parquet</td><td>1203</td><td>1738592382000</td></tr><tr><td>dbfs:/user/hive/warehouse/employee/part-00000-d45f72b3-b98e-467c-92a8-4a101d657348-c000.snappy.parquet</td><td>part-00000-d45f72b3-b98e-467c-92a8-4a101d657348-c000.snappy.parquet</td><td>1095</td><td>1738585223000</td></tr><tr><td>dbfs:/user/hive/warehouse/employee/part-00000-f369b3e6-2e49-4ed9-8d30-24baddd90868-c000.snappy.parquet</td><td>part-00000-f369b3e6-2e49-4ed9-8d30-24baddd90868-c000.snappy.parquet</td><td>1211</td><td>1738592737000</td></tr><tr><td>dbfs:/user/hive/warehouse/employee/part-00001-205c2193-5af1-4a58-aa9b-1ff8f0547d3f-c000.snappy.parquet</td><td>part-00001-205c2193-5af1-4a58-aa9b-1ff8f0547d3f-c000.snappy.parquet</td><td>1095</td><td>1738602899000</td></tr><tr><td>dbfs:/user/hive/warehouse/employee/part-00001-93e8c82f-810a-46ff-b0f1-97384b6a4412-c000.snappy.parquet</td><td>part-00001-93e8c82f-810a-46ff-b0f1-97384b6a4412-c000.snappy.parquet</td><td>1095</td><td>1738592363000</td></tr></tbody></table></div>"
      ]
     },
     "metadata": {
      "application/vnd.databricks.v1+output": {
       "addedWidgets": {},
       "aggData": [],
       "aggError": "",
       "aggOverflow": false,
       "aggSchema": [],
       "aggSeriesLimitReached": false,
       "aggType": "",
       "arguments": {},
       "columnCustomDisplayInfos": {},
       "data": [
        [
         "dbfs:/user/hive/warehouse/employee/_delta_log/",
         "_delta_log/",
         0,
         0
        ],
        [
         "dbfs:/user/hive/warehouse/employee/part-00000-00738347-fba8-41a5-b749-f4015d8587dd-c000.snappy.parquet",
         "part-00000-00738347-fba8-41a5-b749-f4015d8587dd-c000.snappy.parquet",
         1095,
         1738602878000
        ],
        [
         "dbfs:/user/hive/warehouse/employee/part-00000-223e2ff2-ab06-4701-87e5-ec60303626e3-c000.snappy.parquet",
         "part-00000-223e2ff2-ab06-4701-87e5-ec60303626e3-c000.snappy.parquet",
         1095,
         1738592363000
        ],
        [
         "dbfs:/user/hive/warehouse/employee/part-00000-46405bd9-f19f-4fda-8fd0-d12f8050f45e-c000.snappy.parquet",
         "part-00000-46405bd9-f19f-4fda-8fd0-d12f8050f45e-c000.snappy.parquet",
         1211,
         1738602999000
        ],
        [
         "dbfs:/user/hive/warehouse/employee/part-00000-812c4cdb-6ec5-4f9a-be69-394148700cfa-c000.snappy.parquet",
         "part-00000-812c4cdb-6ec5-4f9a-be69-394148700cfa-c000.snappy.parquet",
         1203,
         1738602933000
        ],
        [
         "dbfs:/user/hive/warehouse/employee/part-00000-8643398e-2a34-41e0-997e-5b03cc9c6702-c000.snappy.parquet",
         "part-00000-8643398e-2a34-41e0-997e-5b03cc9c6702-c000.snappy.parquet",
         1095,
         1738585480000
        ],
        [
         "dbfs:/user/hive/warehouse/employee/part-00000-a0857c55-3a22-47ba-aaa8-e24db524c2e3-c000.snappy.parquet",
         "part-00000-a0857c55-3a22-47ba-aaa8-e24db524c2e3-c000.snappy.parquet",
         1095,
         1738592345000
        ],
        [
         "dbfs:/user/hive/warehouse/employee/part-00000-a85d5936-560f-490c-a52b-4cfd1e1a3243-c000.snappy.parquet",
         "part-00000-a85d5936-560f-490c-a52b-4cfd1e1a3243-c000.snappy.parquet",
         1203,
         1738602899000
        ],
        [
         "dbfs:/user/hive/warehouse/employee/part-00000-baaad09d-ed97-44d8-b1d3-657cc0293e5e-c000.snappy.parquet",
         "part-00000-baaad09d-ed97-44d8-b1d3-657cc0293e5e-c000.snappy.parquet",
         1203,
         1738592382000
        ],
        [
         "dbfs:/user/hive/warehouse/employee/part-00000-d45f72b3-b98e-467c-92a8-4a101d657348-c000.snappy.parquet",
         "part-00000-d45f72b3-b98e-467c-92a8-4a101d657348-c000.snappy.parquet",
         1095,
         1738585223000
        ],
        [
         "dbfs:/user/hive/warehouse/employee/part-00000-f369b3e6-2e49-4ed9-8d30-24baddd90868-c000.snappy.parquet",
         "part-00000-f369b3e6-2e49-4ed9-8d30-24baddd90868-c000.snappy.parquet",
         1211,
         1738592737000
        ],
        [
         "dbfs:/user/hive/warehouse/employee/part-00001-205c2193-5af1-4a58-aa9b-1ff8f0547d3f-c000.snappy.parquet",
         "part-00001-205c2193-5af1-4a58-aa9b-1ff8f0547d3f-c000.snappy.parquet",
         1095,
         1738602899000
        ],
        [
         "dbfs:/user/hive/warehouse/employee/part-00001-93e8c82f-810a-46ff-b0f1-97384b6a4412-c000.snappy.parquet",
         "part-00001-93e8c82f-810a-46ff-b0f1-97384b6a4412-c000.snappy.parquet",
         1095,
         1738592363000
        ]
       ],
       "datasetInfos": [],
       "dbfsResultPath": null,
       "isJsonSchema": true,
       "metadata": {
        "isDbfsCommandResult": false
       },
       "overflow": false,
       "plotOptions": {
        "customPlotOptions": {},
        "displayType": "table",
        "pivotAggregation": null,
        "pivotColumns": null,
        "xColumns": null,
        "yColumns": null
       },
       "removedWidgets": [],
       "schema": [
        {
         "metadata": "{}",
         "name": "path",
         "type": "\"string\""
        },
        {
         "metadata": "{}",
         "name": "name",
         "type": "\"string\""
        },
        {
         "metadata": "{}",
         "name": "size",
         "type": "\"long\""
        },
        {
         "metadata": "{}",
         "name": "modificationTime",
         "type": "\"long\""
        }
       ],
       "type": "table"
      }
     },
     "output_type": "display_data"
    }
   ],
   "source": [
    "%fs ls dbfs:/user/hive/warehouse/employee"
   ]
  },
  {
   "cell_type": "code",
   "execution_count": 0,
   "metadata": {
    "application/vnd.databricks.v1+cell": {
     "cellMetadata": {
      "byteLimit": 2048000,
      "implicitDf": true,
      "rowLimit": 10000
     },
     "inputWidgets": {},
     "nuid": "9856e7b2-7dbf-49c5-a852-c45f5cc53c35",
     "showTitle": false,
     "tableResultSettingsMap": {},
     "title": ""
    }
   },
   "outputs": [
    {
     "output_type": "display_data",
     "data": {
      "text/plain": [
       "\u001B[0;31m---------------------------------------------------------------------------\u001B[0m\n",
       "\u001B[0;31mAnalysisException\u001B[0m                         Traceback (most recent call last)\n",
       "File \u001B[0;32m<command-3804870661721268>:7\u001B[0m\n",
       "\u001B[1;32m      5\u001B[0m     display(df)\n",
       "\u001B[1;32m      6\u001B[0m     \u001B[38;5;28;01mreturn\u001B[39;00m df\n",
       "\u001B[0;32m----> 7\u001B[0m   _sqldf \u001B[38;5;241m=\u001B[39m \u001B[43m____databricks_percent_sql\u001B[49m\u001B[43m(\u001B[49m\u001B[43m)\u001B[49m\n",
       "\u001B[1;32m      8\u001B[0m \u001B[38;5;28;01mfinally\u001B[39;00m:\n",
       "\u001B[1;32m      9\u001B[0m   \u001B[38;5;28;01mdel\u001B[39;00m ____databricks_percent_sql\n",
       "\n",
       "File \u001B[0;32m<command-3804870661721268>:4\u001B[0m, in \u001B[0;36m____databricks_percent_sql\u001B[0;34m()\u001B[0m\n",
       "\u001B[1;32m      2\u001B[0m \u001B[38;5;28;01mdef\u001B[39;00m \u001B[38;5;21m____databricks_percent_sql\u001B[39m():\n",
       "\u001B[1;32m      3\u001B[0m   \u001B[38;5;28;01mimport\u001B[39;00m \u001B[38;5;21;01mbase64\u001B[39;00m\n",
       "\u001B[0;32m----> 4\u001B[0m   df \u001B[38;5;241m=\u001B[39m \u001B[43mspark\u001B[49m\u001B[38;5;241;43m.\u001B[39;49m\u001B[43msql\u001B[49m\u001B[43m(\u001B[49m\u001B[43mbase64\u001B[49m\u001B[38;5;241;43m.\u001B[39;49m\u001B[43mstandard_b64decode\u001B[49m\u001B[43m(\u001B[49m\u001B[38;5;124;43m\"\u001B[39;49m\u001B[38;5;124;43mc2VsZWN0ICogZnJvbSBlbXBsb3llZQ==\u001B[39;49m\u001B[38;5;124;43m\"\u001B[39;49m\u001B[43m)\u001B[49m\u001B[38;5;241;43m.\u001B[39;49m\u001B[43mdecode\u001B[49m\u001B[43m(\u001B[49m\u001B[43m)\u001B[49m\u001B[43m)\u001B[49m\n",
       "\u001B[1;32m      5\u001B[0m   display(df)\n",
       "\u001B[1;32m      6\u001B[0m   \u001B[38;5;28;01mreturn\u001B[39;00m df\n",
       "\n",
       "File \u001B[0;32m/databricks/spark/python/pyspark/instrumentation_utils.py:48\u001B[0m, in \u001B[0;36m_wrap_function.<locals>.wrapper\u001B[0;34m(*args, **kwargs)\u001B[0m\n",
       "\u001B[1;32m     46\u001B[0m start \u001B[38;5;241m=\u001B[39m time\u001B[38;5;241m.\u001B[39mperf_counter()\n",
       "\u001B[1;32m     47\u001B[0m \u001B[38;5;28;01mtry\u001B[39;00m:\n",
       "\u001B[0;32m---> 48\u001B[0m     res \u001B[38;5;241m=\u001B[39m \u001B[43mfunc\u001B[49m\u001B[43m(\u001B[49m\u001B[38;5;241;43m*\u001B[39;49m\u001B[43margs\u001B[49m\u001B[43m,\u001B[49m\u001B[43m \u001B[49m\u001B[38;5;241;43m*\u001B[39;49m\u001B[38;5;241;43m*\u001B[39;49m\u001B[43mkwargs\u001B[49m\u001B[43m)\u001B[49m\n",
       "\u001B[1;32m     49\u001B[0m     logger\u001B[38;5;241m.\u001B[39mlog_success(\n",
       "\u001B[1;32m     50\u001B[0m         module_name, class_name, function_name, time\u001B[38;5;241m.\u001B[39mperf_counter() \u001B[38;5;241m-\u001B[39m start, signature\n",
       "\u001B[1;32m     51\u001B[0m     )\n",
       "\u001B[1;32m     52\u001B[0m     \u001B[38;5;28;01mreturn\u001B[39;00m res\n",
       "\n",
       "File \u001B[0;32m/databricks/spark/python/pyspark/sql/session.py:1387\u001B[0m, in \u001B[0;36mSparkSession.sql\u001B[0;34m(self, sqlQuery, args, **kwargs)\u001B[0m\n",
       "\u001B[1;32m   1385\u001B[0m \u001B[38;5;28;01mtry\u001B[39;00m:\n",
       "\u001B[1;32m   1386\u001B[0m     litArgs \u001B[38;5;241m=\u001B[39m {k: _to_java_column(lit(v)) \u001B[38;5;28;01mfor\u001B[39;00m k, v \u001B[38;5;129;01min\u001B[39;00m (args \u001B[38;5;129;01mor\u001B[39;00m {})\u001B[38;5;241m.\u001B[39mitems()}\n",
       "\u001B[0;32m-> 1387\u001B[0m     \u001B[38;5;28;01mreturn\u001B[39;00m DataFrame(\u001B[38;5;28;43mself\u001B[39;49m\u001B[38;5;241;43m.\u001B[39;49m\u001B[43m_jsparkSession\u001B[49m\u001B[38;5;241;43m.\u001B[39;49m\u001B[43msql\u001B[49m\u001B[43m(\u001B[49m\u001B[43msqlQuery\u001B[49m\u001B[43m,\u001B[49m\u001B[43m \u001B[49m\u001B[43mlitArgs\u001B[49m\u001B[43m)\u001B[49m, \u001B[38;5;28mself\u001B[39m)\n",
       "\u001B[1;32m   1388\u001B[0m \u001B[38;5;28;01mfinally\u001B[39;00m:\n",
       "\u001B[1;32m   1389\u001B[0m     \u001B[38;5;28;01mif\u001B[39;00m \u001B[38;5;28mlen\u001B[39m(kwargs) \u001B[38;5;241m>\u001B[39m \u001B[38;5;241m0\u001B[39m:\n",
       "\n",
       "File \u001B[0;32m/databricks/spark/python/lib/py4j-0.10.9.5-src.zip/py4j/java_gateway.py:1321\u001B[0m, in \u001B[0;36mJavaMember.__call__\u001B[0;34m(self, *args)\u001B[0m\n",
       "\u001B[1;32m   1315\u001B[0m command \u001B[38;5;241m=\u001B[39m proto\u001B[38;5;241m.\u001B[39mCALL_COMMAND_NAME \u001B[38;5;241m+\u001B[39m\\\n",
       "\u001B[1;32m   1316\u001B[0m     \u001B[38;5;28mself\u001B[39m\u001B[38;5;241m.\u001B[39mcommand_header \u001B[38;5;241m+\u001B[39m\\\n",
       "\u001B[1;32m   1317\u001B[0m     args_command \u001B[38;5;241m+\u001B[39m\\\n",
       "\u001B[1;32m   1318\u001B[0m     proto\u001B[38;5;241m.\u001B[39mEND_COMMAND_PART\n",
       "\u001B[1;32m   1320\u001B[0m answer \u001B[38;5;241m=\u001B[39m \u001B[38;5;28mself\u001B[39m\u001B[38;5;241m.\u001B[39mgateway_client\u001B[38;5;241m.\u001B[39msend_command(command)\n",
       "\u001B[0;32m-> 1321\u001B[0m return_value \u001B[38;5;241m=\u001B[39m \u001B[43mget_return_value\u001B[49m\u001B[43m(\u001B[49m\n",
       "\u001B[1;32m   1322\u001B[0m \u001B[43m    \u001B[49m\u001B[43manswer\u001B[49m\u001B[43m,\u001B[49m\u001B[43m \u001B[49m\u001B[38;5;28;43mself\u001B[39;49m\u001B[38;5;241;43m.\u001B[39;49m\u001B[43mgateway_client\u001B[49m\u001B[43m,\u001B[49m\u001B[43m \u001B[49m\u001B[38;5;28;43mself\u001B[39;49m\u001B[38;5;241;43m.\u001B[39;49m\u001B[43mtarget_id\u001B[49m\u001B[43m,\u001B[49m\u001B[43m \u001B[49m\u001B[38;5;28;43mself\u001B[39;49m\u001B[38;5;241;43m.\u001B[39;49m\u001B[43mname\u001B[49m\u001B[43m)\u001B[49m\n",
       "\u001B[1;32m   1324\u001B[0m \u001B[38;5;28;01mfor\u001B[39;00m temp_arg \u001B[38;5;129;01min\u001B[39;00m temp_args:\n",
       "\u001B[1;32m   1325\u001B[0m     temp_arg\u001B[38;5;241m.\u001B[39m_detach()\n",
       "\n",
       "File \u001B[0;32m/databricks/spark/python/pyspark/errors/exceptions.py:234\u001B[0m, in \u001B[0;36mcapture_sql_exception.<locals>.deco\u001B[0;34m(*a, **kw)\u001B[0m\n",
       "\u001B[1;32m    230\u001B[0m converted \u001B[38;5;241m=\u001B[39m convert_exception(e\u001B[38;5;241m.\u001B[39mjava_exception)\n",
       "\u001B[1;32m    231\u001B[0m \u001B[38;5;28;01mif\u001B[39;00m \u001B[38;5;129;01mnot\u001B[39;00m \u001B[38;5;28misinstance\u001B[39m(converted, UnknownException):\n",
       "\u001B[1;32m    232\u001B[0m     \u001B[38;5;66;03m# Hide where the exception came from that shows a non-Pythonic\u001B[39;00m\n",
       "\u001B[1;32m    233\u001B[0m     \u001B[38;5;66;03m# JVM exception message.\u001B[39;00m\n",
       "\u001B[0;32m--> 234\u001B[0m     \u001B[38;5;28;01mraise\u001B[39;00m converted \u001B[38;5;28;01mfrom\u001B[39;00m \u001B[38;5;28mNone\u001B[39m\n",
       "\u001B[1;32m    235\u001B[0m \u001B[38;5;28;01melse\u001B[39;00m:\n",
       "\u001B[1;32m    236\u001B[0m     \u001B[38;5;28;01mraise\u001B[39;00m\n",
       "\n",
       "\u001B[0;31mAnalysisException\u001B[0m: [TABLE_OR_VIEW_NOT_FOUND] The table or view `spark_catalog`.`default`.`employee` cannot be found. Verify the spelling and correctness of the schema and catalog.\n",
       "If you did not qualify the name with a schema, verify the current_schema() output, or qualify the name with the correct schema and catalog.\n",
       "To tolerate the error on drop use DROP VIEW IF EXISTS or DROP TABLE IF EXISTS."
      ]
     },
     "metadata": {
      "application/vnd.databricks.v1+output": {
       "arguments": {},
       "data": "\u001B[0;31m---------------------------------------------------------------------------\u001B[0m\n\u001B[0;31mAnalysisException\u001B[0m                         Traceback (most recent call last)\nFile \u001B[0;32m<command-3804870661721268>:7\u001B[0m\n\u001B[1;32m      5\u001B[0m     display(df)\n\u001B[1;32m      6\u001B[0m     \u001B[38;5;28;01mreturn\u001B[39;00m df\n\u001B[0;32m----> 7\u001B[0m   _sqldf \u001B[38;5;241m=\u001B[39m \u001B[43m____databricks_percent_sql\u001B[49m\u001B[43m(\u001B[49m\u001B[43m)\u001B[49m\n\u001B[1;32m      8\u001B[0m \u001B[38;5;28;01mfinally\u001B[39;00m:\n\u001B[1;32m      9\u001B[0m   \u001B[38;5;28;01mdel\u001B[39;00m ____databricks_percent_sql\n\nFile \u001B[0;32m<command-3804870661721268>:4\u001B[0m, in \u001B[0;36m____databricks_percent_sql\u001B[0;34m()\u001B[0m\n\u001B[1;32m      2\u001B[0m \u001B[38;5;28;01mdef\u001B[39;00m \u001B[38;5;21m____databricks_percent_sql\u001B[39m():\n\u001B[1;32m      3\u001B[0m   \u001B[38;5;28;01mimport\u001B[39;00m \u001B[38;5;21;01mbase64\u001B[39;00m\n\u001B[0;32m----> 4\u001B[0m   df \u001B[38;5;241m=\u001B[39m \u001B[43mspark\u001B[49m\u001B[38;5;241;43m.\u001B[39;49m\u001B[43msql\u001B[49m\u001B[43m(\u001B[49m\u001B[43mbase64\u001B[49m\u001B[38;5;241;43m.\u001B[39;49m\u001B[43mstandard_b64decode\u001B[49m\u001B[43m(\u001B[49m\u001B[38;5;124;43m\"\u001B[39;49m\u001B[38;5;124;43mc2VsZWN0ICogZnJvbSBlbXBsb3llZQ==\u001B[39;49m\u001B[38;5;124;43m\"\u001B[39;49m\u001B[43m)\u001B[49m\u001B[38;5;241;43m.\u001B[39;49m\u001B[43mdecode\u001B[49m\u001B[43m(\u001B[49m\u001B[43m)\u001B[49m\u001B[43m)\u001B[49m\n\u001B[1;32m      5\u001B[0m   display(df)\n\u001B[1;32m      6\u001B[0m   \u001B[38;5;28;01mreturn\u001B[39;00m df\n\nFile \u001B[0;32m/databricks/spark/python/pyspark/instrumentation_utils.py:48\u001B[0m, in \u001B[0;36m_wrap_function.<locals>.wrapper\u001B[0;34m(*args, **kwargs)\u001B[0m\n\u001B[1;32m     46\u001B[0m start \u001B[38;5;241m=\u001B[39m time\u001B[38;5;241m.\u001B[39mperf_counter()\n\u001B[1;32m     47\u001B[0m \u001B[38;5;28;01mtry\u001B[39;00m:\n\u001B[0;32m---> 48\u001B[0m     res \u001B[38;5;241m=\u001B[39m \u001B[43mfunc\u001B[49m\u001B[43m(\u001B[49m\u001B[38;5;241;43m*\u001B[39;49m\u001B[43margs\u001B[49m\u001B[43m,\u001B[49m\u001B[43m \u001B[49m\u001B[38;5;241;43m*\u001B[39;49m\u001B[38;5;241;43m*\u001B[39;49m\u001B[43mkwargs\u001B[49m\u001B[43m)\u001B[49m\n\u001B[1;32m     49\u001B[0m     logger\u001B[38;5;241m.\u001B[39mlog_success(\n\u001B[1;32m     50\u001B[0m         module_name, class_name, function_name, time\u001B[38;5;241m.\u001B[39mperf_counter() \u001B[38;5;241m-\u001B[39m start, signature\n\u001B[1;32m     51\u001B[0m     )\n\u001B[1;32m     52\u001B[0m     \u001B[38;5;28;01mreturn\u001B[39;00m res\n\nFile \u001B[0;32m/databricks/spark/python/pyspark/sql/session.py:1387\u001B[0m, in \u001B[0;36mSparkSession.sql\u001B[0;34m(self, sqlQuery, args, **kwargs)\u001B[0m\n\u001B[1;32m   1385\u001B[0m \u001B[38;5;28;01mtry\u001B[39;00m:\n\u001B[1;32m   1386\u001B[0m     litArgs \u001B[38;5;241m=\u001B[39m {k: _to_java_column(lit(v)) \u001B[38;5;28;01mfor\u001B[39;00m k, v \u001B[38;5;129;01min\u001B[39;00m (args \u001B[38;5;129;01mor\u001B[39;00m {})\u001B[38;5;241m.\u001B[39mitems()}\n\u001B[0;32m-> 1387\u001B[0m     \u001B[38;5;28;01mreturn\u001B[39;00m DataFrame(\u001B[38;5;28;43mself\u001B[39;49m\u001B[38;5;241;43m.\u001B[39;49m\u001B[43m_jsparkSession\u001B[49m\u001B[38;5;241;43m.\u001B[39;49m\u001B[43msql\u001B[49m\u001B[43m(\u001B[49m\u001B[43msqlQuery\u001B[49m\u001B[43m,\u001B[49m\u001B[43m \u001B[49m\u001B[43mlitArgs\u001B[49m\u001B[43m)\u001B[49m, \u001B[38;5;28mself\u001B[39m)\n\u001B[1;32m   1388\u001B[0m \u001B[38;5;28;01mfinally\u001B[39;00m:\n\u001B[1;32m   1389\u001B[0m     \u001B[38;5;28;01mif\u001B[39;00m \u001B[38;5;28mlen\u001B[39m(kwargs) \u001B[38;5;241m>\u001B[39m \u001B[38;5;241m0\u001B[39m:\n\nFile \u001B[0;32m/databricks/spark/python/lib/py4j-0.10.9.5-src.zip/py4j/java_gateway.py:1321\u001B[0m, in \u001B[0;36mJavaMember.__call__\u001B[0;34m(self, *args)\u001B[0m\n\u001B[1;32m   1315\u001B[0m command \u001B[38;5;241m=\u001B[39m proto\u001B[38;5;241m.\u001B[39mCALL_COMMAND_NAME \u001B[38;5;241m+\u001B[39m\\\n\u001B[1;32m   1316\u001B[0m     \u001B[38;5;28mself\u001B[39m\u001B[38;5;241m.\u001B[39mcommand_header \u001B[38;5;241m+\u001B[39m\\\n\u001B[1;32m   1317\u001B[0m     args_command \u001B[38;5;241m+\u001B[39m\\\n\u001B[1;32m   1318\u001B[0m     proto\u001B[38;5;241m.\u001B[39mEND_COMMAND_PART\n\u001B[1;32m   1320\u001B[0m answer \u001B[38;5;241m=\u001B[39m \u001B[38;5;28mself\u001B[39m\u001B[38;5;241m.\u001B[39mgateway_client\u001B[38;5;241m.\u001B[39msend_command(command)\n\u001B[0;32m-> 1321\u001B[0m return_value \u001B[38;5;241m=\u001B[39m \u001B[43mget_return_value\u001B[49m\u001B[43m(\u001B[49m\n\u001B[1;32m   1322\u001B[0m \u001B[43m    \u001B[49m\u001B[43manswer\u001B[49m\u001B[43m,\u001B[49m\u001B[43m \u001B[49m\u001B[38;5;28;43mself\u001B[39;49m\u001B[38;5;241;43m.\u001B[39;49m\u001B[43mgateway_client\u001B[49m\u001B[43m,\u001B[49m\u001B[43m \u001B[49m\u001B[38;5;28;43mself\u001B[39;49m\u001B[38;5;241;43m.\u001B[39;49m\u001B[43mtarget_id\u001B[49m\u001B[43m,\u001B[49m\u001B[43m \u001B[49m\u001B[38;5;28;43mself\u001B[39;49m\u001B[38;5;241;43m.\u001B[39;49m\u001B[43mname\u001B[49m\u001B[43m)\u001B[49m\n\u001B[1;32m   1324\u001B[0m \u001B[38;5;28;01mfor\u001B[39;00m temp_arg \u001B[38;5;129;01min\u001B[39;00m temp_args:\n\u001B[1;32m   1325\u001B[0m     temp_arg\u001B[38;5;241m.\u001B[39m_detach()\n\nFile \u001B[0;32m/databricks/spark/python/pyspark/errors/exceptions.py:234\u001B[0m, in \u001B[0;36mcapture_sql_exception.<locals>.deco\u001B[0;34m(*a, **kw)\u001B[0m\n\u001B[1;32m    230\u001B[0m converted \u001B[38;5;241m=\u001B[39m convert_exception(e\u001B[38;5;241m.\u001B[39mjava_exception)\n\u001B[1;32m    231\u001B[0m \u001B[38;5;28;01mif\u001B[39;00m \u001B[38;5;129;01mnot\u001B[39;00m \u001B[38;5;28misinstance\u001B[39m(converted, UnknownException):\n\u001B[1;32m    232\u001B[0m     \u001B[38;5;66;03m# Hide where the exception came from that shows a non-Pythonic\u001B[39;00m\n\u001B[1;32m    233\u001B[0m     \u001B[38;5;66;03m# JVM exception message.\u001B[39;00m\n\u001B[0;32m--> 234\u001B[0m     \u001B[38;5;28;01mraise\u001B[39;00m converted \u001B[38;5;28;01mfrom\u001B[39;00m \u001B[38;5;28mNone\u001B[39m\n\u001B[1;32m    235\u001B[0m \u001B[38;5;28;01melse\u001B[39;00m:\n\u001B[1;32m    236\u001B[0m     \u001B[38;5;28;01mraise\u001B[39;00m\n\n\u001B[0;31mAnalysisException\u001B[0m: [TABLE_OR_VIEW_NOT_FOUND] The table or view `spark_catalog`.`default`.`employee` cannot be found. Verify the spelling and correctness of the schema and catalog.\nIf you did not qualify the name with a schema, verify the current_schema() output, or qualify the name with the correct schema and catalog.\nTo tolerate the error on drop use DROP VIEW IF EXISTS or DROP TABLE IF EXISTS.",
       "errorSummary": "<span class='ansi-red-fg'>AnalysisException</span>: [TABLE_OR_VIEW_NOT_FOUND] The table or view `spark_catalog`.`default`.`employee` cannot be found. Verify the spelling and correctness of the schema and catalog.\nIf you did not qualify the name with a schema, verify the current_schema() output, or qualify the name with the correct schema and catalog.\nTo tolerate the error on drop use DROP VIEW IF EXISTS or DROP TABLE IF EXISTS.",
       "errorTraceType": "ansi",
       "metadata": {},
       "type": "ipynbError"
      }
     },
     "output_type": "display_data"
    }
   ],
   "source": []
  },
  {
   "cell_type": "code",
   "execution_count": 0,
   "metadata": {
    "application/vnd.databricks.v1+cell": {
     "cellMetadata": {
      "byteLimit": 2048000,
      "rowLimit": 10000
     },
     "inputWidgets": {},
     "nuid": "69bab993-14bf-454f-bc15-fadf0801b3d0",
     "showTitle": false,
     "tableResultSettingsMap": {},
     "title": ""
    }
   },
   "outputs": [
    {
     "output_type": "stream",
     "name": "stdout",
     "output_type": "stream",
     "text": [
      "Out[34]: True"
     ]
    }
   ],
   "source": [
    "dbutils.fs.rm('dbfs:/user/hive/warehouse/employee', True)"
   ]
  },
  {
   "cell_type": "code",
   "execution_count": 0,
   "metadata": {
    "application/vnd.databricks.v1+cell": {
     "cellMetadata": {
      "byteLimit": 2048000,
      "implicitDf": true,
      "rowLimit": 10000
     },
     "inputWidgets": {},
     "nuid": "b43ee7f6-028d-404f-ad8a-35ad1670a48c",
     "showTitle": false,
     "tableResultSettingsMap": {},
     "title": ""
    }
   },
   "outputs": [
    {
     "output_type": "display_data",
     "data": {
      "text/html": [
       "<style scoped>\n",
       "  .table-result-container {\n",
       "    max-height: 300px;\n",
       "    overflow: auto;\n",
       "  }\n",
       "  table, th, td {\n",
       "    border: 1px solid black;\n",
       "    border-collapse: collapse;\n",
       "  }\n",
       "  th, td {\n",
       "    padding: 5px;\n",
       "  }\n",
       "  th {\n",
       "    text-align: left;\n",
       "  }\n",
       "</style><div class='table-result-container'><table class='table-result'><thead style='background-color: white'><tr></tr></thead><tbody></tbody></table></div>"
      ]
     },
     "metadata": {
      "application/vnd.databricks.v1+output": {
       "addedWidgets": {},
       "aggData": [],
       "aggError": "",
       "aggOverflow": false,
       "aggSchema": [],
       "aggSeriesLimitReached": false,
       "aggType": "",
       "arguments": {},
       "columnCustomDisplayInfos": {},
       "data": [],
       "datasetInfos": [],
       "dbfsResultPath": null,
       "isJsonSchema": true,
       "metadata": {},
       "overflow": false,
       "plotOptions": {
        "customPlotOptions": {},
        "displayType": "table",
        "pivotAggregation": null,
        "pivotColumns": null,
        "xColumns": null,
        "yColumns": null
       },
       "removedWidgets": [],
       "schema": [],
       "type": "table"
      }
     },
     "output_type": "display_data"
    }
   ],
   "source": [
    "%sql\n",
    "create database external_db;"
   ]
  },
  {
   "cell_type": "code",
   "execution_count": 0,
   "metadata": {
    "application/vnd.databricks.v1+cell": {
     "cellMetadata": {
      "byteLimit": 2048000,
      "implicitDf": true,
      "rowLimit": 10000
     },
     "inputWidgets": {},
     "nuid": "de8b2ccc-1481-4000-8e69-778a518c3a0f",
     "showTitle": false,
     "tableResultSettingsMap": {},
     "title": ""
    }
   },
   "outputs": [
    {
     "output_type": "display_data",
     "data": {
      "text/html": [
       "<style scoped>\n",
       "  .table-result-container {\n",
       "    max-height: 300px;\n",
       "    overflow: auto;\n",
       "  }\n",
       "  table, th, td {\n",
       "    border: 1px solid black;\n",
       "    border-collapse: collapse;\n",
       "  }\n",
       "  th, td {\n",
       "    padding: 5px;\n",
       "  }\n",
       "  th {\n",
       "    text-align: left;\n",
       "  }\n",
       "</style><div class='table-result-container'><table class='table-result'><thead style='background-color: white'><tr><th>database_description_item</th><th>database_description_value</th></tr></thead><tbody><tr><td>Catalog Name</td><td>spark_catalog</td></tr><tr><td>Namespace Name</td><td>external_db</td></tr><tr><td>Comment</td><td></td></tr><tr><td>Location</td><td>dbfs:/user/hive/warehouse/external_db.db</td></tr><tr><td>Owner</td><td>root</td></tr><tr><td>Properties</td><td></td></tr></tbody></table></div>"
      ]
     },
     "metadata": {
      "application/vnd.databricks.v1+output": {
       "addedWidgets": {},
       "aggData": [],
       "aggError": "",
       "aggOverflow": false,
       "aggSchema": [],
       "aggSeriesLimitReached": false,
       "aggType": "",
       "arguments": {},
       "columnCustomDisplayInfos": {},
       "data": [
        [
         "Catalog Name",
         "spark_catalog"
        ],
        [
         "Namespace Name",
         "external_db"
        ],
        [
         "Comment",
         ""
        ],
        [
         "Location",
         "dbfs:/user/hive/warehouse/external_db.db"
        ],
        [
         "Owner",
         "root"
        ],
        [
         "Properties",
         ""
        ]
       ],
       "datasetInfos": [],
       "dbfsResultPath": null,
       "isJsonSchema": true,
       "metadata": {},
       "overflow": false,
       "plotOptions": {
        "customPlotOptions": {},
        "displayType": "table",
        "pivotAggregation": null,
        "pivotColumns": null,
        "xColumns": null,
        "yColumns": null
       },
       "removedWidgets": [],
       "schema": [
        {
         "metadata": "{\"comment\":\"name of the namespace info\"}",
         "name": "database_description_item",
         "type": "\"string\""
        },
        {
         "metadata": "{\"comment\":\"value of the namespace info\"}",
         "name": "database_description_value",
         "type": "\"string\""
        }
       ],
       "type": "table"
      }
     },
     "output_type": "display_data"
    }
   ],
   "source": [
    "%sql\n",
    "describe database extended external_db;"
   ]
  },
  {
   "cell_type": "code",
   "execution_count": 0,
   "metadata": {
    "application/vnd.databricks.v1+cell": {
     "cellMetadata": {
      "byteLimit": 2048000,
      "implicitDf": true,
      "rowLimit": 10000
     },
     "inputWidgets": {},
     "nuid": "4cb76d82-f28e-43fc-b2d5-88026580bb7d",
     "showTitle": false,
     "tableResultSettingsMap": {},
     "title": ""
    }
   },
   "outputs": [
    {
     "output_type": "display_data",
     "data": {
      "text/html": [
       "<style scoped>\n",
       "  .table-result-container {\n",
       "    max-height: 300px;\n",
       "    overflow: auto;\n",
       "  }\n",
       "  table, th, td {\n",
       "    border: 1px solid black;\n",
       "    border-collapse: collapse;\n",
       "  }\n",
       "  th, td {\n",
       "    padding: 5px;\n",
       "  }\n",
       "  th {\n",
       "    text-align: left;\n",
       "  }\n",
       "</style><div class='table-result-container'><table class='table-result'><thead style='background-color: white'><tr><th>num_affected_rows</th><th>num_inserted_rows</th></tr></thead><tbody><tr><td>10</td><td>10</td></tr></tbody></table></div>"
      ]
     },
     "metadata": {
      "application/vnd.databricks.v1+output": {
       "addedWidgets": {},
       "aggData": [],
       "aggError": "",
       "aggOverflow": false,
       "aggSchema": [],
       "aggSeriesLimitReached": false,
       "aggType": "",
       "arguments": {},
       "columnCustomDisplayInfos": {},
       "data": [
        [
         10,
         10
        ]
       ],
       "datasetInfos": [],
       "dbfsResultPath": null,
       "isJsonSchema": true,
       "metadata": {},
       "overflow": false,
       "plotOptions": {
        "customPlotOptions": {},
        "displayType": "table",
        "pivotAggregation": null,
        "pivotColumns": null,
        "xColumns": null,
        "yColumns": null
       },
       "removedWidgets": [],
       "schema": [
        {
         "metadata": "{}",
         "name": "num_affected_rows",
         "type": "\"long\""
        },
        {
         "metadata": "{}",
         "name": "num_inserted_rows",
         "type": "\"long\""
        }
       ],
       "type": "table"
      }
     },
     "output_type": "display_data"
    }
   ],
   "source": [
    "%sql\n",
    "CREATE TABLE IF NOT EXISTS smartphones\n",
    "(id INT, name STRING, brand STRING, year INT);\n",
    "\n",
    "INSERT INTO smartphones\n",
    "VALUES (1, 'iPhone 14', 'Apple', 2022),\n",
    "      (2, 'iPhone 13', 'Apple', 2021),\n",
    "      (3, 'iPhone 6', 'Apple', 2014),\n",
    "      (4, 'iPad Air', 'Apple', 2013),\n",
    "      (5, 'Galaxy S22', 'Samsung', 2022),\n",
    "      (6, 'Galaxy Z Fold', 'Samsung', 2022),\n",
    "      (7, 'Galaxy S9', 'Samsung', 2016),\n",
    "      (8, '12 Pro', 'Xiaomi', 2022),\n",
    "      (9, 'Redmi 11T Pro', 'Xiaomi', 2022),\n",
    "      (10, 'Redmi Note 11', 'Xiaomi', 2021)"
   ]
  },
  {
   "cell_type": "code",
   "execution_count": 0,
   "metadata": {
    "application/vnd.databricks.v1+cell": {
     "cellMetadata": {
      "byteLimit": 2048000,
      "implicitDf": true,
      "rowLimit": 10000
     },
     "inputWidgets": {},
     "nuid": "aa336d09-6543-4039-a8a2-b19f1a68edb9",
     "showTitle": false,
     "tableResultSettingsMap": {},
     "title": ""
    }
   },
   "outputs": [
    {
     "output_type": "display_data",
     "data": {
      "text/html": [
       "<style scoped>\n",
       "  .table-result-container {\n",
       "    max-height: 300px;\n",
       "    overflow: auto;\n",
       "  }\n",
       "  table, th, td {\n",
       "    border: 1px solid black;\n",
       "    border-collapse: collapse;\n",
       "  }\n",
       "  th, td {\n",
       "    padding: 5px;\n",
       "  }\n",
       "  th {\n",
       "    text-align: left;\n",
       "  }\n",
       "</style><div class='table-result-container'><table class='table-result'><thead style='background-color: white'><tr></tr></thead><tbody></tbody></table></div>"
      ]
     },
     "metadata": {
      "application/vnd.databricks.v1+output": {
       "addedWidgets": {},
       "aggData": [],
       "aggError": "",
       "aggOverflow": false,
       "aggSchema": [],
       "aggSeriesLimitReached": false,
       "aggType": "",
       "arguments": {},
       "columnCustomDisplayInfos": {},
       "data": [],
       "datasetInfos": [],
       "dbfsResultPath": null,
       "isJsonSchema": true,
       "metadata": {},
       "overflow": false,
       "plotOptions": {
        "customPlotOptions": {},
        "displayType": "table",
        "pivotAggregation": null,
        "pivotColumns": null,
        "xColumns": null,
        "yColumns": null
       },
       "removedWidgets": [],
       "schema": [],
       "type": "table"
      }
     },
     "output_type": "display_data"
    }
   ],
   "source": [
    "%sql\n",
    "create or replace view apple_smartphone as \n",
    "select * from smartphones \n",
    "where brand = 'Apple';"
   ]
  },
  {
   "cell_type": "code",
   "execution_count": 0,
   "metadata": {
    "application/vnd.databricks.v1+cell": {
     "cellMetadata": {
      "byteLimit": 2048000,
      "implicitDf": true,
      "rowLimit": 10000
     },
     "inputWidgets": {},
     "nuid": "7130b1bb-9ad6-44a8-86a1-d2252607389e",
     "showTitle": false,
     "tableResultSettingsMap": {},
     "title": ""
    }
   },
   "outputs": [
    {
     "output_type": "display_data",
     "data": {
      "text/html": [
       "<style scoped>\n",
       "  .table-result-container {\n",
       "    max-height: 300px;\n",
       "    overflow: auto;\n",
       "  }\n",
       "  table, th, td {\n",
       "    border: 1px solid black;\n",
       "    border-collapse: collapse;\n",
       "  }\n",
       "  th, td {\n",
       "    padding: 5px;\n",
       "  }\n",
       "  th {\n",
       "    text-align: left;\n",
       "  }\n",
       "</style><div class='table-result-container'><table class='table-result'><thead style='background-color: white'><tr><th>id</th><th>name</th><th>brand</th><th>year</th></tr></thead><tbody><tr><td>1</td><td>iPhone 14</td><td>Apple</td><td>2022</td></tr><tr><td>2</td><td>iPhone 13</td><td>Apple</td><td>2021</td></tr><tr><td>3</td><td>iPhone 6</td><td>Apple</td><td>2014</td></tr><tr><td>4</td><td>iPad Air</td><td>Apple</td><td>2013</td></tr></tbody></table></div>"
      ]
     },
     "metadata": {
      "application/vnd.databricks.v1+output": {
       "addedWidgets": {},
       "aggData": [],
       "aggError": "",
       "aggOverflow": false,
       "aggSchema": [],
       "aggSeriesLimitReached": false,
       "aggType": "",
       "arguments": {},
       "columnCustomDisplayInfos": {},
       "data": [
        [
         1,
         "iPhone 14",
         "Apple",
         2022
        ],
        [
         2,
         "iPhone 13",
         "Apple",
         2021
        ],
        [
         3,
         "iPhone 6",
         "Apple",
         2014
        ],
        [
         4,
         "iPad Air",
         "Apple",
         2013
        ]
       ],
       "datasetInfos": [],
       "dbfsResultPath": null,
       "isJsonSchema": true,
       "metadata": {},
       "overflow": false,
       "plotOptions": {
        "customPlotOptions": {},
        "displayType": "table",
        "pivotAggregation": null,
        "pivotColumns": null,
        "xColumns": null,
        "yColumns": null
       },
       "removedWidgets": [],
       "schema": [
        {
         "metadata": "{}",
         "name": "id",
         "type": "\"integer\""
        },
        {
         "metadata": "{}",
         "name": "name",
         "type": "\"string\""
        },
        {
         "metadata": "{}",
         "name": "brand",
         "type": "\"string\""
        },
        {
         "metadata": "{}",
         "name": "year",
         "type": "\"integer\""
        }
       ],
       "type": "table"
      }
     },
     "output_type": "display_data"
    }
   ],
   "source": [
    "%sql\n",
    "select * from apple_smartphone;"
   ]
  },
  {
   "cell_type": "code",
   "execution_count": 0,
   "metadata": {
    "application/vnd.databricks.v1+cell": {
     "cellMetadata": {
      "byteLimit": 2048000,
      "implicitDf": true,
      "rowLimit": 10000
     },
     "inputWidgets": {},
     "nuid": "7748abdc-3e2f-4983-89c6-15bc119dcefd",
     "showTitle": false,
     "tableResultSettingsMap": {},
     "title": ""
    }
   },
   "outputs": [
    {
     "output_type": "display_data",
     "data": {
      "text/html": [
       "<style scoped>\n",
       "  .table-result-container {\n",
       "    max-height: 300px;\n",
       "    overflow: auto;\n",
       "  }\n",
       "  table, th, td {\n",
       "    border: 1px solid black;\n",
       "    border-collapse: collapse;\n",
       "  }\n",
       "  th, td {\n",
       "    padding: 5px;\n",
       "  }\n",
       "  th {\n",
       "    text-align: left;\n",
       "  }\n",
       "</style><div class='table-result-container'><table class='table-result'><thead style='background-color: white'><tr><th>database</th><th>tableName</th><th>isTemporary</th></tr></thead><tbody><tr><td>default</td><td>apple_smartphone</td><td>false</td></tr><tr><td>default</td><td>smartphones</td><td>false</td></tr></tbody></table></div>"
      ]
     },
     "metadata": {
      "application/vnd.databricks.v1+output": {
       "addedWidgets": {},
       "aggData": [],
       "aggError": "",
       "aggOverflow": false,
       "aggSchema": [],
       "aggSeriesLimitReached": false,
       "aggType": "",
       "arguments": {},
       "columnCustomDisplayInfos": {},
       "data": [
        [
         "default",
         "apple_smartphone",
         false
        ],
        [
         "default",
         "smartphones",
         false
        ]
       ],
       "datasetInfos": [],
       "dbfsResultPath": null,
       "isJsonSchema": true,
       "metadata": {},
       "overflow": false,
       "plotOptions": {
        "customPlotOptions": {},
        "displayType": "table",
        "pivotAggregation": null,
        "pivotColumns": null,
        "xColumns": null,
        "yColumns": null
       },
       "removedWidgets": [],
       "schema": [
        {
         "metadata": "{}",
         "name": "database",
         "type": "\"string\""
        },
        {
         "metadata": "{}",
         "name": "tableName",
         "type": "\"string\""
        },
        {
         "metadata": "{}",
         "name": "isTemporary",
         "type": "\"boolean\""
        }
       ],
       "type": "table"
      }
     },
     "output_type": "display_data"
    }
   ],
   "source": [
    "%sql\n",
    "show tables"
   ]
  },
  {
   "cell_type": "code",
   "execution_count": 0,
   "metadata": {
    "application/vnd.databricks.v1+cell": {
     "cellMetadata": {
      "byteLimit": 2048000,
      "implicitDf": true,
      "rowLimit": 10000
     },
     "inputWidgets": {},
     "nuid": "863b9879-a05e-454b-8c21-67397e2e5d67",
     "showTitle": false,
     "tableResultSettingsMap": {},
     "title": ""
    }
   },
   "outputs": [
    {
     "output_type": "display_data",
     "data": {
      "text/html": [
       "<style scoped>\n",
       "  .table-result-container {\n",
       "    max-height: 300px;\n",
       "    overflow: auto;\n",
       "  }\n",
       "  table, th, td {\n",
       "    border: 1px solid black;\n",
       "    border-collapse: collapse;\n",
       "  }\n",
       "  th, td {\n",
       "    padding: 5px;\n",
       "  }\n",
       "  th {\n",
       "    text-align: left;\n",
       "  }\n",
       "</style><div class='table-result-container'><table class='table-result'><thead style='background-color: white'><tr></tr></thead><tbody></tbody></table></div>"
      ]
     },
     "metadata": {
      "application/vnd.databricks.v1+output": {
       "addedWidgets": {},
       "aggData": [],
       "aggError": "",
       "aggOverflow": false,
       "aggSchema": [],
       "aggSeriesLimitReached": false,
       "aggType": "",
       "arguments": {},
       "columnCustomDisplayInfos": {},
       "data": [],
       "datasetInfos": [],
       "dbfsResultPath": null,
       "isJsonSchema": true,
       "metadata": {},
       "overflow": false,
       "plotOptions": {
        "customPlotOptions": {},
        "displayType": "table",
        "pivotAggregation": null,
        "pivotColumns": null,
        "xColumns": null,
        "yColumns": null
       },
       "removedWidgets": [],
       "schema": [],
       "type": "table"
      }
     },
     "output_type": "display_data"
    }
   ],
   "source": [
    "%sql\n",
    "create temp view unique_phones as \n",
    "select brand,count(*) from smartphones\n",
    "group by brand;"
   ]
  },
  {
   "cell_type": "code",
   "execution_count": 0,
   "metadata": {
    "application/vnd.databricks.v1+cell": {
     "cellMetadata": {
      "byteLimit": 2048000,
      "implicitDf": true,
      "rowLimit": 10000
     },
     "inputWidgets": {},
     "nuid": "c4509ba1-7da4-4e4b-b557-3e6f6ac0a52e",
     "showTitle": false,
     "tableResultSettingsMap": {},
     "title": ""
    }
   },
   "outputs": [
    {
     "output_type": "display_data",
     "data": {
      "text/html": [
       "<style scoped>\n",
       "  .table-result-container {\n",
       "    max-height: 300px;\n",
       "    overflow: auto;\n",
       "  }\n",
       "  table, th, td {\n",
       "    border: 1px solid black;\n",
       "    border-collapse: collapse;\n",
       "  }\n",
       "  th, td {\n",
       "    padding: 5px;\n",
       "  }\n",
       "  th {\n",
       "    text-align: left;\n",
       "  }\n",
       "</style><div class='table-result-container'><table class='table-result'><thead style='background-color: white'><tr><th>brand</th><th>count(1)</th></tr></thead><tbody><tr><td>Xiaomi</td><td>3</td></tr><tr><td>Samsung</td><td>3</td></tr><tr><td>Apple</td><td>4</td></tr></tbody></table></div>"
      ]
     },
     "metadata": {
      "application/vnd.databricks.v1+output": {
       "addedWidgets": {},
       "aggData": [],
       "aggError": "",
       "aggOverflow": false,
       "aggSchema": [],
       "aggSeriesLimitReached": false,
       "aggType": "",
       "arguments": {},
       "columnCustomDisplayInfos": {},
       "data": [
        [
         "Xiaomi",
         3
        ],
        [
         "Samsung",
         3
        ],
        [
         "Apple",
         4
        ]
       ],
       "datasetInfos": [],
       "dbfsResultPath": null,
       "isJsonSchema": true,
       "metadata": {},
       "overflow": false,
       "plotOptions": {
        "customPlotOptions": {},
        "displayType": "table",
        "pivotAggregation": null,
        "pivotColumns": null,
        "xColumns": null,
        "yColumns": null
       },
       "removedWidgets": [],
       "schema": [
        {
         "metadata": "{}",
         "name": "brand",
         "type": "\"string\""
        },
        {
         "metadata": "{}",
         "name": "count(1)",
         "type": "\"long\""
        }
       ],
       "type": "table"
      }
     },
     "output_type": "display_data"
    }
   ],
   "source": [
    "%sql\n",
    "select * from unique_phones;"
   ]
  },
  {
   "cell_type": "code",
   "execution_count": 0,
   "metadata": {
    "application/vnd.databricks.v1+cell": {
     "cellMetadata": {
      "byteLimit": 2048000,
      "implicitDf": true,
      "rowLimit": 10000
     },
     "inputWidgets": {},
     "nuid": "b93a0cfb-de12-473a-97b5-b6c088b5e179",
     "showTitle": false,
     "tableResultSettingsMap": {},
     "title": ""
    }
   },
   "outputs": [
    {
     "output_type": "display_data",
     "data": {
      "text/html": [
       "<style scoped>\n",
       "  .table-result-container {\n",
       "    max-height: 300px;\n",
       "    overflow: auto;\n",
       "  }\n",
       "  table, th, td {\n",
       "    border: 1px solid black;\n",
       "    border-collapse: collapse;\n",
       "  }\n",
       "  th, td {\n",
       "    padding: 5px;\n",
       "  }\n",
       "  th {\n",
       "    text-align: left;\n",
       "  }\n",
       "</style><div class='table-result-container'><table class='table-result'><thead style='background-color: white'><tr><th>database</th><th>tableName</th><th>isTemporary</th></tr></thead><tbody><tr><td>default</td><td>apple_smartphone</td><td>false</td></tr><tr><td>default</td><td>smartphones</td><td>false</td></tr><tr><td></td><td>unique_phones</td><td>true</td></tr></tbody></table></div>"
      ]
     },
     "metadata": {
      "application/vnd.databricks.v1+output": {
       "addedWidgets": {},
       "aggData": [],
       "aggError": "",
       "aggOverflow": false,
       "aggSchema": [],
       "aggSeriesLimitReached": false,
       "aggType": "",
       "arguments": {},
       "columnCustomDisplayInfos": {},
       "data": [
        [
         "default",
         "apple_smartphone",
         false
        ],
        [
         "default",
         "smartphones",
         false
        ],
        [
         "",
         "unique_phones",
         true
        ]
       ],
       "datasetInfos": [],
       "dbfsResultPath": null,
       "isJsonSchema": true,
       "metadata": {},
       "overflow": false,
       "plotOptions": {
        "customPlotOptions": {},
        "displayType": "table",
        "pivotAggregation": null,
        "pivotColumns": null,
        "xColumns": null,
        "yColumns": null
       },
       "removedWidgets": [],
       "schema": [
        {
         "metadata": "{}",
         "name": "database",
         "type": "\"string\""
        },
        {
         "metadata": "{}",
         "name": "tableName",
         "type": "\"string\""
        },
        {
         "metadata": "{}",
         "name": "isTemporary",
         "type": "\"boolean\""
        }
       ],
       "type": "table"
      }
     },
     "output_type": "display_data"
    }
   ],
   "source": [
    "%sql\n",
    "show tables;"
   ]
  },
  {
   "cell_type": "code",
   "execution_count": 0,
   "metadata": {
    "application/vnd.databricks.v1+cell": {
     "cellMetadata": {
      "byteLimit": 2048000,
      "implicitDf": true,
      "rowLimit": 10000
     },
     "inputWidgets": {},
     "nuid": "7d1e9412-db2f-49b4-8a8a-8623397724ca",
     "showTitle": false,
     "tableResultSettingsMap": {},
     "title": ""
    }
   },
   "outputs": [
    {
     "output_type": "display_data",
     "data": {
      "text/html": [
       "<style scoped>\n",
       "  .table-result-container {\n",
       "    max-height: 300px;\n",
       "    overflow: auto;\n",
       "  }\n",
       "  table, th, td {\n",
       "    border: 1px solid black;\n",
       "    border-collapse: collapse;\n",
       "  }\n",
       "  th, td {\n",
       "    padding: 5px;\n",
       "  }\n",
       "  th {\n",
       "    text-align: left;\n",
       "  }\n",
       "</style><div class='table-result-container'><table class='table-result'><thead style='background-color: white'><tr><th>name</th><th>year</th></tr></thead><tbody><tr><td>iPhone 14</td><td>2022</td></tr><tr><td>iPhone 13</td><td>2021</td></tr><tr><td>Galaxy S22</td><td>2022</td></tr><tr><td>Galaxy Z Fold</td><td>2022</td></tr><tr><td>12 Pro</td><td>2022</td></tr><tr><td>Redmi 11T Pro</td><td>2022</td></tr><tr><td>Redmi Note 11</td><td>2021</td></tr></tbody></table></div>"
      ]
     },
     "metadata": {
      "application/vnd.databricks.v1+output": {
       "addedWidgets": {},
       "aggData": [],
       "aggError": "",
       "aggOverflow": false,
       "aggSchema": [],
       "aggSeriesLimitReached": false,
       "aggType": "",
       "arguments": {},
       "columnCustomDisplayInfos": {},
       "data": [
        [
         "iPhone 14",
         2022
        ],
        [
         "iPhone 13",
         2021
        ],
        [
         "Galaxy S22",
         2022
        ],
        [
         "Galaxy Z Fold",
         2022
        ],
        [
         "12 Pro",
         2022
        ],
        [
         "Redmi 11T Pro",
         2022
        ],
        [
         "Redmi Note 11",
         2021
        ]
       ],
       "datasetInfos": [],
       "dbfsResultPath": null,
       "isJsonSchema": true,
       "metadata": {},
       "overflow": false,
       "plotOptions": {
        "customPlotOptions": {},
        "displayType": "table",
        "pivotAggregation": null,
        "pivotColumns": null,
        "xColumns": null,
        "yColumns": null
       },
       "removedWidgets": [],
       "schema": [
        {
         "metadata": "{}",
         "name": "name",
         "type": "\"string\""
        },
        {
         "metadata": "{}",
         "name": "year",
         "type": "\"integer\""
        }
       ],
       "type": "table"
      }
     },
     "output_type": "display_data"
    }
   ],
   "source": [
    "%sql\n",
    "create global temp view latest_phones as \n",
    "select name,year from smartphones\n",
    "where year > 2020;\n",
    "\n",
    "select * from global_temp.latest_phones;"
   ]
  },
  {
   "cell_type": "code",
   "execution_count": 0,
   "metadata": {
    "application/vnd.databricks.v1+cell": {
     "cellMetadata": {
      "byteLimit": 2048000,
      "implicitDf": true,
      "rowLimit": 10000
     },
     "inputWidgets": {},
     "nuid": "984d99fa-30de-4089-999b-495a11d6d1f9",
     "showTitle": false,
     "tableResultSettingsMap": {},
     "title": ""
    }
   },
   "outputs": [
    {
     "output_type": "display_data",
     "data": {
      "text/html": [
       "<style scoped>\n",
       "  .table-result-container {\n",
       "    max-height: 300px;\n",
       "    overflow: auto;\n",
       "  }\n",
       "  table, th, td {\n",
       "    border: 1px solid black;\n",
       "    border-collapse: collapse;\n",
       "  }\n",
       "  th, td {\n",
       "    padding: 5px;\n",
       "  }\n",
       "  th {\n",
       "    text-align: left;\n",
       "  }\n",
       "</style><div class='table-result-container'><table class='table-result'><thead style='background-color: white'><tr><th>database</th><th>tableName</th><th>isTemporary</th></tr></thead><tbody><tr><td>global_temp</td><td>latest_phones</td><td>true</td></tr><tr><td></td><td>unique_phones</td><td>true</td></tr></tbody></table></div>"
      ]
     },
     "metadata": {
      "application/vnd.databricks.v1+output": {
       "addedWidgets": {},
       "aggData": [],
       "aggError": "",
       "aggOverflow": false,
       "aggSchema": [],
       "aggSeriesLimitReached": false,
       "aggType": "",
       "arguments": {},
       "columnCustomDisplayInfos": {},
       "data": [
        [
         "global_temp",
         "latest_phones",
         true
        ],
        [
         "",
         "unique_phones",
         true
        ]
       ],
       "datasetInfos": [],
       "dbfsResultPath": null,
       "isJsonSchema": true,
       "metadata": {},
       "overflow": false,
       "plotOptions": {
        "customPlotOptions": {},
        "displayType": "table",
        "pivotAggregation": null,
        "pivotColumns": null,
        "xColumns": null,
        "yColumns": null
       },
       "removedWidgets": [],
       "schema": [
        {
         "metadata": "{}",
         "name": "database",
         "type": "\"string\""
        },
        {
         "metadata": "{}",
         "name": "tableName",
         "type": "\"string\""
        },
        {
         "metadata": "{}",
         "name": "isTemporary",
         "type": "\"boolean\""
        }
       ],
       "type": "table"
      }
     },
     "output_type": "display_data"
    }
   ],
   "source": [
    "%sql\n",
    "show tables in global_temp; "
   ]
  },
  {
   "cell_type": "code",
   "execution_count": 0,
   "metadata": {
    "application/vnd.databricks.v1+cell": {
     "cellMetadata": {},
     "inputWidgets": {},
     "nuid": "ff38fc1f-ba93-4b9f-a503-63a10afc61fb",
     "showTitle": false,
     "tableResultSettingsMap": {},
     "title": ""
    }
   },
   "outputs": [],
   "source": []
  },
  {
   "cell_type": "code",
   "execution_count": 0,
   "metadata": {
    "application/vnd.databricks.v1+cell": {
     "cellMetadata": {},
     "inputWidgets": {},
     "nuid": "c65578fc-ff2e-4b0e-8ac3-a8c9b20a51d3",
     "showTitle": false,
     "tableResultSettingsMap": {},
     "title": ""
    }
   },
   "outputs": [],
   "source": []
  },
  {
   "cell_type": "code",
   "execution_count": 0,
   "metadata": {
    "application/vnd.databricks.v1+cell": {
     "cellMetadata": {},
     "inputWidgets": {},
     "nuid": "fa68422e-bdb9-4e9d-9423-70d6b14f1e7b",
     "showTitle": false,
     "tableResultSettingsMap": {},
     "title": ""
    }
   },
   "outputs": [],
   "source": []
  },
  {
   "cell_type": "code",
   "execution_count": 0,
   "metadata": {
    "application/vnd.databricks.v1+cell": {
     "cellMetadata": {},
     "inputWidgets": {},
     "nuid": "bb25bc06-2c92-447d-81a1-3fd450defbbc",
     "showTitle": false,
     "tableResultSettingsMap": {},
     "title": ""
    }
   },
   "outputs": [],
   "source": []
  }
 ],
 "metadata": {
  "application/vnd.databricks.v1+notebook": {
   "computePreferences": null,
   "dashboards": [],
   "environmentMetadata": {
    "base_environment": "",
    "client": "1"
   },
   "language": "python",
   "notebookMetadata": {
    "mostRecentlyExecutedCommandWithImplicitDF": {
     "commandId": 3804870661721280,
     "dataframes": [
      "_sqldf"
     ]
    },
    "pythonIndentUnit": 4
   },
   "notebookName": "Lakehouse_Platform",
   "widgets": {}
  }
 },
 "nbformat": 4,
 "nbformat_minor": 0
}
