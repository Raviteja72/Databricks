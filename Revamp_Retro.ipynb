{
 "cells": [
  {
   "cell_type": "code",
   "execution_count": 0,
   "metadata": {
    "application/vnd.databricks.v1+cell": {
     "cellMetadata": {},
     "inputWidgets": {},
     "nuid": "318acbfc-3a5b-4ee1-9659-4dbee0c892fa",
     "showTitle": false,
     "tableResultSettingsMap": {},
     "title": ""
    }
   },
   "outputs": [],
   "source": [
    "CREATE OR REFRESH STREAMING LIVE TABLE orders_raw\n",
    "COMMENT \"The raw books orders, ingested from orders-raw\"\n",
    "AS SELECT * FROM cloud_files(\"${datasets.path}/orders-json-raw\", \"json\",\n",
    "                             map(\"cloudFiles.inferColumnTypes\", \"true\"))"
   ]
  },
  {
   "cell_type": "code",
   "execution_count": 0,
   "metadata": {
    "application/vnd.databricks.v1+cell": {
     "cellMetadata": {},
     "inputWidgets": {},
     "nuid": "135f13c3-b639-4215-b6b1-e742955f57d4",
     "showTitle": false,
     "tableResultSettingsMap": {},
     "title": ""
    }
   },
   "outputs": [],
   "source": [
    "CREATE OR REFRESH LIVE TABLE customers\n",
    "COMMENT \"The customers lookup table, ingested from customers-json\"\n",
    "AS SELECT * FROM json.`${datasets.path}/customers-json`"
   ]
  },
  {
   "cell_type": "code",
   "execution_count": 0,
   "metadata": {
    "application/vnd.databricks.v1+cell": {
     "cellMetadata": {},
     "inputWidgets": {},
     "nuid": "519a5353-fcc9-4e23-8cd5-a5bdb34a46c0",
     "showTitle": false,
     "tableResultSettingsMap": {},
     "title": ""
    }
   },
   "outputs": [],
   "source": [
    "CREATE OR REFRESH STREAMING LIVE TABLE orders_cleaned (\n",
    "  CONSTRAINT valid_order_number EXPECT (order_id IS NOT NULL) ON VIOLATION DROP ROW\n",
    ")\n",
    "COMMENT \"The cleaned books orders with valid order_id\"\n",
    "AS\n",
    "  SELECT order_id, quantity, o.customer_id, c.profile:first_name as f_name, c.profile:last_name as l_name,\n",
    "         cast(from_unixtime(order_timestamp, 'yyyy-MM-dd HH:mm:ss') AS timestamp) order_timestamp, o.books,\n",
    "         c.profile:address:country as country\n",
    "  FROM STREAM(LIVE.orders_raw) o\n",
    "  LEFT JOIN LIVE.customers c\n",
    "    ON o.customer_id = c.customer_id"
   ]
  },
  {
   "cell_type": "code",
   "execution_count": 0,
   "metadata": {
    "application/vnd.databricks.v1+cell": {
     "cellMetadata": {},
     "inputWidgets": {},
     "nuid": "22000444-88ac-412c-87ae-40d8bde3608a",
     "showTitle": false,
     "tableResultSettingsMap": {},
     "title": ""
    }
   },
   "outputs": [],
   "source": [
    "CREATE OR REFRESH LIVE TABLE cn_daily_customer_books\n",
    "COMMENT \"Daily number of books per customer in China\"\n",
    "AS\n",
    "  SELECT customer_id, f_name, l_name, date_trunc(\"DD\", order_timestamp) order_date, sum(quantity) books_counts\n",
    "  FROM LIVE.orders_cleaned\n",
    "  WHERE country = \"China\"\n",
    "  GROUP BY customer_id, f_name, l_name, date_trunc(\"DD\", order_timestamp)"
   ]
  },
  {
   "cell_type": "code",
   "execution_count": 0,
   "metadata": {
    "application/vnd.databricks.v1+cell": {
     "cellMetadata": {},
     "inputWidgets": {},
     "nuid": "785e63d1-3d69-49fb-97a1-8a794c0030b3",
     "showTitle": false,
     "tableResultSettingsMap": {},
     "title": ""
    }
   },
   "outputs": [],
   "source": [
    "CREATE OR REFRESH LIVE TABLE fr_daily_customer_books\n",
    "COMMENT \"Daily number of books per customer in France\"\n",
    "AS\n",
    "  SELECT customer_id, f_name, l_name, date_trunc(\"DD\", order_timestamp) order_date, sum(quantity) books_counts\n",
    "  FROM LIVE.orders_cleaned\n",
    "  WHERE country = \"France\"\n",
    "  GROUP BY customer_id, f_name, l_name, date_trunc(\"DD\", order_timestamp)"
   ]
  }
 ],
 "metadata": {
  "application/vnd.databricks.v1+notebook": {
   "computePreferences": null,
   "dashboards": [],
   "environmentMetadata": {
    "base_environment": "",
    "environment_version": "2"
   },
   "language": "sql",
   "notebookMetadata": {},
   "notebookName": "Revamp_Retro",
   "widgets": {}
  },
  "language_info": {
   "name": "sql"
  }
 },
 "nbformat": 4,
 "nbformat_minor": 0
}