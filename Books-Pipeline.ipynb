{
 "cells": [
  {
   "cell_type": "code",
   "execution_count": 0,
   "metadata": {
    "application/vnd.databricks.v1+cell": {
     "cellMetadata": {
      "byteLimit": 2048000,
      "rowLimit": 10000
     },
     "inputWidgets": {},
     "nuid": "53f70d31-f3be-463e-bbd8-283a1f25085d",
     "showTitle": false,
     "tableResultSettingsMap": {},
     "title": ""
    }
   },
   "outputs": [],
   "source": [
    "Create or Refresh Streaming Live Table Bronze_Table\n",
    "Comment \"This contains raw books data\"\n",
    "as Select * from cloud_files('dbfs:/mnt/demo-datasets/bookstore/books-cdc','json') ;"
   ]
  },
  {
   "cell_type": "code",
   "execution_count": 0,
   "metadata": {
    "application/vnd.databricks.v1+cell": {
     "cellMetadata": {
      "byteLimit": 2048000,
      "rowLimit": 10000
     },
     "inputWidgets": {},
     "nuid": "4ef46705-1f9a-4685-a770-c9bc9ada9d4b",
     "showTitle": false,
     "tableResultSettingsMap": {},
     "title": ""
    }
   },
   "outputs": [],
   "source": [
    "Create or Refresh Streaming Live Table Silver_Table;\n",
    "\n",
    "APPLY CHANGES INTO LIVE.Silver_Table\n",
    "  FROM STREAM(LIVE.Bronze_Table)\n",
    "  KEYS (book_id)\n",
    "  APPLY AS DELETE WHEN ROW_STATUS = \"DELETE\"\n",
    "  SEQUENCE BY row_time\n",
    "  COLUMNS * EXCEPT (ROW_STATUS, ROW_TIME);"
   ]
  },
  {
   "cell_type": "code",
   "execution_count": 0,
   "metadata": {
    "application/vnd.databricks.v1+cell": {
     "cellMetadata": {
      "byteLimit": 2048000,
      "rowLimit": 10000
     },
     "inputWidgets": {},
     "nuid": "c55e28ac-c1e6-4874-a046-396a00ab51f2",
     "showTitle": false,
     "tableResultSettingsMap": {},
     "title": ""
    }
   },
   "outputs": [],
   "source": [
    "CREATE OR REFRESH LIVE TABLE Gold_Table\n",
    "COMMENT \"Author books count\"\n",
    "AS SELECT author, count(*) as Author_Books_Count, current_timestamp() as Updated_time\n",
    "from LIVE.Silver_Table\n",
    "Group By author;"
   ]
  },
  {
   "cell_type": "code",
   "execution_count": 0,
   "metadata": {
    "application/vnd.databricks.v1+cell": {
     "cellMetadata": {
      "byteLimit": 2048000,
      "rowLimit": 10000
     },
     "inputWidgets": {},
     "nuid": "fc4d55fc-75a7-4d17-954e-4afd4764900d",
     "showTitle": false,
     "tableResultSettingsMap": {},
     "title": ""
    }
   },
   "outputs": [],
   "source": [
    "Create Live View books_sales as \n",
    "Select b.title, o.book.quantity from (\n",
    "  select *, explode(books) as book\n",
    "  from Live.orders_cleaned) as o\n",
    "  inner join Live.Silver_Table as b\n",
    "  on b.book_id = o.book.book_id;"
   ]
  }
 ],
 "metadata": {
  "application/vnd.databricks.v1+notebook": {
   "computePreferences": null,
   "dashboards": [],
   "environmentMetadata": {
    "base_environment": "",
    "environment_version": "2"
   },
   "language": "sql",
   "notebookMetadata": {
    "mostRecentlyExecutedCommandWithImplicitDF": {
     "commandId": 7456852428518104,
     "dataframes": [
      "_sqldf"
     ]
    }
   },
   "notebookName": "Books-Pipeline",
   "widgets": {}
  },
  "language_info": {
   "name": "sql"
  }
 },
 "nbformat": 4,
 "nbformat_minor": 0
}
